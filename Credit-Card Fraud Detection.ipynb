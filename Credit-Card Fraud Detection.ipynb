{
 "cells": [
  {
   "cell_type": "markdown",
   "metadata": {},
   "source": [
    "# Credit-Card Fraud Detection Predictive Models"
   ]
  },
  {
   "cell_type": "markdown",
   "metadata": {},
   "source": [
    "Due to confidentiality issues, they are not provided the original features and more background information about the data.\n",
    "\n",
    "Features V1, V2, ... V28 are the principal components obtained with PCA;\n",
    "The only features which have not been transformed with PCA are Time and Amount. \n",
    "Feature Class is the response variable and it takes value 1 in case of fraud and 0 otherwise.\n",
    "\n",
    "The datasets contains transactions made by credit cards in September 2013 by cardholders."
   ]
  },
  {
   "cell_type": "code",
   "execution_count": 1,
   "metadata": {},
   "outputs": [
    {
     "data": {
      "text/html": [
       "        <script type=\"text/javascript\">\n",
       "        window.PlotlyConfig = {MathJaxConfig: 'local'};\n",
       "        if (window.MathJax) {MathJax.Hub.Config({SVG: {font: \"STIX-Web\"}});}\n",
       "        if (typeof require !== 'undefined') {\n",
       "        require.undef(\"plotly\");\n",
       "        requirejs.config({\n",
       "            paths: {\n",
       "                'plotly': ['https://cdn.plot.ly/plotly-latest.min']\n",
       "            }\n",
       "        });\n",
       "        require(['plotly'], function(Plotly) {\n",
       "            window._Plotly = Plotly;\n",
       "        });\n",
       "        }\n",
       "        </script>\n",
       "        "
      ]
     },
     "metadata": {},
     "output_type": "display_data"
    }
   ],
   "source": [
    "import pandas as pd \n",
    "import numpy as np\n",
    "import matplotlib\n",
    "import matplotlib.pyplot as plt\n",
    "import seaborn as sns\n",
    "%matplotlib inline \n",
    "import plotly.graph_objs as go\n",
    "import plotly.figure_factory as ff\n",
    "from plotly import tools\n",
    "from plotly.offline import download_plotlyjs, init_notebook_mode, plot, iplot\n",
    "init_notebook_mode(connected=True)\n",
    "import gc\n",
    "import os\n",
    "from datetime import datetime \n",
    "from sklearn.model_selection import train_test_split\n",
    "from sklearn.model_selection import KFold\n",
    "from sklearn.metrics import roc_auc_score\n",
    "pd.set_option('display.max_columns', 100)\n",
    "import warnings\n",
    "warnings.filterwarnings(\"ignore\")"
   ]
  },
  {
   "cell_type": "markdown",
   "metadata": {},
   "source": [
    "# Data Extraction"
   ]
  },
  {
   "cell_type": "code",
   "execution_count": 2,
   "metadata": {},
   "outputs": [],
   "source": [
    "data_df = pd.read_csv(\"creditcard.csv\")\n",
    "data_df = data_df.iloc[:10000]"
   ]
  },
  {
   "cell_type": "code",
   "execution_count": 3,
   "metadata": {},
   "outputs": [
    {
     "name": "stdout",
     "output_type": "stream",
     "text": [
      "Credit Card Fraud Detection data -  rows: 10000  columns: 31\n"
     ]
    }
   ],
   "source": [
    "print(\"Credit Card Fraud Detection data -  rows:\",data_df.shape[0],\" columns:\", data_df.shape[1])"
   ]
  },
  {
   "cell_type": "code",
   "execution_count": 4,
   "metadata": {},
   "outputs": [
    {
     "data": {
      "text/html": [
       "<div>\n",
       "<style scoped>\n",
       "    .dataframe tbody tr th:only-of-type {\n",
       "        vertical-align: middle;\n",
       "    }\n",
       "\n",
       "    .dataframe tbody tr th {\n",
       "        vertical-align: top;\n",
       "    }\n",
       "\n",
       "    .dataframe thead th {\n",
       "        text-align: right;\n",
       "    }\n",
       "</style>\n",
       "<table border=\"1\" class=\"dataframe\">\n",
       "  <thead>\n",
       "    <tr style=\"text-align: right;\">\n",
       "      <th></th>\n",
       "      <th>Time</th>\n",
       "      <th>V1</th>\n",
       "      <th>V2</th>\n",
       "      <th>V3</th>\n",
       "      <th>V4</th>\n",
       "      <th>V5</th>\n",
       "      <th>V6</th>\n",
       "      <th>V7</th>\n",
       "      <th>V8</th>\n",
       "      <th>V9</th>\n",
       "      <th>V10</th>\n",
       "      <th>V11</th>\n",
       "      <th>V12</th>\n",
       "      <th>V13</th>\n",
       "      <th>V14</th>\n",
       "      <th>V15</th>\n",
       "      <th>V16</th>\n",
       "      <th>V17</th>\n",
       "      <th>V18</th>\n",
       "      <th>V19</th>\n",
       "      <th>V20</th>\n",
       "      <th>V21</th>\n",
       "      <th>V22</th>\n",
       "      <th>V23</th>\n",
       "      <th>V24</th>\n",
       "      <th>V25</th>\n",
       "      <th>V26</th>\n",
       "      <th>V27</th>\n",
       "      <th>V28</th>\n",
       "      <th>Amount</th>\n",
       "      <th>Class</th>\n",
       "    </tr>\n",
       "  </thead>\n",
       "  <tbody>\n",
       "    <tr>\n",
       "      <th>0</th>\n",
       "      <td>0.0</td>\n",
       "      <td>-1.359807</td>\n",
       "      <td>-0.072781</td>\n",
       "      <td>2.536347</td>\n",
       "      <td>1.378155</td>\n",
       "      <td>-0.338321</td>\n",
       "      <td>0.462388</td>\n",
       "      <td>0.239599</td>\n",
       "      <td>0.098698</td>\n",
       "      <td>0.363787</td>\n",
       "      <td>0.090794</td>\n",
       "      <td>-0.551600</td>\n",
       "      <td>-0.617801</td>\n",
       "      <td>-0.991390</td>\n",
       "      <td>-0.311169</td>\n",
       "      <td>1.468177</td>\n",
       "      <td>-0.470401</td>\n",
       "      <td>0.207971</td>\n",
       "      <td>0.025791</td>\n",
       "      <td>0.403993</td>\n",
       "      <td>0.251412</td>\n",
       "      <td>-0.018307</td>\n",
       "      <td>0.277838</td>\n",
       "      <td>-0.110474</td>\n",
       "      <td>0.066928</td>\n",
       "      <td>0.128539</td>\n",
       "      <td>-0.189115</td>\n",
       "      <td>0.133558</td>\n",
       "      <td>-0.021053</td>\n",
       "      <td>149.62</td>\n",
       "      <td>0</td>\n",
       "    </tr>\n",
       "    <tr>\n",
       "      <th>1</th>\n",
       "      <td>0.0</td>\n",
       "      <td>1.191857</td>\n",
       "      <td>0.266151</td>\n",
       "      <td>0.166480</td>\n",
       "      <td>0.448154</td>\n",
       "      <td>0.060018</td>\n",
       "      <td>-0.082361</td>\n",
       "      <td>-0.078803</td>\n",
       "      <td>0.085102</td>\n",
       "      <td>-0.255425</td>\n",
       "      <td>-0.166974</td>\n",
       "      <td>1.612727</td>\n",
       "      <td>1.065235</td>\n",
       "      <td>0.489095</td>\n",
       "      <td>-0.143772</td>\n",
       "      <td>0.635558</td>\n",
       "      <td>0.463917</td>\n",
       "      <td>-0.114805</td>\n",
       "      <td>-0.183361</td>\n",
       "      <td>-0.145783</td>\n",
       "      <td>-0.069083</td>\n",
       "      <td>-0.225775</td>\n",
       "      <td>-0.638672</td>\n",
       "      <td>0.101288</td>\n",
       "      <td>-0.339846</td>\n",
       "      <td>0.167170</td>\n",
       "      <td>0.125895</td>\n",
       "      <td>-0.008983</td>\n",
       "      <td>0.014724</td>\n",
       "      <td>2.69</td>\n",
       "      <td>0</td>\n",
       "    </tr>\n",
       "    <tr>\n",
       "      <th>2</th>\n",
       "      <td>1.0</td>\n",
       "      <td>-1.358354</td>\n",
       "      <td>-1.340163</td>\n",
       "      <td>1.773209</td>\n",
       "      <td>0.379780</td>\n",
       "      <td>-0.503198</td>\n",
       "      <td>1.800499</td>\n",
       "      <td>0.791461</td>\n",
       "      <td>0.247676</td>\n",
       "      <td>-1.514654</td>\n",
       "      <td>0.207643</td>\n",
       "      <td>0.624501</td>\n",
       "      <td>0.066084</td>\n",
       "      <td>0.717293</td>\n",
       "      <td>-0.165946</td>\n",
       "      <td>2.345865</td>\n",
       "      <td>-2.890083</td>\n",
       "      <td>1.109969</td>\n",
       "      <td>-0.121359</td>\n",
       "      <td>-2.261857</td>\n",
       "      <td>0.524980</td>\n",
       "      <td>0.247998</td>\n",
       "      <td>0.771679</td>\n",
       "      <td>0.909412</td>\n",
       "      <td>-0.689281</td>\n",
       "      <td>-0.327642</td>\n",
       "      <td>-0.139097</td>\n",
       "      <td>-0.055353</td>\n",
       "      <td>-0.059752</td>\n",
       "      <td>378.66</td>\n",
       "      <td>0</td>\n",
       "    </tr>\n",
       "    <tr>\n",
       "      <th>3</th>\n",
       "      <td>1.0</td>\n",
       "      <td>-0.966272</td>\n",
       "      <td>-0.185226</td>\n",
       "      <td>1.792993</td>\n",
       "      <td>-0.863291</td>\n",
       "      <td>-0.010309</td>\n",
       "      <td>1.247203</td>\n",
       "      <td>0.237609</td>\n",
       "      <td>0.377436</td>\n",
       "      <td>-1.387024</td>\n",
       "      <td>-0.054952</td>\n",
       "      <td>-0.226487</td>\n",
       "      <td>0.178228</td>\n",
       "      <td>0.507757</td>\n",
       "      <td>-0.287924</td>\n",
       "      <td>-0.631418</td>\n",
       "      <td>-1.059647</td>\n",
       "      <td>-0.684093</td>\n",
       "      <td>1.965775</td>\n",
       "      <td>-1.232622</td>\n",
       "      <td>-0.208038</td>\n",
       "      <td>-0.108300</td>\n",
       "      <td>0.005274</td>\n",
       "      <td>-0.190321</td>\n",
       "      <td>-1.175575</td>\n",
       "      <td>0.647376</td>\n",
       "      <td>-0.221929</td>\n",
       "      <td>0.062723</td>\n",
       "      <td>0.061458</td>\n",
       "      <td>123.50</td>\n",
       "      <td>0</td>\n",
       "    </tr>\n",
       "    <tr>\n",
       "      <th>4</th>\n",
       "      <td>2.0</td>\n",
       "      <td>-1.158233</td>\n",
       "      <td>0.877737</td>\n",
       "      <td>1.548718</td>\n",
       "      <td>0.403034</td>\n",
       "      <td>-0.407193</td>\n",
       "      <td>0.095921</td>\n",
       "      <td>0.592941</td>\n",
       "      <td>-0.270533</td>\n",
       "      <td>0.817739</td>\n",
       "      <td>0.753074</td>\n",
       "      <td>-0.822843</td>\n",
       "      <td>0.538196</td>\n",
       "      <td>1.345852</td>\n",
       "      <td>-1.119670</td>\n",
       "      <td>0.175121</td>\n",
       "      <td>-0.451449</td>\n",
       "      <td>-0.237033</td>\n",
       "      <td>-0.038195</td>\n",
       "      <td>0.803487</td>\n",
       "      <td>0.408542</td>\n",
       "      <td>-0.009431</td>\n",
       "      <td>0.798278</td>\n",
       "      <td>-0.137458</td>\n",
       "      <td>0.141267</td>\n",
       "      <td>-0.206010</td>\n",
       "      <td>0.502292</td>\n",
       "      <td>0.219422</td>\n",
       "      <td>0.215153</td>\n",
       "      <td>69.99</td>\n",
       "      <td>0</td>\n",
       "    </tr>\n",
       "  </tbody>\n",
       "</table>\n",
       "</div>"
      ],
      "text/plain": [
       "   Time        V1        V2        V3        V4        V5        V6        V7  \\\n",
       "0   0.0 -1.359807 -0.072781  2.536347  1.378155 -0.338321  0.462388  0.239599   \n",
       "1   0.0  1.191857  0.266151  0.166480  0.448154  0.060018 -0.082361 -0.078803   \n",
       "2   1.0 -1.358354 -1.340163  1.773209  0.379780 -0.503198  1.800499  0.791461   \n",
       "3   1.0 -0.966272 -0.185226  1.792993 -0.863291 -0.010309  1.247203  0.237609   \n",
       "4   2.0 -1.158233  0.877737  1.548718  0.403034 -0.407193  0.095921  0.592941   \n",
       "\n",
       "         V8        V9       V10       V11       V12       V13       V14  \\\n",
       "0  0.098698  0.363787  0.090794 -0.551600 -0.617801 -0.991390 -0.311169   \n",
       "1  0.085102 -0.255425 -0.166974  1.612727  1.065235  0.489095 -0.143772   \n",
       "2  0.247676 -1.514654  0.207643  0.624501  0.066084  0.717293 -0.165946   \n",
       "3  0.377436 -1.387024 -0.054952 -0.226487  0.178228  0.507757 -0.287924   \n",
       "4 -0.270533  0.817739  0.753074 -0.822843  0.538196  1.345852 -1.119670   \n",
       "\n",
       "        V15       V16       V17       V18       V19       V20       V21  \\\n",
       "0  1.468177 -0.470401  0.207971  0.025791  0.403993  0.251412 -0.018307   \n",
       "1  0.635558  0.463917 -0.114805 -0.183361 -0.145783 -0.069083 -0.225775   \n",
       "2  2.345865 -2.890083  1.109969 -0.121359 -2.261857  0.524980  0.247998   \n",
       "3 -0.631418 -1.059647 -0.684093  1.965775 -1.232622 -0.208038 -0.108300   \n",
       "4  0.175121 -0.451449 -0.237033 -0.038195  0.803487  0.408542 -0.009431   \n",
       "\n",
       "        V22       V23       V24       V25       V26       V27       V28  \\\n",
       "0  0.277838 -0.110474  0.066928  0.128539 -0.189115  0.133558 -0.021053   \n",
       "1 -0.638672  0.101288 -0.339846  0.167170  0.125895 -0.008983  0.014724   \n",
       "2  0.771679  0.909412 -0.689281 -0.327642 -0.139097 -0.055353 -0.059752   \n",
       "3  0.005274 -0.190321 -1.175575  0.647376 -0.221929  0.062723  0.061458   \n",
       "4  0.798278 -0.137458  0.141267 -0.206010  0.502292  0.219422  0.215153   \n",
       "\n",
       "   Amount  Class  \n",
       "0  149.62      0  \n",
       "1    2.69      0  \n",
       "2  378.66      0  \n",
       "3  123.50      0  \n",
       "4   69.99      0  "
      ]
     },
     "execution_count": 4,
     "metadata": {},
     "output_type": "execute_result"
    }
   ],
   "source": [
    "data_df.head()"
   ]
  },
  {
   "cell_type": "code",
   "execution_count": 5,
   "metadata": {},
   "outputs": [
    {
     "data": {
      "text/html": [
       "<div>\n",
       "<style scoped>\n",
       "    .dataframe tbody tr th:only-of-type {\n",
       "        vertical-align: middle;\n",
       "    }\n",
       "\n",
       "    .dataframe tbody tr th {\n",
       "        vertical-align: top;\n",
       "    }\n",
       "\n",
       "    .dataframe thead th {\n",
       "        text-align: right;\n",
       "    }\n",
       "</style>\n",
       "<table border=\"1\" class=\"dataframe\">\n",
       "  <thead>\n",
       "    <tr style=\"text-align: right;\">\n",
       "      <th></th>\n",
       "      <th>Time</th>\n",
       "      <th>V1</th>\n",
       "      <th>V2</th>\n",
       "      <th>V3</th>\n",
       "      <th>V4</th>\n",
       "      <th>V5</th>\n",
       "      <th>V6</th>\n",
       "      <th>V7</th>\n",
       "      <th>V8</th>\n",
       "      <th>V9</th>\n",
       "      <th>V10</th>\n",
       "      <th>V11</th>\n",
       "      <th>V12</th>\n",
       "      <th>V13</th>\n",
       "      <th>V14</th>\n",
       "      <th>V15</th>\n",
       "      <th>V16</th>\n",
       "      <th>V17</th>\n",
       "      <th>V18</th>\n",
       "      <th>V19</th>\n",
       "      <th>V20</th>\n",
       "      <th>V21</th>\n",
       "      <th>V22</th>\n",
       "      <th>V23</th>\n",
       "      <th>V24</th>\n",
       "      <th>V25</th>\n",
       "      <th>V26</th>\n",
       "      <th>V27</th>\n",
       "      <th>V28</th>\n",
       "      <th>Amount</th>\n",
       "      <th>Class</th>\n",
       "    </tr>\n",
       "  </thead>\n",
       "  <tbody>\n",
       "    <tr>\n",
       "      <th>count</th>\n",
       "      <td>10000.000000</td>\n",
       "      <td>10000.000000</td>\n",
       "      <td>10000.000000</td>\n",
       "      <td>10000.000000</td>\n",
       "      <td>10000.000000</td>\n",
       "      <td>10000.000000</td>\n",
       "      <td>10000.000000</td>\n",
       "      <td>10000.000000</td>\n",
       "      <td>10000.000000</td>\n",
       "      <td>10000.000000</td>\n",
       "      <td>10000.000000</td>\n",
       "      <td>10000.000000</td>\n",
       "      <td>10000.000000</td>\n",
       "      <td>10000.000000</td>\n",
       "      <td>10000.000000</td>\n",
       "      <td>10000.000000</td>\n",
       "      <td>10000.000000</td>\n",
       "      <td>10000.000000</td>\n",
       "      <td>10000.000000</td>\n",
       "      <td>10000.000000</td>\n",
       "      <td>10000.000000</td>\n",
       "      <td>10000.000000</td>\n",
       "      <td>10000.000000</td>\n",
       "      <td>10000.000000</td>\n",
       "      <td>10000.000000</td>\n",
       "      <td>10000.000000</td>\n",
       "      <td>10000.000000</td>\n",
       "      <td>10000.000000</td>\n",
       "      <td>10000.000000</td>\n",
       "      <td>10000.000000</td>\n",
       "      <td>10000.00000</td>\n",
       "    </tr>\n",
       "    <tr>\n",
       "      <th>mean</th>\n",
       "      <td>5966.033400</td>\n",
       "      <td>-0.241862</td>\n",
       "      <td>0.281949</td>\n",
       "      <td>0.906270</td>\n",
       "      <td>0.264148</td>\n",
       "      <td>-0.046398</td>\n",
       "      <td>0.133108</td>\n",
       "      <td>-0.071689</td>\n",
       "      <td>-0.064778</td>\n",
       "      <td>0.802224</td>\n",
       "      <td>-0.222998</td>\n",
       "      <td>0.766066</td>\n",
       "      <td>-1.272513</td>\n",
       "      <td>0.851410</td>\n",
       "      <td>0.700597</td>\n",
       "      <td>-0.129634</td>\n",
       "      <td>-0.007757</td>\n",
       "      <td>0.318991</td>\n",
       "      <td>-0.016074</td>\n",
       "      <td>-0.070415</td>\n",
       "      <td>0.027511</td>\n",
       "      <td>-0.051990</td>\n",
       "      <td>-0.152671</td>\n",
       "      <td>-0.033268</td>\n",
       "      <td>0.021335</td>\n",
       "      <td>0.087146</td>\n",
       "      <td>0.108140</td>\n",
       "      <td>0.005518</td>\n",
       "      <td>0.002915</td>\n",
       "      <td>63.030188</td>\n",
       "      <td>0.00380</td>\n",
       "    </tr>\n",
       "    <tr>\n",
       "      <th>std</th>\n",
       "      <td>4473.403739</td>\n",
       "      <td>1.521679</td>\n",
       "      <td>1.308139</td>\n",
       "      <td>1.159154</td>\n",
       "      <td>1.441235</td>\n",
       "      <td>1.182935</td>\n",
       "      <td>1.307311</td>\n",
       "      <td>1.077430</td>\n",
       "      <td>1.259064</td>\n",
       "      <td>1.155198</td>\n",
       "      <td>1.093548</td>\n",
       "      <td>1.168600</td>\n",
       "      <td>1.527660</td>\n",
       "      <td>1.213055</td>\n",
       "      <td>1.239290</td>\n",
       "      <td>0.975573</td>\n",
       "      <td>0.882057</td>\n",
       "      <td>0.966392</td>\n",
       "      <td>0.794259</td>\n",
       "      <td>0.808373</td>\n",
       "      <td>0.589994</td>\n",
       "      <td>0.913811</td>\n",
       "      <td>0.631083</td>\n",
       "      <td>0.487814</td>\n",
       "      <td>0.594430</td>\n",
       "      <td>0.428171</td>\n",
       "      <td>0.562793</td>\n",
       "      <td>0.410868</td>\n",
       "      <td>0.266247</td>\n",
       "      <td>184.486158</td>\n",
       "      <td>0.06153</td>\n",
       "    </tr>\n",
       "    <tr>\n",
       "      <th>min</th>\n",
       "      <td>0.000000</td>\n",
       "      <td>-27.670569</td>\n",
       "      <td>-34.607649</td>\n",
       "      <td>-15.496222</td>\n",
       "      <td>-4.657545</td>\n",
       "      <td>-32.092129</td>\n",
       "      <td>-23.496714</td>\n",
       "      <td>-26.548144</td>\n",
       "      <td>-23.632502</td>\n",
       "      <td>-6.329801</td>\n",
       "      <td>-13.193415</td>\n",
       "      <td>-2.595325</td>\n",
       "      <td>-17.769143</td>\n",
       "      <td>-3.389510</td>\n",
       "      <td>-19.214325</td>\n",
       "      <td>-4.152532</td>\n",
       "      <td>-12.227189</td>\n",
       "      <td>-18.587366</td>\n",
       "      <td>-6.920762</td>\n",
       "      <td>-4.932733</td>\n",
       "      <td>-13.276034</td>\n",
       "      <td>-11.468435</td>\n",
       "      <td>-8.527145</td>\n",
       "      <td>-15.144340</td>\n",
       "      <td>-2.512377</td>\n",
       "      <td>-2.577363</td>\n",
       "      <td>-1.338556</td>\n",
       "      <td>-7.976100</td>\n",
       "      <td>-3.509250</td>\n",
       "      <td>0.000000</td>\n",
       "      <td>0.00000</td>\n",
       "    </tr>\n",
       "    <tr>\n",
       "      <th>25%</th>\n",
       "      <td>2072.750000</td>\n",
       "      <td>-1.013283</td>\n",
       "      <td>-0.208342</td>\n",
       "      <td>0.412799</td>\n",
       "      <td>-0.614424</td>\n",
       "      <td>-0.643390</td>\n",
       "      <td>-0.629934</td>\n",
       "      <td>-0.542336</td>\n",
       "      <td>-0.190747</td>\n",
       "      <td>0.070868</td>\n",
       "      <td>-0.688422</td>\n",
       "      <td>-0.063689</td>\n",
       "      <td>-2.368115</td>\n",
       "      <td>-0.017984</td>\n",
       "      <td>0.080400</td>\n",
       "      <td>-0.709531</td>\n",
       "      <td>-0.495536</td>\n",
       "      <td>-0.180029</td>\n",
       "      <td>-0.450302</td>\n",
       "      <td>-0.552134</td>\n",
       "      <td>-0.149981</td>\n",
       "      <td>-0.268120</td>\n",
       "      <td>-0.549638</td>\n",
       "      <td>-0.174120</td>\n",
       "      <td>-0.327817</td>\n",
       "      <td>-0.158137</td>\n",
       "      <td>-0.327974</td>\n",
       "      <td>-0.084489</td>\n",
       "      <td>-0.015753</td>\n",
       "      <td>5.000000</td>\n",
       "      <td>0.00000</td>\n",
       "    </tr>\n",
       "    <tr>\n",
       "      <th>50%</th>\n",
       "      <td>4563.500000</td>\n",
       "      <td>-0.372799</td>\n",
       "      <td>0.288524</td>\n",
       "      <td>0.944361</td>\n",
       "      <td>0.219861</td>\n",
       "      <td>-0.152769</td>\n",
       "      <td>-0.152566</td>\n",
       "      <td>-0.055585</td>\n",
       "      <td>0.012865</td>\n",
       "      <td>0.805275</td>\n",
       "      <td>-0.340720</td>\n",
       "      <td>0.746752</td>\n",
       "      <td>-1.621015</td>\n",
       "      <td>0.919134</td>\n",
       "      <td>0.899792</td>\n",
       "      <td>-0.010078</td>\n",
       "      <td>0.066086</td>\n",
       "      <td>0.297423</td>\n",
       "      <td>0.025225</td>\n",
       "      <td>-0.077208</td>\n",
       "      <td>-0.021415</td>\n",
       "      <td>-0.123273</td>\n",
       "      <td>-0.136746</td>\n",
       "      <td>-0.045794</td>\n",
       "      <td>0.079976</td>\n",
       "      <td>0.121001</td>\n",
       "      <td>0.042865</td>\n",
       "      <td>-0.004568</td>\n",
       "      <td>0.015897</td>\n",
       "      <td>15.950000</td>\n",
       "      <td>0.00000</td>\n",
       "    </tr>\n",
       "    <tr>\n",
       "      <th>75%</th>\n",
       "      <td>10233.250000</td>\n",
       "      <td>1.150864</td>\n",
       "      <td>0.901879</td>\n",
       "      <td>1.602903</td>\n",
       "      <td>1.125666</td>\n",
       "      <td>0.371081</td>\n",
       "      <td>0.505357</td>\n",
       "      <td>0.476280</td>\n",
       "      <td>0.274533</td>\n",
       "      <td>1.506299</td>\n",
       "      <td>0.174295</td>\n",
       "      <td>1.576540</td>\n",
       "      <td>0.082667</td>\n",
       "      <td>1.768889</td>\n",
       "      <td>1.499211</td>\n",
       "      <td>0.533501</td>\n",
       "      <td>0.547399</td>\n",
       "      <td>0.782865</td>\n",
       "      <td>0.459390</td>\n",
       "      <td>0.442908</td>\n",
       "      <td>0.156534</td>\n",
       "      <td>0.032707</td>\n",
       "      <td>0.247490</td>\n",
       "      <td>0.081665</td>\n",
       "      <td>0.410877</td>\n",
       "      <td>0.359058</td>\n",
       "      <td>0.476394</td>\n",
       "      <td>0.120811</td>\n",
       "      <td>0.077182</td>\n",
       "      <td>50.960000</td>\n",
       "      <td>0.00000</td>\n",
       "    </tr>\n",
       "    <tr>\n",
       "      <th>max</th>\n",
       "      <td>15012.000000</td>\n",
       "      <td>1.960497</td>\n",
       "      <td>8.636214</td>\n",
       "      <td>4.101716</td>\n",
       "      <td>10.463020</td>\n",
       "      <td>34.099309</td>\n",
       "      <td>21.393069</td>\n",
       "      <td>34.303177</td>\n",
       "      <td>5.060381</td>\n",
       "      <td>10.392889</td>\n",
       "      <td>12.259949</td>\n",
       "      <td>12.018913</td>\n",
       "      <td>3.774837</td>\n",
       "      <td>4.465413</td>\n",
       "      <td>5.748734</td>\n",
       "      <td>3.635042</td>\n",
       "      <td>4.087802</td>\n",
       "      <td>7.893393</td>\n",
       "      <td>4.115560</td>\n",
       "      <td>4.555359</td>\n",
       "      <td>8.012574</td>\n",
       "      <td>22.588989</td>\n",
       "      <td>4.534454</td>\n",
       "      <td>13.876221</td>\n",
       "      <td>3.200201</td>\n",
       "      <td>5.525093</td>\n",
       "      <td>3.517346</td>\n",
       "      <td>8.254376</td>\n",
       "      <td>4.860769</td>\n",
       "      <td>7712.430000</td>\n",
       "      <td>1.00000</td>\n",
       "    </tr>\n",
       "  </tbody>\n",
       "</table>\n",
       "</div>"
      ],
      "text/plain": [
       "               Time            V1            V2            V3            V4  \\\n",
       "count  10000.000000  10000.000000  10000.000000  10000.000000  10000.000000   \n",
       "mean    5966.033400     -0.241862      0.281949      0.906270      0.264148   \n",
       "std     4473.403739      1.521679      1.308139      1.159154      1.441235   \n",
       "min        0.000000    -27.670569    -34.607649    -15.496222     -4.657545   \n",
       "25%     2072.750000     -1.013283     -0.208342      0.412799     -0.614424   \n",
       "50%     4563.500000     -0.372799      0.288524      0.944361      0.219861   \n",
       "75%    10233.250000      1.150864      0.901879      1.602903      1.125666   \n",
       "max    15012.000000      1.960497      8.636214      4.101716     10.463020   \n",
       "\n",
       "                 V5            V6            V7            V8            V9  \\\n",
       "count  10000.000000  10000.000000  10000.000000  10000.000000  10000.000000   \n",
       "mean      -0.046398      0.133108     -0.071689     -0.064778      0.802224   \n",
       "std        1.182935      1.307311      1.077430      1.259064      1.155198   \n",
       "min      -32.092129    -23.496714    -26.548144    -23.632502     -6.329801   \n",
       "25%       -0.643390     -0.629934     -0.542336     -0.190747      0.070868   \n",
       "50%       -0.152769     -0.152566     -0.055585      0.012865      0.805275   \n",
       "75%        0.371081      0.505357      0.476280      0.274533      1.506299   \n",
       "max       34.099309     21.393069     34.303177      5.060381     10.392889   \n",
       "\n",
       "                V10           V11           V12           V13           V14  \\\n",
       "count  10000.000000  10000.000000  10000.000000  10000.000000  10000.000000   \n",
       "mean      -0.222998      0.766066     -1.272513      0.851410      0.700597   \n",
       "std        1.093548      1.168600      1.527660      1.213055      1.239290   \n",
       "min      -13.193415     -2.595325    -17.769143     -3.389510    -19.214325   \n",
       "25%       -0.688422     -0.063689     -2.368115     -0.017984      0.080400   \n",
       "50%       -0.340720      0.746752     -1.621015      0.919134      0.899792   \n",
       "75%        0.174295      1.576540      0.082667      1.768889      1.499211   \n",
       "max       12.259949     12.018913      3.774837      4.465413      5.748734   \n",
       "\n",
       "                V15           V16           V17           V18           V19  \\\n",
       "count  10000.000000  10000.000000  10000.000000  10000.000000  10000.000000   \n",
       "mean      -0.129634     -0.007757      0.318991     -0.016074     -0.070415   \n",
       "std        0.975573      0.882057      0.966392      0.794259      0.808373   \n",
       "min       -4.152532    -12.227189    -18.587366     -6.920762     -4.932733   \n",
       "25%       -0.709531     -0.495536     -0.180029     -0.450302     -0.552134   \n",
       "50%       -0.010078      0.066086      0.297423      0.025225     -0.077208   \n",
       "75%        0.533501      0.547399      0.782865      0.459390      0.442908   \n",
       "max        3.635042      4.087802      7.893393      4.115560      4.555359   \n",
       "\n",
       "                V20           V21           V22           V23           V24  \\\n",
       "count  10000.000000  10000.000000  10000.000000  10000.000000  10000.000000   \n",
       "mean       0.027511     -0.051990     -0.152671     -0.033268      0.021335   \n",
       "std        0.589994      0.913811      0.631083      0.487814      0.594430   \n",
       "min      -13.276034    -11.468435     -8.527145    -15.144340     -2.512377   \n",
       "25%       -0.149981     -0.268120     -0.549638     -0.174120     -0.327817   \n",
       "50%       -0.021415     -0.123273     -0.136746     -0.045794      0.079976   \n",
       "75%        0.156534      0.032707      0.247490      0.081665      0.410877   \n",
       "max        8.012574     22.588989      4.534454     13.876221      3.200201   \n",
       "\n",
       "                V25           V26           V27           V28        Amount  \\\n",
       "count  10000.000000  10000.000000  10000.000000  10000.000000  10000.000000   \n",
       "mean       0.087146      0.108140      0.005518      0.002915     63.030188   \n",
       "std        0.428171      0.562793      0.410868      0.266247    184.486158   \n",
       "min       -2.577363     -1.338556     -7.976100     -3.509250      0.000000   \n",
       "25%       -0.158137     -0.327974     -0.084489     -0.015753      5.000000   \n",
       "50%        0.121001      0.042865     -0.004568      0.015897     15.950000   \n",
       "75%        0.359058      0.476394      0.120811      0.077182     50.960000   \n",
       "max        5.525093      3.517346      8.254376      4.860769   7712.430000   \n",
       "\n",
       "             Class  \n",
       "count  10000.00000  \n",
       "mean       0.00380  \n",
       "std        0.06153  \n",
       "min        0.00000  \n",
       "25%        0.00000  \n",
       "50%        0.00000  \n",
       "75%        0.00000  \n",
       "max        1.00000  "
      ]
     },
     "execution_count": 5,
     "metadata": {},
     "output_type": "execute_result"
    }
   ],
   "source": [
    "data_df.describe()"
   ]
  },
  {
   "cell_type": "markdown",
   "metadata": {},
   "source": [
    "# Data Preprocessing"
   ]
  },
  {
   "cell_type": "code",
   "execution_count": 6,
   "metadata": {},
   "outputs": [
    {
     "data": {
      "text/html": [
       "<div>\n",
       "<style scoped>\n",
       "    .dataframe tbody tr th:only-of-type {\n",
       "        vertical-align: middle;\n",
       "    }\n",
       "\n",
       "    .dataframe tbody tr th {\n",
       "        vertical-align: top;\n",
       "    }\n",
       "\n",
       "    .dataframe thead th {\n",
       "        text-align: right;\n",
       "    }\n",
       "</style>\n",
       "<table border=\"1\" class=\"dataframe\">\n",
       "  <thead>\n",
       "    <tr style=\"text-align: right;\">\n",
       "      <th></th>\n",
       "      <th>Class</th>\n",
       "      <th>V14</th>\n",
       "      <th>V1</th>\n",
       "      <th>V2</th>\n",
       "      <th>V3</th>\n",
       "      <th>V4</th>\n",
       "      <th>V5</th>\n",
       "      <th>V6</th>\n",
       "      <th>V7</th>\n",
       "      <th>V8</th>\n",
       "      <th>V9</th>\n",
       "      <th>V10</th>\n",
       "      <th>V11</th>\n",
       "      <th>V12</th>\n",
       "      <th>V13</th>\n",
       "      <th>V15</th>\n",
       "      <th>Amount</th>\n",
       "      <th>V16</th>\n",
       "      <th>V17</th>\n",
       "      <th>V18</th>\n",
       "      <th>V19</th>\n",
       "      <th>V20</th>\n",
       "      <th>V21</th>\n",
       "      <th>V22</th>\n",
       "      <th>V23</th>\n",
       "      <th>V24</th>\n",
       "      <th>V25</th>\n",
       "      <th>V26</th>\n",
       "      <th>V27</th>\n",
       "      <th>V28</th>\n",
       "      <th>Time</th>\n",
       "    </tr>\n",
       "  </thead>\n",
       "  <tbody>\n",
       "    <tr>\n",
       "      <th>Total</th>\n",
       "      <td>0.0</td>\n",
       "      <td>0.0</td>\n",
       "      <td>0.0</td>\n",
       "      <td>0.0</td>\n",
       "      <td>0.0</td>\n",
       "      <td>0.0</td>\n",
       "      <td>0.0</td>\n",
       "      <td>0.0</td>\n",
       "      <td>0.0</td>\n",
       "      <td>0.0</td>\n",
       "      <td>0.0</td>\n",
       "      <td>0.0</td>\n",
       "      <td>0.0</td>\n",
       "      <td>0.0</td>\n",
       "      <td>0.0</td>\n",
       "      <td>0.0</td>\n",
       "      <td>0.0</td>\n",
       "      <td>0.0</td>\n",
       "      <td>0.0</td>\n",
       "      <td>0.0</td>\n",
       "      <td>0.0</td>\n",
       "      <td>0.0</td>\n",
       "      <td>0.0</td>\n",
       "      <td>0.0</td>\n",
       "      <td>0.0</td>\n",
       "      <td>0.0</td>\n",
       "      <td>0.0</td>\n",
       "      <td>0.0</td>\n",
       "      <td>0.0</td>\n",
       "      <td>0.0</td>\n",
       "      <td>0.0</td>\n",
       "    </tr>\n",
       "    <tr>\n",
       "      <th>Percent</th>\n",
       "      <td>0.0</td>\n",
       "      <td>0.0</td>\n",
       "      <td>0.0</td>\n",
       "      <td>0.0</td>\n",
       "      <td>0.0</td>\n",
       "      <td>0.0</td>\n",
       "      <td>0.0</td>\n",
       "      <td>0.0</td>\n",
       "      <td>0.0</td>\n",
       "      <td>0.0</td>\n",
       "      <td>0.0</td>\n",
       "      <td>0.0</td>\n",
       "      <td>0.0</td>\n",
       "      <td>0.0</td>\n",
       "      <td>0.0</td>\n",
       "      <td>0.0</td>\n",
       "      <td>0.0</td>\n",
       "      <td>0.0</td>\n",
       "      <td>0.0</td>\n",
       "      <td>0.0</td>\n",
       "      <td>0.0</td>\n",
       "      <td>0.0</td>\n",
       "      <td>0.0</td>\n",
       "      <td>0.0</td>\n",
       "      <td>0.0</td>\n",
       "      <td>0.0</td>\n",
       "      <td>0.0</td>\n",
       "      <td>0.0</td>\n",
       "      <td>0.0</td>\n",
       "      <td>0.0</td>\n",
       "      <td>0.0</td>\n",
       "    </tr>\n",
       "  </tbody>\n",
       "</table>\n",
       "</div>"
      ],
      "text/plain": [
       "         Class  V14   V1   V2   V3   V4   V5   V6   V7   V8   V9  V10  V11  \\\n",
       "Total      0.0  0.0  0.0  0.0  0.0  0.0  0.0  0.0  0.0  0.0  0.0  0.0  0.0   \n",
       "Percent    0.0  0.0  0.0  0.0  0.0  0.0  0.0  0.0  0.0  0.0  0.0  0.0  0.0   \n",
       "\n",
       "         V12  V13  V15  Amount  V16  V17  V18  V19  V20  V21  V22  V23  V24  \\\n",
       "Total    0.0  0.0  0.0     0.0  0.0  0.0  0.0  0.0  0.0  0.0  0.0  0.0  0.0   \n",
       "Percent  0.0  0.0  0.0     0.0  0.0  0.0  0.0  0.0  0.0  0.0  0.0  0.0  0.0   \n",
       "\n",
       "         V25  V26  V27  V28  Time  \n",
       "Total    0.0  0.0  0.0  0.0   0.0  \n",
       "Percent  0.0  0.0  0.0  0.0   0.0  "
      ]
     },
     "execution_count": 6,
     "metadata": {},
     "output_type": "execute_result"
    }
   ],
   "source": [
    "total = data_df.isnull().sum().sort_values(ascending = False)\n",
    "percent = (data_df.isnull().sum()/data_df.isnull().count()*100).sort_values(ascending = False)\n",
    "pd.concat([total, percent], axis=1, keys=['Total', 'Percent']).transpose()"
   ]
  },
  {
   "cell_type": "code",
   "execution_count": 7,
   "metadata": {},
   "outputs": [
    {
     "name": "stdout",
     "output_type": "stream",
     "text": [
      "(10000, 31)\n"
     ]
    }
   ],
   "source": [
    "X = data_df.iloc[:, data_df.columns != 'Class']\n",
    "y = data_df.iloc[:, data_df.columns == 'Class']\n",
    "fraud_record = data_df[data_df.Class == 1]\n",
    "y_fraud_record = fraud_record.iloc[:, fraud_record.columns == 'Class']\n",
    "x_fraud_record = fraud_record.iloc[:, fraud_record.columns != 'Class']\n",
    "number_records_fraud = len(data_df[data_df.Class == 1])\n",
    "print(data_df.shape)"
   ]
  },
  {
   "cell_type": "code",
   "execution_count": 8,
   "metadata": {},
   "outputs": [],
   "source": [
    "def plot_confusion_matrix(cm, classes, normalize=False, title='Confusion matrix', cmap=plt.cm.Blues):\n",
    "    plt.imshow(cm, interpolation='nearest', cmap=cmap)\n",
    "    plt.title(title)\n",
    "    plt.colorbar()\n",
    "    tick_marks = np.arange(len(classes))\n",
    "    plt.xticks(tick_marks, classes, rotation=45)\n",
    "    plt.yticks(tick_marks, classes)\n",
    "    thresh = cm.max() / 2.\n",
    "    for i, j in itertools.product(range(cm.shape[0]), range(cm.shape[1])):\n",
    "        plt.text(j, i, cm[i, j], horizontalalignment=\"center\", color=\"white\" if cm[i, j] > thresh else \"black\")\n",
    "    plt.tight_layout()\n",
    "    plt.ylabel('True label')\n",
    "    plt.xlabel('Predicted label')\n",
    "    plt.show()"
   ]
  },
  {
   "cell_type": "code",
   "execution_count": 9,
   "metadata": {},
   "outputs": [],
   "source": [
    "def show_data(cm, print_res = 0):\n",
    "    tp = cm[1,1]\n",
    "    fn = cm[1,0]\n",
    "    fp = cm[0,1]\n",
    "    tn = cm[0,0]\n",
    "    if print_res == 1:\n",
    "        print('Precision =     {:.5f}'.format(tp/(tp+fp)))\n",
    "        print('Recall (TPR) =  {:.5f}'.format(tp/(tp+fn)))\n",
    "        print('Accuracy =  {:.5f}'.format((tp+tn)/(tp+tn+fp+fn)))\n",
    "    return tp/(tp+fp), tp/(tp+fn)"
   ]
  },
  {
   "cell_type": "code",
   "execution_count": 10,
   "metadata": {},
   "outputs": [],
   "source": [
    "def data_prepration(x):\n",
    "    x_features= x.iloc[:,x.columns != \"Class\"]\n",
    "    x_labels=x.iloc[:,x.columns==\"Class\"]\n",
    "    x_features_train,x_features_test,x_labels_train,x_labels_test = train_test_split(x_features,x_labels,test_size=0.3)\n",
    "    print(\"length of training data\")\n",
    "    print(len(x_features_train))\n",
    "    print(\"length of test data\")\n",
    "    print(len(x_features_test))\n",
    "    return(x_features_train,x_features_test,x_labels_train,x_labels_test)"
   ]
  },
  {
   "cell_type": "code",
   "execution_count": 11,
   "metadata": {},
   "outputs": [
    {
     "name": "stdout",
     "output_type": "stream",
     "text": [
      "length of training data\n",
      "7000\n",
      "length of test data\n",
      "3000\n",
      "Proportion of Normal data in training data is  0.9962857142857143\n",
      "Proportion of fraud data in training data is  0.0037142857142857142\n"
     ]
    }
   ],
   "source": [
    "data_train_X,data_test_X,data_train_y,data_test_y=data_prepration(data_df)\n",
    "columns = data_train_X.columns\n",
    "print(\"Proportion of Normal data in training data is \",len(data_train_y[data_train_y[\"Class\"]==0])/len(data_train_X))\n",
    "print(\"Proportion of fraud data in training data is \",len(data_train_y[data_train_y[\"Class\"]==1])/len(data_train_X))"
   ]
  },
  {
   "cell_type": "markdown",
   "metadata": {},
   "source": [
    "# Data Over Sampling with SMOTE"
   ]
  },
  {
   "cell_type": "code",
   "execution_count": 12,
   "metadata": {},
   "outputs": [],
   "source": [
    "#Oversampling the highly disbalanced prepared data and balancing the training dataset with the nornal : fraud data ratio 0.5 : 0.5.\n",
    "from sklearn.ensemble import RandomForestClassifier\n",
    "from imblearn.over_sampling import SMOTE\n",
    "from sklearn.model_selection import train_test_split "
   ]
  },
  {
   "cell_type": "code",
   "execution_count": 13,
   "metadata": {},
   "outputs": [
    {
     "name": "stdout",
     "output_type": "stream",
     "text": [
      "length of oversampled data is  13948\n",
      "Number of normal transcation in oversampled data 6974\n",
      "Number of fraud transcation 6974\n",
      "Proportion of Normal data in oversampled data is  0.5\n",
      "Proportion of fraud data in oversampled data is  0.5\n"
     ]
    }
   ],
   "source": [
    "os = SMOTE(random_state = 0)\n",
    "os_data_X, os_data_y = os.fit_resample(data_train_X, data_train_y.values.ravel())\n",
    "os_data_X = pd.DataFrame(data = os_data_X, columns = columns )\n",
    "os_data_y = pd.DataFrame(data = os_data_y, columns = [\"Class\"])\n",
    "print(\"length of oversampled data is \",len(os_data_X))\n",
    "print(\"Number of normal transcation in oversampled data\",len(os_data_y[os_data_y[\"Class\"]==0]))\n",
    "print(\"Number of fraud transcation\",len(os_data_y[os_data_y[\"Class\"]==1]))\n",
    "print(\"Proportion of Normal data in oversampled data is \",len(os_data_y[os_data_y[\"Class\"]==0])/len(os_data_X))\n",
    "print(\"Proportion of fraud data in oversampled data is \",len(os_data_y[os_data_y[\"Class\"]==1])/len(os_data_X))"
   ]
  },
  {
   "cell_type": "markdown",
   "metadata": {},
   "source": [
    "# Data exploration"
   ]
  },
  {
   "cell_type": "code",
   "execution_count": 14,
   "metadata": {},
   "outputs": [
    {
     "data": {
      "application/vnd.plotly.v1+json": {
       "config": {
        "linkText": "Export to plot.ly",
        "plotlyServerURL": "https://plot.ly",
        "showLink": false
       },
       "data": [
        {
         "marker": {
          "color": "Red"
         },
         "name": "Credit Card Fraud Class - data unbalance (Not fraud = 0, Fraud = 1)",
         "text": [
          9962,
          38
         ],
         "type": "bar",
         "x": [
          0,
          1
         ],
         "y": [
          9962,
          38
         ]
        }
       ],
       "layout": {
        "hovermode": "closest",
        "template": {
         "data": {
          "bar": [
           {
            "error_x": {
             "color": "#2a3f5f"
            },
            "error_y": {
             "color": "#2a3f5f"
            },
            "marker": {
             "line": {
              "color": "#E5ECF6",
              "width": 0.5
             }
            },
            "type": "bar"
           }
          ],
          "barpolar": [
           {
            "marker": {
             "line": {
              "color": "#E5ECF6",
              "width": 0.5
             }
            },
            "type": "barpolar"
           }
          ],
          "carpet": [
           {
            "aaxis": {
             "endlinecolor": "#2a3f5f",
             "gridcolor": "white",
             "linecolor": "white",
             "minorgridcolor": "white",
             "startlinecolor": "#2a3f5f"
            },
            "baxis": {
             "endlinecolor": "#2a3f5f",
             "gridcolor": "white",
             "linecolor": "white",
             "minorgridcolor": "white",
             "startlinecolor": "#2a3f5f"
            },
            "type": "carpet"
           }
          ],
          "choropleth": [
           {
            "colorbar": {
             "outlinewidth": 0,
             "ticks": ""
            },
            "type": "choropleth"
           }
          ],
          "contour": [
           {
            "colorbar": {
             "outlinewidth": 0,
             "ticks": ""
            },
            "colorscale": [
             [
              0,
              "#0d0887"
             ],
             [
              0.1111111111111111,
              "#46039f"
             ],
             [
              0.2222222222222222,
              "#7201a8"
             ],
             [
              0.3333333333333333,
              "#9c179e"
             ],
             [
              0.4444444444444444,
              "#bd3786"
             ],
             [
              0.5555555555555556,
              "#d8576b"
             ],
             [
              0.6666666666666666,
              "#ed7953"
             ],
             [
              0.7777777777777778,
              "#fb9f3a"
             ],
             [
              0.8888888888888888,
              "#fdca26"
             ],
             [
              1,
              "#f0f921"
             ]
            ],
            "type": "contour"
           }
          ],
          "contourcarpet": [
           {
            "colorbar": {
             "outlinewidth": 0,
             "ticks": ""
            },
            "type": "contourcarpet"
           }
          ],
          "heatmap": [
           {
            "colorbar": {
             "outlinewidth": 0,
             "ticks": ""
            },
            "colorscale": [
             [
              0,
              "#0d0887"
             ],
             [
              0.1111111111111111,
              "#46039f"
             ],
             [
              0.2222222222222222,
              "#7201a8"
             ],
             [
              0.3333333333333333,
              "#9c179e"
             ],
             [
              0.4444444444444444,
              "#bd3786"
             ],
             [
              0.5555555555555556,
              "#d8576b"
             ],
             [
              0.6666666666666666,
              "#ed7953"
             ],
             [
              0.7777777777777778,
              "#fb9f3a"
             ],
             [
              0.8888888888888888,
              "#fdca26"
             ],
             [
              1,
              "#f0f921"
             ]
            ],
            "type": "heatmap"
           }
          ],
          "heatmapgl": [
           {
            "colorbar": {
             "outlinewidth": 0,
             "ticks": ""
            },
            "colorscale": [
             [
              0,
              "#0d0887"
             ],
             [
              0.1111111111111111,
              "#46039f"
             ],
             [
              0.2222222222222222,
              "#7201a8"
             ],
             [
              0.3333333333333333,
              "#9c179e"
             ],
             [
              0.4444444444444444,
              "#bd3786"
             ],
             [
              0.5555555555555556,
              "#d8576b"
             ],
             [
              0.6666666666666666,
              "#ed7953"
             ],
             [
              0.7777777777777778,
              "#fb9f3a"
             ],
             [
              0.8888888888888888,
              "#fdca26"
             ],
             [
              1,
              "#f0f921"
             ]
            ],
            "type": "heatmapgl"
           }
          ],
          "histogram": [
           {
            "marker": {
             "colorbar": {
              "outlinewidth": 0,
              "ticks": ""
             }
            },
            "type": "histogram"
           }
          ],
          "histogram2d": [
           {
            "colorbar": {
             "outlinewidth": 0,
             "ticks": ""
            },
            "colorscale": [
             [
              0,
              "#0d0887"
             ],
             [
              0.1111111111111111,
              "#46039f"
             ],
             [
              0.2222222222222222,
              "#7201a8"
             ],
             [
              0.3333333333333333,
              "#9c179e"
             ],
             [
              0.4444444444444444,
              "#bd3786"
             ],
             [
              0.5555555555555556,
              "#d8576b"
             ],
             [
              0.6666666666666666,
              "#ed7953"
             ],
             [
              0.7777777777777778,
              "#fb9f3a"
             ],
             [
              0.8888888888888888,
              "#fdca26"
             ],
             [
              1,
              "#f0f921"
             ]
            ],
            "type": "histogram2d"
           }
          ],
          "histogram2dcontour": [
           {
            "colorbar": {
             "outlinewidth": 0,
             "ticks": ""
            },
            "colorscale": [
             [
              0,
              "#0d0887"
             ],
             [
              0.1111111111111111,
              "#46039f"
             ],
             [
              0.2222222222222222,
              "#7201a8"
             ],
             [
              0.3333333333333333,
              "#9c179e"
             ],
             [
              0.4444444444444444,
              "#bd3786"
             ],
             [
              0.5555555555555556,
              "#d8576b"
             ],
             [
              0.6666666666666666,
              "#ed7953"
             ],
             [
              0.7777777777777778,
              "#fb9f3a"
             ],
             [
              0.8888888888888888,
              "#fdca26"
             ],
             [
              1,
              "#f0f921"
             ]
            ],
            "type": "histogram2dcontour"
           }
          ],
          "mesh3d": [
           {
            "colorbar": {
             "outlinewidth": 0,
             "ticks": ""
            },
            "type": "mesh3d"
           }
          ],
          "parcoords": [
           {
            "line": {
             "colorbar": {
              "outlinewidth": 0,
              "ticks": ""
             }
            },
            "type": "parcoords"
           }
          ],
          "pie": [
           {
            "automargin": true,
            "type": "pie"
           }
          ],
          "scatter": [
           {
            "marker": {
             "colorbar": {
              "outlinewidth": 0,
              "ticks": ""
             }
            },
            "type": "scatter"
           }
          ],
          "scatter3d": [
           {
            "line": {
             "colorbar": {
              "outlinewidth": 0,
              "ticks": ""
             }
            },
            "marker": {
             "colorbar": {
              "outlinewidth": 0,
              "ticks": ""
             }
            },
            "type": "scatter3d"
           }
          ],
          "scattercarpet": [
           {
            "marker": {
             "colorbar": {
              "outlinewidth": 0,
              "ticks": ""
             }
            },
            "type": "scattercarpet"
           }
          ],
          "scattergeo": [
           {
            "marker": {
             "colorbar": {
              "outlinewidth": 0,
              "ticks": ""
             }
            },
            "type": "scattergeo"
           }
          ],
          "scattergl": [
           {
            "marker": {
             "colorbar": {
              "outlinewidth": 0,
              "ticks": ""
             }
            },
            "type": "scattergl"
           }
          ],
          "scattermapbox": [
           {
            "marker": {
             "colorbar": {
              "outlinewidth": 0,
              "ticks": ""
             }
            },
            "type": "scattermapbox"
           }
          ],
          "scatterpolar": [
           {
            "marker": {
             "colorbar": {
              "outlinewidth": 0,
              "ticks": ""
             }
            },
            "type": "scatterpolar"
           }
          ],
          "scatterpolargl": [
           {
            "marker": {
             "colorbar": {
              "outlinewidth": 0,
              "ticks": ""
             }
            },
            "type": "scatterpolargl"
           }
          ],
          "scatterternary": [
           {
            "marker": {
             "colorbar": {
              "outlinewidth": 0,
              "ticks": ""
             }
            },
            "type": "scatterternary"
           }
          ],
          "surface": [
           {
            "colorbar": {
             "outlinewidth": 0,
             "ticks": ""
            },
            "colorscale": [
             [
              0,
              "#0d0887"
             ],
             [
              0.1111111111111111,
              "#46039f"
             ],
             [
              0.2222222222222222,
              "#7201a8"
             ],
             [
              0.3333333333333333,
              "#9c179e"
             ],
             [
              0.4444444444444444,
              "#bd3786"
             ],
             [
              0.5555555555555556,
              "#d8576b"
             ],
             [
              0.6666666666666666,
              "#ed7953"
             ],
             [
              0.7777777777777778,
              "#fb9f3a"
             ],
             [
              0.8888888888888888,
              "#fdca26"
             ],
             [
              1,
              "#f0f921"
             ]
            ],
            "type": "surface"
           }
          ],
          "table": [
           {
            "cells": {
             "fill": {
              "color": "#EBF0F8"
             },
             "line": {
              "color": "white"
             }
            },
            "header": {
             "fill": {
              "color": "#C8D4E3"
             },
             "line": {
              "color": "white"
             }
            },
            "type": "table"
           }
          ]
         },
         "layout": {
          "annotationdefaults": {
           "arrowcolor": "#2a3f5f",
           "arrowhead": 0,
           "arrowwidth": 1
          },
          "coloraxis": {
           "colorbar": {
            "outlinewidth": 0,
            "ticks": ""
           }
          },
          "colorscale": {
           "diverging": [
            [
             0,
             "#8e0152"
            ],
            [
             0.1,
             "#c51b7d"
            ],
            [
             0.2,
             "#de77ae"
            ],
            [
             0.3,
             "#f1b6da"
            ],
            [
             0.4,
             "#fde0ef"
            ],
            [
             0.5,
             "#f7f7f7"
            ],
            [
             0.6,
             "#e6f5d0"
            ],
            [
             0.7,
             "#b8e186"
            ],
            [
             0.8,
             "#7fbc41"
            ],
            [
             0.9,
             "#4d9221"
            ],
            [
             1,
             "#276419"
            ]
           ],
           "sequential": [
            [
             0,
             "#0d0887"
            ],
            [
             0.1111111111111111,
             "#46039f"
            ],
            [
             0.2222222222222222,
             "#7201a8"
            ],
            [
             0.3333333333333333,
             "#9c179e"
            ],
            [
             0.4444444444444444,
             "#bd3786"
            ],
            [
             0.5555555555555556,
             "#d8576b"
            ],
            [
             0.6666666666666666,
             "#ed7953"
            ],
            [
             0.7777777777777778,
             "#fb9f3a"
            ],
            [
             0.8888888888888888,
             "#fdca26"
            ],
            [
             1,
             "#f0f921"
            ]
           ],
           "sequentialminus": [
            [
             0,
             "#0d0887"
            ],
            [
             0.1111111111111111,
             "#46039f"
            ],
            [
             0.2222222222222222,
             "#7201a8"
            ],
            [
             0.3333333333333333,
             "#9c179e"
            ],
            [
             0.4444444444444444,
             "#bd3786"
            ],
            [
             0.5555555555555556,
             "#d8576b"
            ],
            [
             0.6666666666666666,
             "#ed7953"
            ],
            [
             0.7777777777777778,
             "#fb9f3a"
            ],
            [
             0.8888888888888888,
             "#fdca26"
            ],
            [
             1,
             "#f0f921"
            ]
           ]
          },
          "colorway": [
           "#636efa",
           "#EF553B",
           "#00cc96",
           "#ab63fa",
           "#FFA15A",
           "#19d3f3",
           "#FF6692",
           "#B6E880",
           "#FF97FF",
           "#FECB52"
          ],
          "font": {
           "color": "#2a3f5f"
          },
          "geo": {
           "bgcolor": "white",
           "lakecolor": "white",
           "landcolor": "#E5ECF6",
           "showlakes": true,
           "showland": true,
           "subunitcolor": "white"
          },
          "hoverlabel": {
           "align": "left"
          },
          "hovermode": "closest",
          "mapbox": {
           "style": "light"
          },
          "paper_bgcolor": "white",
          "plot_bgcolor": "#E5ECF6",
          "polar": {
           "angularaxis": {
            "gridcolor": "white",
            "linecolor": "white",
            "ticks": ""
           },
           "bgcolor": "#E5ECF6",
           "radialaxis": {
            "gridcolor": "white",
            "linecolor": "white",
            "ticks": ""
           }
          },
          "scene": {
           "xaxis": {
            "backgroundcolor": "#E5ECF6",
            "gridcolor": "white",
            "gridwidth": 2,
            "linecolor": "white",
            "showbackground": true,
            "ticks": "",
            "zerolinecolor": "white"
           },
           "yaxis": {
            "backgroundcolor": "#E5ECF6",
            "gridcolor": "white",
            "gridwidth": 2,
            "linecolor": "white",
            "showbackground": true,
            "ticks": "",
            "zerolinecolor": "white"
           },
           "zaxis": {
            "backgroundcolor": "#E5ECF6",
            "gridcolor": "white",
            "gridwidth": 2,
            "linecolor": "white",
            "showbackground": true,
            "ticks": "",
            "zerolinecolor": "white"
           }
          },
          "shapedefaults": {
           "line": {
            "color": "#2a3f5f"
           }
          },
          "ternary": {
           "aaxis": {
            "gridcolor": "white",
            "linecolor": "white",
            "ticks": ""
           },
           "baxis": {
            "gridcolor": "white",
            "linecolor": "white",
            "ticks": ""
           },
           "bgcolor": "#E5ECF6",
           "caxis": {
            "gridcolor": "white",
            "linecolor": "white",
            "ticks": ""
           }
          },
          "title": {
           "x": 0.05
          },
          "xaxis": {
           "automargin": true,
           "gridcolor": "white",
           "linecolor": "white",
           "ticks": "",
           "title": {
            "standoff": 15
           },
           "zerolinecolor": "white",
           "zerolinewidth": 2
          },
          "yaxis": {
           "automargin": true,
           "gridcolor": "white",
           "linecolor": "white",
           "ticks": "",
           "title": {
            "standoff": 15
           },
           "zerolinecolor": "white",
           "zerolinewidth": 2
          }
         }
        },
        "title": {
         "text": "Credit Card Fraud Class - data unbalance (Not fraud = 0, Fraud = 1)"
        },
        "width": 600,
        "xaxis": {
         "showticklabels": true,
         "title": {
          "text": "Class"
         }
        },
        "yaxis": {
         "title": {
          "text": "Number of transactions"
         }
        }
       }
      },
      "text/html": [
       "<div>\n",
       "        \n",
       "        \n",
       "            <div id=\"728b006e-286e-4b2c-98a9-c6b7a7618191\" class=\"plotly-graph-div\" style=\"height:525px; width:600px;\"></div>\n",
       "            <script type=\"text/javascript\">\n",
       "                require([\"plotly\"], function(Plotly) {\n",
       "                    window.PLOTLYENV=window.PLOTLYENV || {};\n",
       "                    \n",
       "                if (document.getElementById(\"728b006e-286e-4b2c-98a9-c6b7a7618191\")) {\n",
       "                    Plotly.newPlot(\n",
       "                        '728b006e-286e-4b2c-98a9-c6b7a7618191',\n",
       "                        [{\"marker\": {\"color\": \"Red\"}, \"name\": \"Credit Card Fraud Class - data unbalance (Not fraud = 0, Fraud = 1)\", \"text\": [9962.0, 38.0], \"type\": \"bar\", \"x\": [0, 1], \"y\": [9962, 38]}],\n",
       "                        {\"hovermode\": \"closest\", \"template\": {\"data\": {\"bar\": [{\"error_x\": {\"color\": \"#2a3f5f\"}, \"error_y\": {\"color\": \"#2a3f5f\"}, \"marker\": {\"line\": {\"color\": \"#E5ECF6\", \"width\": 0.5}}, \"type\": \"bar\"}], \"barpolar\": [{\"marker\": {\"line\": {\"color\": \"#E5ECF6\", \"width\": 0.5}}, \"type\": \"barpolar\"}], \"carpet\": [{\"aaxis\": {\"endlinecolor\": \"#2a3f5f\", \"gridcolor\": \"white\", \"linecolor\": \"white\", \"minorgridcolor\": \"white\", \"startlinecolor\": \"#2a3f5f\"}, \"baxis\": {\"endlinecolor\": \"#2a3f5f\", \"gridcolor\": \"white\", \"linecolor\": \"white\", \"minorgridcolor\": \"white\", \"startlinecolor\": \"#2a3f5f\"}, \"type\": \"carpet\"}], \"choropleth\": [{\"colorbar\": {\"outlinewidth\": 0, \"ticks\": \"\"}, \"type\": \"choropleth\"}], \"contour\": [{\"colorbar\": {\"outlinewidth\": 0, \"ticks\": \"\"}, \"colorscale\": [[0.0, \"#0d0887\"], [0.1111111111111111, \"#46039f\"], [0.2222222222222222, \"#7201a8\"], [0.3333333333333333, \"#9c179e\"], [0.4444444444444444, \"#bd3786\"], [0.5555555555555556, \"#d8576b\"], [0.6666666666666666, \"#ed7953\"], [0.7777777777777778, \"#fb9f3a\"], [0.8888888888888888, \"#fdca26\"], [1.0, \"#f0f921\"]], \"type\": \"contour\"}], \"contourcarpet\": [{\"colorbar\": {\"outlinewidth\": 0, \"ticks\": \"\"}, \"type\": \"contourcarpet\"}], \"heatmap\": [{\"colorbar\": {\"outlinewidth\": 0, \"ticks\": \"\"}, \"colorscale\": [[0.0, \"#0d0887\"], [0.1111111111111111, \"#46039f\"], [0.2222222222222222, \"#7201a8\"], [0.3333333333333333, \"#9c179e\"], [0.4444444444444444, \"#bd3786\"], [0.5555555555555556, \"#d8576b\"], [0.6666666666666666, \"#ed7953\"], [0.7777777777777778, \"#fb9f3a\"], [0.8888888888888888, \"#fdca26\"], [1.0, \"#f0f921\"]], \"type\": \"heatmap\"}], \"heatmapgl\": [{\"colorbar\": {\"outlinewidth\": 0, \"ticks\": \"\"}, \"colorscale\": [[0.0, \"#0d0887\"], [0.1111111111111111, \"#46039f\"], [0.2222222222222222, \"#7201a8\"], [0.3333333333333333, \"#9c179e\"], [0.4444444444444444, \"#bd3786\"], [0.5555555555555556, \"#d8576b\"], [0.6666666666666666, \"#ed7953\"], [0.7777777777777778, \"#fb9f3a\"], [0.8888888888888888, \"#fdca26\"], [1.0, \"#f0f921\"]], \"type\": \"heatmapgl\"}], \"histogram\": [{\"marker\": {\"colorbar\": {\"outlinewidth\": 0, \"ticks\": \"\"}}, \"type\": \"histogram\"}], \"histogram2d\": [{\"colorbar\": {\"outlinewidth\": 0, \"ticks\": \"\"}, \"colorscale\": [[0.0, \"#0d0887\"], [0.1111111111111111, \"#46039f\"], [0.2222222222222222, \"#7201a8\"], [0.3333333333333333, \"#9c179e\"], [0.4444444444444444, \"#bd3786\"], [0.5555555555555556, \"#d8576b\"], [0.6666666666666666, \"#ed7953\"], [0.7777777777777778, \"#fb9f3a\"], [0.8888888888888888, \"#fdca26\"], [1.0, \"#f0f921\"]], \"type\": \"histogram2d\"}], \"histogram2dcontour\": [{\"colorbar\": {\"outlinewidth\": 0, \"ticks\": \"\"}, \"colorscale\": [[0.0, \"#0d0887\"], [0.1111111111111111, \"#46039f\"], [0.2222222222222222, \"#7201a8\"], [0.3333333333333333, \"#9c179e\"], [0.4444444444444444, \"#bd3786\"], [0.5555555555555556, \"#d8576b\"], [0.6666666666666666, \"#ed7953\"], [0.7777777777777778, \"#fb9f3a\"], [0.8888888888888888, \"#fdca26\"], [1.0, \"#f0f921\"]], \"type\": \"histogram2dcontour\"}], \"mesh3d\": [{\"colorbar\": {\"outlinewidth\": 0, \"ticks\": \"\"}, \"type\": \"mesh3d\"}], \"parcoords\": [{\"line\": {\"colorbar\": {\"outlinewidth\": 0, \"ticks\": \"\"}}, \"type\": \"parcoords\"}], \"pie\": [{\"automargin\": true, \"type\": \"pie\"}], \"scatter\": [{\"marker\": {\"colorbar\": {\"outlinewidth\": 0, \"ticks\": \"\"}}, \"type\": \"scatter\"}], \"scatter3d\": [{\"line\": {\"colorbar\": {\"outlinewidth\": 0, \"ticks\": \"\"}}, \"marker\": {\"colorbar\": {\"outlinewidth\": 0, \"ticks\": \"\"}}, \"type\": \"scatter3d\"}], \"scattercarpet\": [{\"marker\": {\"colorbar\": {\"outlinewidth\": 0, \"ticks\": \"\"}}, \"type\": \"scattercarpet\"}], \"scattergeo\": [{\"marker\": {\"colorbar\": {\"outlinewidth\": 0, \"ticks\": \"\"}}, \"type\": \"scattergeo\"}], \"scattergl\": [{\"marker\": {\"colorbar\": {\"outlinewidth\": 0, \"ticks\": \"\"}}, \"type\": \"scattergl\"}], \"scattermapbox\": [{\"marker\": {\"colorbar\": {\"outlinewidth\": 0, \"ticks\": \"\"}}, \"type\": \"scattermapbox\"}], \"scatterpolar\": [{\"marker\": {\"colorbar\": {\"outlinewidth\": 0, \"ticks\": \"\"}}, \"type\": \"scatterpolar\"}], \"scatterpolargl\": [{\"marker\": {\"colorbar\": {\"outlinewidth\": 0, \"ticks\": \"\"}}, \"type\": \"scatterpolargl\"}], \"scatterternary\": [{\"marker\": {\"colorbar\": {\"outlinewidth\": 0, \"ticks\": \"\"}}, \"type\": \"scatterternary\"}], \"surface\": [{\"colorbar\": {\"outlinewidth\": 0, \"ticks\": \"\"}, \"colorscale\": [[0.0, \"#0d0887\"], [0.1111111111111111, \"#46039f\"], [0.2222222222222222, \"#7201a8\"], [0.3333333333333333, \"#9c179e\"], [0.4444444444444444, \"#bd3786\"], [0.5555555555555556, \"#d8576b\"], [0.6666666666666666, \"#ed7953\"], [0.7777777777777778, \"#fb9f3a\"], [0.8888888888888888, \"#fdca26\"], [1.0, \"#f0f921\"]], \"type\": \"surface\"}], \"table\": [{\"cells\": {\"fill\": {\"color\": \"#EBF0F8\"}, \"line\": {\"color\": \"white\"}}, \"header\": {\"fill\": {\"color\": \"#C8D4E3\"}, \"line\": {\"color\": \"white\"}}, \"type\": \"table\"}]}, \"layout\": {\"annotationdefaults\": {\"arrowcolor\": \"#2a3f5f\", \"arrowhead\": 0, \"arrowwidth\": 1}, \"coloraxis\": {\"colorbar\": {\"outlinewidth\": 0, \"ticks\": \"\"}}, \"colorscale\": {\"diverging\": [[0, \"#8e0152\"], [0.1, \"#c51b7d\"], [0.2, \"#de77ae\"], [0.3, \"#f1b6da\"], [0.4, \"#fde0ef\"], [0.5, \"#f7f7f7\"], [0.6, \"#e6f5d0\"], [0.7, \"#b8e186\"], [0.8, \"#7fbc41\"], [0.9, \"#4d9221\"], [1, \"#276419\"]], \"sequential\": [[0.0, \"#0d0887\"], [0.1111111111111111, \"#46039f\"], [0.2222222222222222, \"#7201a8\"], [0.3333333333333333, \"#9c179e\"], [0.4444444444444444, \"#bd3786\"], [0.5555555555555556, \"#d8576b\"], [0.6666666666666666, \"#ed7953\"], [0.7777777777777778, \"#fb9f3a\"], [0.8888888888888888, \"#fdca26\"], [1.0, \"#f0f921\"]], \"sequentialminus\": [[0.0, \"#0d0887\"], [0.1111111111111111, \"#46039f\"], [0.2222222222222222, \"#7201a8\"], [0.3333333333333333, \"#9c179e\"], [0.4444444444444444, \"#bd3786\"], [0.5555555555555556, \"#d8576b\"], [0.6666666666666666, \"#ed7953\"], [0.7777777777777778, \"#fb9f3a\"], [0.8888888888888888, \"#fdca26\"], [1.0, \"#f0f921\"]]}, \"colorway\": [\"#636efa\", \"#EF553B\", \"#00cc96\", \"#ab63fa\", \"#FFA15A\", \"#19d3f3\", \"#FF6692\", \"#B6E880\", \"#FF97FF\", \"#FECB52\"], \"font\": {\"color\": \"#2a3f5f\"}, \"geo\": {\"bgcolor\": \"white\", \"lakecolor\": \"white\", \"landcolor\": \"#E5ECF6\", \"showlakes\": true, \"showland\": true, \"subunitcolor\": \"white\"}, \"hoverlabel\": {\"align\": \"left\"}, \"hovermode\": \"closest\", \"mapbox\": {\"style\": \"light\"}, \"paper_bgcolor\": \"white\", \"plot_bgcolor\": \"#E5ECF6\", \"polar\": {\"angularaxis\": {\"gridcolor\": \"white\", \"linecolor\": \"white\", \"ticks\": \"\"}, \"bgcolor\": \"#E5ECF6\", \"radialaxis\": {\"gridcolor\": \"white\", \"linecolor\": \"white\", \"ticks\": \"\"}}, \"scene\": {\"xaxis\": {\"backgroundcolor\": \"#E5ECF6\", \"gridcolor\": \"white\", \"gridwidth\": 2, \"linecolor\": \"white\", \"showbackground\": true, \"ticks\": \"\", \"zerolinecolor\": \"white\"}, \"yaxis\": {\"backgroundcolor\": \"#E5ECF6\", \"gridcolor\": \"white\", \"gridwidth\": 2, \"linecolor\": \"white\", \"showbackground\": true, \"ticks\": \"\", \"zerolinecolor\": \"white\"}, \"zaxis\": {\"backgroundcolor\": \"#E5ECF6\", \"gridcolor\": \"white\", \"gridwidth\": 2, \"linecolor\": \"white\", \"showbackground\": true, \"ticks\": \"\", \"zerolinecolor\": \"white\"}}, \"shapedefaults\": {\"line\": {\"color\": \"#2a3f5f\"}}, \"ternary\": {\"aaxis\": {\"gridcolor\": \"white\", \"linecolor\": \"white\", \"ticks\": \"\"}, \"baxis\": {\"gridcolor\": \"white\", \"linecolor\": \"white\", \"ticks\": \"\"}, \"bgcolor\": \"#E5ECF6\", \"caxis\": {\"gridcolor\": \"white\", \"linecolor\": \"white\", \"ticks\": \"\"}}, \"title\": {\"x\": 0.05}, \"xaxis\": {\"automargin\": true, \"gridcolor\": \"white\", \"linecolor\": \"white\", \"ticks\": \"\", \"title\": {\"standoff\": 15}, \"zerolinecolor\": \"white\", \"zerolinewidth\": 2}, \"yaxis\": {\"automargin\": true, \"gridcolor\": \"white\", \"linecolor\": \"white\", \"ticks\": \"\", \"title\": {\"standoff\": 15}, \"zerolinecolor\": \"white\", \"zerolinewidth\": 2}}}, \"title\": {\"text\": \"Credit Card Fraud Class - data unbalance (Not fraud = 0, Fraud = 1)\"}, \"width\": 600, \"xaxis\": {\"showticklabels\": true, \"title\": {\"text\": \"Class\"}}, \"yaxis\": {\"title\": {\"text\": \"Number of transactions\"}}},\n",
       "                        {\"responsive\": true}\n",
       "                    ).then(function(){\n",
       "                            \n",
       "var gd = document.getElementById('728b006e-286e-4b2c-98a9-c6b7a7618191');\n",
       "var x = new MutationObserver(function (mutations, observer) {{\n",
       "        var display = window.getComputedStyle(gd).display;\n",
       "        if (!display || display === 'none') {{\n",
       "            console.log([gd, 'removed!']);\n",
       "            Plotly.purge(gd);\n",
       "            observer.disconnect();\n",
       "        }}\n",
       "}});\n",
       "\n",
       "// Listen for the removal of the full notebook cells\n",
       "var notebookContainer = gd.closest('#notebook-container');\n",
       "if (notebookContainer) {{\n",
       "    x.observe(notebookContainer, {childList: true});\n",
       "}}\n",
       "\n",
       "// Listen for the clearing of the current output cell\n",
       "var outputEl = gd.closest('.output');\n",
       "if (outputEl) {{\n",
       "    x.observe(outputEl, {childList: true});\n",
       "}}\n",
       "\n",
       "                        })\n",
       "                };\n",
       "                });\n",
       "            </script>\n",
       "        </div>"
      ]
     },
     "metadata": {},
     "output_type": "display_data"
    }
   ],
   "source": [
    "temp = data_df[\"Class\"].value_counts()\n",
    "df = pd.DataFrame({'Class': temp.index,'values': temp.values})\n",
    "\n",
    "trace = go.Bar(\n",
    "    x = df['Class'],y = df['values'],\n",
    "    name=\"Credit Card Fraud Class - data unbalance (Not fraud = 0, Fraud = 1)\",\n",
    "    marker=dict(color=\"Red\"),\n",
    "    text=df['values']\n",
    ")\n",
    "data = [trace]\n",
    "layout = dict(title = 'Credit Card Fraud Class - data unbalance (Not fraud = 0, Fraud = 1)',\n",
    "          xaxis = dict(title = 'Class', showticklabels=True), \n",
    "          yaxis = dict(title = 'Number of transactions'),\n",
    "          hovermode = 'closest',width=600\n",
    "         )\n",
    "fig = dict(data=data, layout=layout)\n",
    "iplot(fig, filename='class')"
   ]
  },
  {
   "cell_type": "code",
   "execution_count": 15,
   "metadata": {},
   "outputs": [
    {
     "data": {
      "image/png": "[encoded data removed]",
      "text/plain": [
       "<Figure size 1008x288 with 1 Axes>"
      ]
     },
     "metadata": {
      "needs_background": "light"
     },
     "output_type": "display_data"
    },
    {
     "data": {
      "application/vnd.plotly.v1+json": {
       "config": {
        "linkText": "Export to plot.ly",
        "plotlyServerURL": "https://plot.ly",
        "showLink": false
       },
       "data": [
        {
         "legendgroup": "Not Fraud",
         "marker": {
          "color": "rgb(31, 119, 180)"
         },
         "mode": "lines",
         "name": "Not Fraud",
         "showlegend": true,
         "type": "scatter",
         "x": [
          0,
          30.024,
          60.048,
          90.072,
          120.096,
          150.12,
          180.144,
          210.168,
          240.192,
          270.216,
          300.24,
          330.264,
          360.288,
          390.312,
          420.336,
          450.36,
          480.384,
          510.408,
          540.432,
          570.456,
          600.48,
          630.504,
          660.528,
          690.552,
          720.576,
          750.6,
          780.624,
          810.648,
          840.672,
          870.696,
          900.72,
          930.744,
          960.768,
          990.792,
          1020.816,
          1050.84,
          1080.864,
          1110.888,
          1140.912,
          1170.936,
          1200.96,
          1230.984,
          1261.008,
          1291.032,
          1321.056,
          1351.08,
          1381.104,
          1411.128,
          1441.152,
          1471.176,
          1501.2,
          1531.224,
          1561.248,
          1591.272,
          1621.296,
          1651.32,
          1681.344,
          1711.368,
          1741.392,
          1771.416,
          1801.44,
          1831.464,
          1861.488,
          1891.512,
          1921.536,
          1951.56,
          1981.584,
          2011.608,
          2041.632,
          2071.656,
          2101.68,
          2131.704,
          2161.728,
          2191.752,
          2221.776,
          2251.8,
          2281.824,
          2311.848,
          2341.872,
          2371.896,
          2401.92,
          2431.944,
          2461.968,
          2491.992,
          2522.016,
          2552.04,
          2582.064,
          2612.088,
          2642.112,
          2672.136,
          2702.16,
          2732.184,
          2762.208,
          2792.232,
          2822.256,
          2852.28,
          2882.304,
          2912.328,
          2942.352,
          2972.376,
          3002.4,
          3032.424,
          3062.448,
          3092.472,
          3122.496,
          3152.52,
          3182.544,
          3212.568,
          3242.592,
          3272.616,
          3302.64,
          3332.664,
          3362.688,
          3392.712,
          3422.736,
          3452.76,
          3482.784,
          3512.808,
          3542.832,
          3572.856,
          3602.88,
          3632.904,
          3662.928,
          3692.952,
          3722.976,
          3753,
          3783.024,
          3813.048,
          3843.072,
          3873.096,
          3903.12,
          3933.144,
          3963.168,
          3993.192,
          4023.216,
          4053.24,
          4083.264,
          4113.288,
          4143.312,
          4173.336,
          4203.36,
          4233.384,
          4263.408,
          4293.432,
          4323.456,
          4353.48,
          4383.504,
          4413.528,
          4443.552,
          4473.576,
          4503.6,
          4533.624,
          4563.648,
          4593.672,
          4623.696,
          4653.72,
          4683.744,
          4713.768,
          4743.792,
          4773.816,
          4803.84,
          4833.864,
          4863.888,
          4893.912,
          4923.936,
          4953.96,
          4983.984,
          5014.008,
          5044.032,
          5074.056,
          5104.08,
          5134.104,
          5164.128,
          5194.152,
          5224.176,
          5254.2,
          5284.224,
          5314.248,
          5344.272,
          5374.296,
          5404.32,
          5434.344,
          5464.368,
          5494.392,
          5524.416,
          5554.44,
          5584.464,
          5614.488,
          5644.512,
          5674.536,
          5704.56,
          5734.584,
          5764.608,
          5794.632,
          5824.656,
          5854.68,
          5884.704,
          5914.728,
          5944.752,
          5974.776,
          6004.8,
          6034.824,
          6064.848,
          6094.872,
          6124.896,
          6154.92,
          6184.944,
          6214.968,
          6244.992,
          6275.016,
          6305.04,
          6335.064,
          6365.088,
          6395.112,
          6425.136,
          6455.16,
          6485.184,
          6515.208,
          6545.232,
          6575.256,
          6605.28,
          6635.304,
          6665.328,
          6695.352,
          6725.376,
          6755.4,
          6785.424,
          6815.448,
          6845.472,
          6875.496,
          6905.52,
          6935.544,
          6965.568,
          6995.592,
          7025.616,
          7055.64,
          7085.664,
          7115.688,
          7145.712,
          7175.736,
          7205.76,
          7235.784,
          7265.808,
          7295.832,
          7325.856,
          7355.88,
          7385.904,
          7415.928,
          7445.952,
          7475.976,
          7506,
          7536.024,
          7566.048,
          7596.072,
          7626.096,
          7656.12,
          7686.144,
          7716.168,
          7746.192,
          7776.216,
          7806.24,
          7836.264,
          7866.288,
          7896.312,
          7926.336,
          7956.36,
          7986.384,
          8016.408,
          8046.432,
          8076.456,
          8106.48,
          8136.504,
          8166.528,
          8196.552,
          8226.576,
          8256.6,
          8286.624,
          8316.648,
          8346.672,
          8376.696,
          8406.72,
          8436.744,
          8466.768,
          8496.792,
          8526.816,
          8556.84,
          8586.864,
          8616.888,
          8646.912,
          8676.936,
          8706.96,
          8736.984,
          8767.008,
          8797.032,
          8827.056,
          8857.08,
          8887.104,
          8917.128,
          8947.152,
          8977.176,
          9007.2,
          9037.224,
          9067.248,
          9097.272,
          9127.296,
          9157.32,
          9187.344,
          9217.368,
          9247.392,
          9277.416,
          9307.44,
          9337.464,
          9367.488,
          9397.512,
          9427.536,
          9457.56,
          9487.584,
          9517.608,
          9547.632,
          9577.656,
          9607.68,
          9637.704,
          9667.728,
          9697.752,
          9727.776,
          9757.8,
          9787.824,
          9817.848,
          9847.872,
          9877.896,
          9907.92,
          9937.944,
          9967.968,
          9997.992,
          10028.016,
          10058.04,
          10088.064,
          10118.088,
          10148.112,
          10178.136,
          10208.16,
          10238.184,
          10268.208,
          10298.232,
          10328.256,
          10358.28,
          10388.304,
          10418.328,
          10448.352,
          10478.376,
          10508.4,
          10538.424,
          10568.448,
          10598.472,
          10628.496,
          10658.52,
          10688.544,
          10718.568,
          10748.592,
          10778.616,
          10808.64,
          10838.664,
          10868.688,
          10898.712,
          10928.736,
          10958.76,
          10988.784,
          11018.808,
          11048.832,
          11078.856,
          11108.88,
          11138.904,
          11168.928,
          11198.952,
          11228.976,
          11259,
          11289.024,
          11319.048,
          11349.072,
          11379.096,
          11409.12,
          11439.144,
          11469.168,
          11499.192,
          11529.216,
          11559.24,
          11589.264,
          11619.288,
          11649.312,
          11679.336,
          11709.36,
          11739.384,
          11769.408,
          11799.432,
          11829.456,
          11859.48,
          11889.504,
          11919.528,
          11949.552,
          11979.576,
          12009.6,
          12039.624,
          12069.648,
          12099.672,
          12129.696,
          12159.72,
          12189.744,
          12219.768,
          12249.792,
          12279.816,
          12309.84,
          12339.864,
          12369.888,
          12399.912,
          12429.936,
          12459.96,
          12489.984,
          12520.008,
          12550.032,
          12580.056,
          12610.08,
          12640.104,
          12670.128,
          12700.152,
          12730.176,
          12760.2,
          12790.224,
          12820.248,
          12850.272,
          12880.296,
          12910.32,
          12940.344,
          12970.368,
          13000.392,
          13030.416,
          13060.44,
          13090.464,
          13120.488,
          13150.512,
          13180.536,
          13210.56,
          13240.584,
          13270.608,
          13300.632,
          13330.656,
          13360.68,
          13390.704,
          13420.728,
          13450.752,
          13480.776,
          13510.8,
          13540.824,
          13570.848,
          13600.872,
          13630.896,
          13660.92,
          13690.944,
          13720.968,
          13750.992,
          13781.016,
          13811.04,
          13841.064,
          13871.088,
          13901.112,
          13931.136,
          13961.16,
          13991.184,
          14021.208,
          14051.232,
          14081.256,
          14111.28,
          14141.304,
          14171.328,
          14201.352,
          14231.376,
          14261.4,
          14291.424,
          14321.448,
          14351.472,
          14381.496,
          14411.52,
          14441.544,
          14471.568,
          14501.592,
          14531.616,
          14561.64,
          14591.664,
          14621.688,
          14651.712,
          14681.736,
          14711.76,
          14741.784,
          14771.808,
          14801.832,
          14831.856,
          14861.88,
          14891.904,
          14921.928,
          14951.952,
          14981.976
         ],
         "xaxis": "x",
         "y": [
          6.489284384549455e-05,
          6.70036756298201e-05,
          6.910419860075438e-05,
          7.119033480908423e-05,
          7.325805009514996e-05,
          7.530337411156738e-05,
          7.732241979142728e-05,
          7.931140210834337e-05,
          8.126665598484982e-05,
          8.318465321733219e-05,
          8.506201829879475e-05,
          8.689554303502884e-05,
          8.868219986488758e-05,
          9.041915381120543e-05,
          9.210377300509741e-05,
          9.373363774272273e-05,
          9.530654804973947e-05,
          9.682052974457035e-05,
          9.827383900673969e-05,
          9.966496547096606e-05,
          0.00010099263388104982,
          0.0001022558043498077,
          0.00010345367128218479,
          0.0001045856610281743,
          0.0001056514283401655,
          0.00010665085171586876,
          0.00010758402771286455,
          0.00010845126432438648,
          0.00010925307350789086,
          0.00010999016295868146,
          0.00011066342722024069,
          0.00011127393822116931,
          0.00011182293532590492,
          0.00011231181498283091,
          0.00011274212004901864,
          0.00011311552886614438,
          0.0001134338441568598,
          0.0001136989818055239,
          0.00011391295958176981,
          0.00011407788585995021,
          0.00011419594838236701,
          0.00011426940310923845,
          0.00011430056319389564,
          0.00011429178811763144,
          0.00011424547301503484,
          0.00011416403821767294,
          0.00011404991904135511,
          0.00011390555584031852,
          0.00011373338435006302,
          0.00011353582633945817,
          0.00011331528059201055,
          0.00011307411423568373,
          0.00011281465444040434,
          0.00011253918050221027,
          0.00011224991633287869,
          0.00011194902337363148,
          0.00011163859395120157,
          0.00011132064509391642,
          0.00011099711282457235,
          0.00011066984694566068,
          0.00011034060633082496,
          0.00011001105473439364,
          0.00010968275712834182,
          0.00010935717657308393,
          0.00010903567162519723,
          0.0001087194942814836,
          0.0001084097884547745,
          0.00010810758897266701,
          0.00010781382108600513,
          0.00010752930046946412,
          0.00010725473369226843,
          0.00010699071913278468,
          0.0001067377483068335,
          0.00010649620757597291,
          0.00010626638019890189,
          0.00010604844868665302,
          0.00010584249742043746,
          0.00010564851548988437,
          0.0001054663997092287,
          0.00010529595776952377,
          0.00010513691148652053,
          0.00010498890010613308,
          0.00010485148363269123,
          0.00010472414614918535,
          0.00010460629910347768,
          0.00010449728453994723,
          0.0001043963782619499,
          0.0001043027929169528,
          0.00010421568100284958,
          0.0001041341378007645,
          0.00010405720424643957,
          0.00010398386975877208,
          0.00010391307505024826,
          0.00010384371494953396,
          0.00010377464127129778,
          0.0001037046657722783,
          0.00010363256323544036,
          0.00010355707472581039,
          0.00010347691106204358,
          0.00010339075654688537,
          0.00010329727299750028,
          0.00010319510411299777,
          0.00010308288021156272,
          0.0001029592233633377,
          0.00010282275293774214,
          0.00010267209157539596,
          0.00010250587158535904,
          0.0001023227417581508,
          0.00010212137457431242,
          0.00010190047377713991,
          0.00010165878226710944,
          0.00010139509026447892,
          0.00010110824367601363,
          0.00010079715259183781,
          0.00010046079982945145,
          0.00010009824943409132,
          9.970865503811212e-05,
          9.929126797708702e-05,
          9.884544505710763e-05,
          9.83706558662399e-05,
          9.786648952362488e-05,
          9.733266076205536e-05,
          9.676901524425156e-05,
          9.6175534019355e-05,
          9.555233703424419e-05,
          9.48996856242037e-05,
          9.421798391884555e-05,
          9.350777911206596e-05,
          9.276976055878378e-05,
          9.200475767614318e-05,
          9.121373664245764e-05,
          9.039779590313642e-05,
          8.955816050891887e-05,
          8.869617532762298e-05,
          8.781329718602582e-05,
          8.691108601316113e-05,
          8.599119506997979e-05,
          8.505536036271053e-05,
          8.410538934825937e-05,
          8.314314904926086e-05,
          8.217055370397416e-05,
          8.118955208181884e-05,
          8.020211459905944e-05,
          7.921022037076354e-05,
          7.821584433485723e-05,
          7.722094458175678e-05,
          7.62274500188709e-05,
          7.523724849326448e-05,
          7.425217548813587e-05,
          7.327400349962831e-05,
          7.230443219006288e-05,
          7.134507940213221e-05,
          7.039747310619572e-05,
          6.94630443396997e-05,
          6.854312118424643e-05,
          6.763892381208676e-05,
          6.675156062008368e-05,
          6.588202545569413e-05,
          6.503119592642272e-05,
          6.419983277169397e-05,
          6.338858026439001e-05,
          6.259796759844925e-05,
          6.182841120914027e-05,
          6.108021796393549e-05,
          6.035358915444304e-05,
          5.964862521361134e-05,
          5.896533107745482e-05,
          5.8303622106870136e-05,
          5.766333048268435e-05,
          5.704421198586387e-05,
          5.6445953074790596e-05,
          5.586817817257463e-05,
          5.531045707947291e-05,
          5.4772312428484075e-05,
          5.4253227106072985e-05,
          5.375265156451544e-05,
          5.3270010957570216e-05,
          5.280471203686814e-05,
          5.235614975248492e-05,
          5.192371350754801e-05,
          5.1506793023273315e-05,
          5.110478377745177e-05,
          5.07170919860514e-05,
          5.0343139104109784e-05,
          4.99823658284669e-05,
          4.9634235591009835e-05,
          4.929823753693847e-05,
          4.897388898804251e-05,
          4.866073739611027e-05,
          4.835836179627751e-05,
          4.8066373774409166e-05,
          4.778441796644001e-05,
          4.751217211098667e-05,
          4.724934667949659e-05,
          4.6995684110709216e-05,
          4.675095767830429e-05,
          4.651497002231441e-05,
          4.628755137619128e-05,
          4.6068557522408306e-05,
          4.585786751010705e-05,
          4.565538116868567e-05,
          4.5461016451299454e-05,
          4.527470664211542e-05,
          4.50963974608196e-05,
          4.4926044097345624e-05,
          4.476360820910812e-05,
          4.460905491220612e-05,
          4.446234979712665e-05,
          4.43234559984204e-05,
          4.419233134670223e-05,
          4.4068925630093636e-05,
          4.395317799092332e-05,
          4.3845014482128744e-05,
          4.374434580633035e-05,
          4.365106525900784e-05,
          4.356504689558658e-05,
          4.3486143940502716e-05,
          4.34141874544981e-05,
          4.3348985274470185e-05,
          4.32903212381433e-05,
          4.323795470368167e-05,
          4.319162037207253e-05,
          4.3151028417710744e-05,
          4.311586493010292e-05,
          4.3085792666963844e-05,
          4.30604521162738e-05,
          4.303946286202053e-05,
          4.302242524548676e-05,
          4.300892231099501e-05,
          4.299852202208593e-05,
          4.299077973114192e-05,
          4.298524088259176e-05,
          4.2981443926990986e-05,
          4.297892342057738e-05,
          4.297721328234955e-05,
          4.2975850178371884e-05,
          4.297437700088783e-05,
          4.297234640799509e-05,
          4.2969324388108634e-05,
          4.296489381227879e-05,
          4.295865793662592e-05,
          4.2950243816787866e-05,
          4.293930559631933e-05,
          4.292552763147727e-05,
          4.290862741579045e-05,
          4.28883582692121e-05,
          4.286451175854428e-05,
          4.283691981812878e-05,
          4.280545654255914e-05,
          4.277003962631426e-05,
          4.2730631428757655e-05,
          4.268723964680982e-05,
          4.2639917581762406e-05,
          4.258876399112299e-05,
          4.253392252099675e-05,
          4.247558071924927e-05,
          4.241396863454898e-05,
          4.234935701124418e-05,
          4.228205509486162e-05,
          4.221240806774629e-05,
          4.2140794138950055e-05,
          4.206762131684289e-05,
          4.1993323897020976e-05,
          4.191835870188756e-05,
          4.184320111168996e-05,
          4.176834092981422e-05,
          4.1694278127706674e-05,
          4.162151851686539e-05,
          4.1550569396914133e-05,
          4.1481935229814366e-05,
          4.141611339073906e-05,
          4.13535900460556e-05,
          4.129483620819906e-05,
          4.124030401599778e-05,
          4.11904232872029e-05,
          4.114559838760659e-05,
          4.110620545824252e-05,
          4.107259003871838e-05,
          4.104506512078833e-05,
          4.102390966188752e-05,
          4.100936758348033e-05,
          4.1001647273849864e-05,
          4.100092160934551e-05,
          4.100732850218926e-05,
          4.102097197678586e-05,
          4.104192377010038e-05,
          4.107022544514764e-05,
          4.110589100004515e-05,
          4.114890994846161e-05,
          4.119925084073527e-05,
          4.125686518847912e-05,
          4.1321691749263475e-05,
          4.13936611219736e-05,
          4.1472700597811196e-05,
          4.155873920669476e-05,
          4.165171289409608e-05,
          4.175156975918573e-05,
          4.185827528165746e-05,
          4.197181746177645e-05,
          4.2092211796167345e-05,
          4.2219506010627256e-05,
          4.23537844709243e-05,
          4.249517219311495e-05,
          4.2643838376472817e-05,
          4.2799999384645895e-05,
          4.29639211041989e-05,
          4.313592061424921e-05,
          4.331636710646923e-05,
          4.350568200124916e-05,
          4.3704338213357406e-05,
          4.391285852881953e-05,
          4.4131813064038576e-05,
          4.436181578824131e-05,
          4.4603520101097674e-05,
          4.485761346874881e-05,
          4.512481113334422e-05,
          4.5405848923429935e-05,
          4.57014752050194e-05,
          4.601244202574555e-05,
          4.6339495517009414e-05,
          4.66833656313322e-05,
          4.704475530401431e-05,
          4.742432913954293e-05,
          4.782270173378748e-05,
          4.8240425752720025e-05,
          4.8677979896990835e-05,
          4.913575688907062e-05,
          4.961405162561482e-05,
          5.011304964212388e-05,
          5.063281603969907e-05,
          5.117328502462323e-05,
          5.1734250210544005e-05,
          5.231535583009669e-05,
          5.291608899787582e-05,
          5.353577315968183e-05,
          5.417356285396009e-05,
          5.482843990036528e-05,
          5.549921111744449e-05,
          5.6184507656721845e-05,
          5.6882786024023046e-05,
          5.759233084095175e-05,
          5.831125938016426e-05,
          5.9037527887734594e-05,
          5.976893968470376e-05,
          6.0503155018151615e-05,
          6.123770261009529e-05,
          6.196999283053265e-05,
          6.269733239934011e-05,
          6.341694050080127e-05,
          6.41259661746633e-05,
          6.482150682904166e-05,
          6.55006277036459e-05,
          6.61603820968071e-05,
          6.679783215712243e-05,
          6.74100700302384e-05,
          6.799423914370718e-05,
          6.854755540810635e-05,
          6.906732811077195e-05,
          6.955098027973729e-05,
          6.999606829970342e-05,
          7.040030056920003e-05,
          7.076155499828559e-05,
          7.107789515923874e-05,
          7.134758491835592e-05,
          7.156910139510892e-05,
          7.174114611517679e-05,
          7.18626542459571e-05,
          7.193280182679924e-05,
          7.195101093091746e-05,
          7.191695272147277e-05,
          7.183054839011723e-05,
          7.169196799212718e-05,
          7.150162721755536e-05,
          7.126018216233995e-05,
          7.096852218656425e-05,
          7.06277609687559e-05,
          7.023922588491113e-05,
          6.980444585857361e-05,
          6.932513784350215e-05,
          6.88031921130907e-05,
          6.824065654056525e-05,
          6.763972006102085e-05,
          6.700269551050201e-05,
          6.633200203863229e-05,
          6.563014728974786e-05,
          6.489970954329904e-05,
          6.414331999750885e-05,
          6.336364537116442e-05,
          6.256337098721393e-05,
          6.174518448874504e-05,
          6.091176032327241e-05,
          6.006574511534142e-05,
          5.920974403056334e-05,
          5.83463082166692e-05,
          5.747792338929243e-05,
          5.6606999612301645e-05,
          5.573586230485773e-05,
          5.486674449024635e-05,
          5.400178028520599e-05,
          5.314299961310382e-05,
          5.229232411012958e-05,
          5.145156418082068e-05,
          5.0622417147823605e-05,
          4.9806466430900086e-05,
          4.900518168188817e-05,
          4.821991979561164e-05,
          4.745192671158922e-05,
          4.670233991779536e-05,
          4.597219156559039e-05,
          4.526241210416226e-05,
          4.457383434332849e-05,
          4.390719785517935e-05,
          4.326315362768881e-05,
          4.2642268886923424e-05,
          4.204503200871353e-05,
          4.147185744546799e-05,
          4.0923090599076894e-05,
          4.039901257643759e-05,
          3.989984476994003e-05,
          3.9425753211151344e-05,
          3.897685265186912e-05,
          3.8553210332593256e-05,
          3.8154849404228866e-05,
          3.778175197447559e-05,
          3.74338617557992e-05,
          3.711108629717799e-05,
          3.6813298786908966e-05,
          3.654033941870602e-05,
          3.629201631811988e-05,
          3.606810603099179e-05,
          3.586835358025574e-05,
          3.569247210193963e-05,
          3.554014207574345e-05,
          3.5411010170071555e-05,
          3.5304687725928546e-05,
          3.5220748908625786e-05,
          3.515872856080315e-05,
          3.5118119794821325e-05,
          3.50983713671094e-05,
          3.509888488149129e-05,
          3.5119011872845725e-05,
          3.515805082656877e-05,
          3.521524419315979e-05,
          3.5289775460729315e-05,
          3.538076635125289e-05,
          3.548727420884617e-05,
          3.5608289650133294e-05,
          3.574273454780117e-05,
          3.588946041858759e-05,
          3.604724728615296e-05,
          3.62148030874389e-05,
          3.63907636881803e-05,
          3.657369356913446e-05,
          3.6762087239315216e-05,
          3.69543714260542e-05,
          3.7148908084063197e-05,
          3.7343998256916255e-05,
          3.753788681452876e-05,
          3.772876807942531e-05,
          3.791479234294943e-05,
          3.809407326022992e-05,
          3.8264696099861426e-05,
          3.842472681104711e-05,
          3.857222185761633e-05,
          3.870523875508307e-05,
          3.882184723396835e-05,
          3.8920140940231484e-05,
          3.8998249572050785e-05,
          3.905435134160786e-05,
          3.908668564117703e-05,
          3.909356578490707e-05,
          3.907339169138974e-05,
          3.902466236760822e-05,
          3.8945988052265284e-05,
          3.883610187592942e-05,
          3.8693870896949964e-05,
          3.851830637573332e-05,
          3.830857315571145e-05,
          3.80639980271428e-05,
          3.778407695966732e-05,
          3.746848110117304e-05,
          3.711706145386345e-05,
          3.672985215325212e-05,
          3.6307072291927364e-05,
          3.584912624709034e-05,
          3.5356602488795865e-05,
          3.483027086424249e-05,
          3.427107837207531e-05,
          3.3680143459172855e-05,
          3.3058748890516367e-05,
          3.240833326017147e-05,
          3.173048122789063e-05,
          3.102691258111286e-05,
          3.0299470235945267e-05,
          2.9550107302872032e-05,
          2.8780873353259882e-05,
          2.799390003107632e-05,
          2.7191386160505934e-05,
          2.6375582504262145e-05,
          2.554877632933394e-05
         ],
         "yaxis": "y"
        },
        {
         "legendgroup": "Fraud",
         "marker": {
          "color": "rgb(255, 127, 14)"
         },
         "mode": "lines",
         "name": "Fraud",
         "showlegend": true,
         "type": "scatter",
         "x": [
          406,
          433.492,
          460.984,
          488.476,
          515.968,
          543.46,
          570.952,
          598.444,
          625.936,
          653.428,
          680.9200000000001,
          708.412,
          735.904,
          763.396,
          790.8879999999999,
          818.38,
          845.8720000000001,
          873.364,
          900.856,
          928.348,
          955.84,
          983.332,
          1010.824,
          1038.316,
          1065.808,
          1093.3,
          1120.792,
          1148.284,
          1175.7759999999998,
          1203.268,
          1230.76,
          1258.252,
          1285.7440000000001,
          1313.2359999999999,
          1340.728,
          1368.22,
          1395.712,
          1423.204,
          1450.696,
          1478.188,
          1505.68,
          1533.172,
          1560.664,
          1588.156,
          1615.648,
          1643.14,
          1670.632,
          1698.124,
          1725.616,
          1753.108,
          1780.6,
          1808.092,
          1835.584,
          1863.076,
          1890.568,
          1918.06,
          1945.552,
          1973.044,
          2000.536,
          2028.028,
          2055.52,
          2083.0119999999997,
          2110.504,
          2137.996,
          2165.4880000000003,
          2192.98,
          2220.4719999999998,
          2247.964,
          2275.456,
          2302.9480000000003,
          2330.44,
          2357.932,
          2385.424,
          2412.916,
          2440.408,
          2467.9,
          2495.392,
          2522.884,
          2550.376,
          2577.868,
          2605.36,
          2632.852,
          2660.344,
          2687.836,
          2715.328,
          2742.82,
          2770.312,
          2797.804,
          2825.296,
          2852.788,
          2880.28,
          2907.772,
          2935.264,
          2962.756,
          2990.248,
          3017.74,
          3045.232,
          3072.724,
          3100.216,
          3127.708,
          3155.2,
          3182.692,
          3210.184,
          3237.676,
          3265.168,
          3292.66,
          3320.152,
          3347.644,
          3375.136,
          3402.628,
          3430.12,
          3457.612,
          3485.104,
          3512.596,
          3540.088,
          3567.58,
          3595.072,
          3622.564,
          3650.056,
          3677.548,
          3705.04,
          3732.532,
          3760.024,
          3787.516,
          3815.008,
          3842.5,
          3869.992,
          3897.484,
          3924.976,
          3952.468,
          3979.96,
          4007.452,
          4034.944,
          4062.436,
          4089.928,
          4117.42,
          4144.912,
          4172.404,
          4199.896000000001,
          4227.388,
          4254.88,
          4282.371999999999,
          4309.864,
          4337.356,
          4364.848,
          4392.34,
          4419.832,
          4447.3240000000005,
          4474.816,
          4502.308,
          4529.8,
          4557.292,
          4584.784,
          4612.276,
          4639.768,
          4667.26,
          4694.752,
          4722.244,
          4749.736,
          4777.228,
          4804.72,
          4832.212,
          4859.704,
          4887.196,
          4914.688,
          4942.18,
          4969.672,
          4997.164,
          5024.656,
          5052.148,
          5079.64,
          5107.132,
          5134.624,
          5162.116,
          5189.608,
          5217.1,
          5244.592,
          5272.084,
          5299.576,
          5327.068,
          5354.56,
          5382.052,
          5409.544,
          5437.036,
          5464.528,
          5492.02,
          5519.512,
          5547.004,
          5574.496,
          5601.988,
          5629.48,
          5656.972,
          5684.464,
          5711.956,
          5739.448,
          5766.94,
          5794.432,
          5821.924,
          5849.416,
          5876.908,
          5904.4,
          5931.892,
          5959.384,
          5986.876,
          6014.368,
          6041.86,
          6069.352,
          6096.844,
          6124.336,
          6151.828,
          6179.32,
          6206.812,
          6234.304,
          6261.796,
          6289.288,
          6316.78,
          6344.272,
          6371.764,
          6399.256,
          6426.748,
          6454.24,
          6481.732,
          6509.224,
          6536.716,
          6564.208,
          6591.7,
          6619.192,
          6646.684,
          6674.176,
          6701.668,
          6729.16,
          6756.652,
          6784.144,
          6811.636,
          6839.128,
          6866.62,
          6894.112,
          6921.604,
          6949.096,
          6976.588,
          7004.08,
          7031.572,
          7059.064,
          7086.556,
          7114.048,
          7141.54,
          7169.032,
          7196.524,
          7224.016,
          7251.508,
          7279,
          7306.492,
          7333.984,
          7361.476,
          7388.968,
          7416.46,
          7443.952,
          7471.444,
          7498.936,
          7526.428,
          7553.92,
          7581.412,
          7608.904,
          7636.396,
          7663.888,
          7691.38,
          7718.872,
          7746.364,
          7773.856,
          7801.348,
          7828.84,
          7856.332,
          7883.824,
          7911.316,
          7938.808,
          7966.3,
          7993.792,
          8021.284,
          8048.776,
          8076.268,
          8103.76,
          8131.252,
          8158.744,
          8186.236,
          8213.728,
          8241.220000000001,
          8268.712,
          8296.204,
          8323.696,
          8351.188,
          8378.68,
          8406.171999999999,
          8433.664,
          8461.155999999999,
          8488.648000000001,
          8516.14,
          8543.632,
          8571.124,
          8598.616,
          8626.108,
          8653.6,
          8681.092,
          8708.584,
          8736.076,
          8763.568,
          8791.06,
          8818.552,
          8846.044,
          8873.536,
          8901.028,
          8928.52,
          8956.012,
          8983.504,
          9010.996,
          9038.488,
          9065.98,
          9093.472,
          9120.964,
          9148.456,
          9175.948,
          9203.44,
          9230.932,
          9258.424,
          9285.916,
          9313.408,
          9340.9,
          9368.392,
          9395.884,
          9423.376,
          9450.868,
          9478.36,
          9505.852,
          9533.344,
          9560.836,
          9588.328,
          9615.82,
          9643.312,
          9670.804,
          9698.296,
          9725.788,
          9753.28,
          9780.772,
          9808.264,
          9835.756,
          9863.248,
          9890.74,
          9918.232,
          9945.724,
          9973.216,
          10000.708,
          10028.2,
          10055.692,
          10083.184,
          10110.676,
          10138.168,
          10165.66,
          10193.152,
          10220.644,
          10248.136,
          10275.628,
          10303.12,
          10330.612,
          10358.104,
          10385.596,
          10413.088,
          10440.58,
          10468.072,
          10495.564,
          10523.056,
          10550.548,
          10578.04,
          10605.532,
          10633.024,
          10660.516,
          10688.008,
          10715.5,
          10742.992,
          10770.484,
          10797.976,
          10825.468,
          10852.96,
          10880.452,
          10907.944,
          10935.436,
          10962.928,
          10990.42,
          11017.912,
          11045.404,
          11072.896,
          11100.388,
          11127.88,
          11155.372,
          11182.864,
          11210.356,
          11237.848,
          11265.34,
          11292.832,
          11320.324,
          11347.816,
          11375.308,
          11402.8,
          11430.292,
          11457.784,
          11485.276,
          11512.768,
          11540.26,
          11567.752,
          11595.244,
          11622.736,
          11650.228,
          11677.72,
          11705.212,
          11732.704,
          11760.196,
          11787.688,
          11815.18,
          11842.672,
          11870.164,
          11897.656,
          11925.148,
          11952.64,
          11980.132,
          12007.624,
          12035.116,
          12062.608,
          12090.1,
          12117.592,
          12145.084,
          12172.576,
          12200.068,
          12227.56,
          12255.052,
          12282.544,
          12310.036,
          12337.528,
          12365.02,
          12392.512,
          12420.004,
          12447.496,
          12474.988,
          12502.48,
          12529.972,
          12557.464,
          12584.956,
          12612.448,
          12639.94,
          12667.432,
          12694.924,
          12722.416,
          12749.908,
          12777.4,
          12804.892,
          12832.384,
          12859.876,
          12887.368,
          12914.86,
          12942.352,
          12969.844,
          12997.336,
          13024.828,
          13052.32,
          13079.812,
          13107.304,
          13134.796,
          13162.288,
          13189.78,
          13217.272,
          13244.764,
          13272.256,
          13299.748,
          13327.24,
          13354.732,
          13382.224,
          13409.716,
          13437.208,
          13464.7,
          13492.192,
          13519.684,
          13547.176,
          13574.668,
          13602.16,
          13629.652,
          13657.144,
          13684.636,
          13712.128,
          13739.62,
          13767.112,
          13794.604,
          13822.096,
          13849.588,
          13877.08,
          13904.572,
          13932.064,
          13959.556,
          13987.048,
          14014.54,
          14042.032,
          14069.524,
          14097.016,
          14124.508
         ],
         "xaxis": "x",
         "y": [
          1.4294931861828764e-05,
          1.4307192021719521e-05,
          1.4315015767132635e-05,
          1.431841869187773e-05,
          1.4317421658578816e-05,
          1.4312050785084305e-05,
          1.4302337421883841e-05,
          1.428831812056588e-05,
          1.4270034593371269e-05,
          1.4247533663919404e-05,
          1.4220867209204352e-05,
          1.4190092092979338e-05,
          1.4155270090668337e-05,
          1.4116467805964107e-05,
          1.4073756579291488e-05,
          1.4027212388334399e-05,
          1.3976915740844026e-05,
          1.3922951559963925e-05,
          1.3865409062325705e-05,
          1.3804381629186279e-05,
          1.3739966670894071e-05,
          1.3672265484987519e-05,
          1.3601383108244319e-05,
          1.3527428163014139e-05,
          1.3450512698181161e-05,
          1.3370752025115216e-05,
          1.3288264548982419e-05,
          1.32031715957968e-05,
          1.3115597235604463e-05,
          1.3025668102200965e-05,
          1.2933513209790469e-05,
          1.2839263767002494e-05,
          1.27430529886879e-05,
          1.2645015905921257e-05,
          1.2545289174640426e-05,
          1.2444010883357644e-05,
          1.234132036037828e-05,
          1.2237357980964557e-05,
          1.2132264974881702e-05,
          1.2026183234763208e-05,
          1.191925512572969e-05,
          1.1811623296693402e-05,
          1.1703430493776524e-05,
          1.1594819376266485e-05,
          1.1485932335526309e-05,
          1.1376911317271155e-05,
          1.1267897647615016e-05,
          1.1159031863283179e-05,
          1.1050453546377173e-05,
          1.0942301164068831e-05,
          1.0834711913589743e-05,
          1.072782157287069e-05,
          1.0621764357174002e-05,
          1.0516672782048478e-05,
          1.0412677532923528e-05,
          1.030990734164511e-05,
          1.0208488870240989e-05,
          1.0108546602188339e-05,
          1.0010202741440309e-05,
          9.913577119452589e-06,
          9.818787110433748e-06,
          9.72594755502657e-06,
          9.635170692609691e-06,
          9.54656610239122e-06,
          9.46024065344777e-06,
          9.3762984638437e-06,
          9.294840868946791e-06,
          9.215966399037431e-06,
          9.139770766289037e-06,
          9.066346861178319e-06,
          8.99578475836398e-06,
          8.928171732053154e-06,
          8.863592280854676e-06,
          8.802128162098606e-06,
          8.743858435581383e-06,
          8.688859516675909e-06,
          8.637205238726176e-06,
          8.588966924625447e-06,
          8.544213467457921e-06,
          8.503011420063127e-06,
          8.46542509336305e-06,
          8.431516663272106e-06,
          8.401346285990694e-06,
          8.374972221463398e-06,
          8.352450964764162e-06,
          8.33383738515136e-06,
          8.319184872517271e-06,
          8.30854549093763e-06,
          8.301970139008975e-06,
          8.29950871664349e-06,
          8.301210297973221e-06,
          8.307123309998594e-06,
          8.317295716598996e-06,
          8.331775207506735e-06,
          8.35060939182957e-06,
          8.373845995691465e-06,
          8.401533063545646e-06,
          8.433719162699878e-06,
          8.470453590579185e-06,
          8.511786584237865e-06,
          8.557769531619585e-06,
          8.608455184051792e-06,
          8.663897869448885e-06,
          8.724153705687599e-06,
          8.789280813607329e-06,
          8.8593395290787e-06,
          8.934392613574568e-06,
          9.01450546266954e-06,
          9.099746311886782e-06,
          9.190186439304514e-06,
          9.285900364328895e-06,
          9.386966042035483e-06,
          9.493465052477866e-06,
          9.605482784359266e-06,
          9.723108612461442e-06,
          9.846436068224556e-06,
          9.975563002872528e-06,
          1.0110591742479554e-05,
          1.0251629234377015e-05,
          1.0398787184303484e-05,
          1.0552182183706247e-05,
          1.0711935826608968e-05,
          1.087817481546839e-05,
          1.1051031055451714e-05,
          1.1230641736576786e-05,
          1.1417149403169645e-05,
          1.1610702010106358e-05,
          1.1811452965321153e-05,
          1.2019561158079144e-05,
          1.2235190972528502e-05,
          1.2458512286066754e-05,
          1.2689700452075597e-05,
          1.2928936266600477e-05,
          1.3176405918574544e-05,
          1.3432300923210855e-05,
          1.3696818038213197e-05,
          1.3970159162482835e-05,
          1.4252531217027869e-05,
          1.4544146007811657e-05,
          1.484522007030868e-05,
          1.5155974495569037e-05,
          1.5476634737626848e-05,
          1.580743040212376e-05,
          1.614859501605463e-05,
          1.6500365778581602e-05,
          1.6862983292900345e-05,
          1.723669127918343e-05,
          1.762173626866632e-05,
          1.8018367278983786e-05,
          1.8426835470907158e-05,
          1.884739378667658e-05,
          1.9280296570167426e-05,
          1.9725799169174032e-05,
          2.018415752014061e-05,
          2.0655627715714566e-05,
          2.1140465555544132e-05,
          2.1638926080789154e-05,
          2.215126309286046e-05,
          2.267772865695009e-05,
          2.321857259096224e-05,
          2.3774041940500402e-05,
          2.434438044061399e-05,
          2.4929827965052335e-05,
          2.5530619963821024e-05,
          2.6146986889878605e-05,
          2.6779153615858006e-05,
          2.7427338841738203e-05,
          2.809175449443523e-05,
          2.877260512032206e-05,
          2.947008727172701e-05,
          3.0184388888498553e-05,
          3.091568867576113e-05,
          3.166415547902215e-05,
          3.242994765782338e-05,
          3.3213212459161824e-05,
          3.4014085391934006e-05,
          3.4832689603685856e-05,
          3.566913526097465e-05,
          3.6523518934671895e-05,
          3.739592299155771e-05,
          3.828641499357274e-05,
          3.919504710610994e-05,
          4.012185551674064e-05,
          4.1066859865776695e-05,
          4.203006269007961e-05,
          4.301144888152755e-05,
          4.4010985161553484e-05,
          4.5028619573163326e-05,
          4.6064280991835856e-05,
          4.711787865669834e-05,
          4.8189301723356487e-05,
          4.9278418839741716e-05,
          5.038507774631882e-05,
          5.1509104901972984e-05,
          5.265030513686891e-05,
          5.380846133354345e-05,
          5.498333413746033e-05,
          5.61746616982165e-05,
          5.738215944255169e-05,
          5.8605519880264935e-05,
          5.984441244409723e-05,
          6.109848336458796e-05,
          6.236735558085717e-05,
          6.365062868821087e-05,
          6.494787892340443e-05,
          6.625865918833701e-05,
          6.758249911288379e-05,
          6.891890515750153e-05,
          7.026736075617653e-05,
          7.16273265002042e-05,
          7.299824036321658e-05,
          7.437951796779546e-05,
          7.577055289392494e-05,
          7.717071702945956e-05,
          7.857936096269424e-05,
          7.99958144170407e-05,
          8.141938672772642e-05,
          8.284936736034031e-05,
          8.428502647096711e-05,
          8.572561550755424e-05,
          8.717036785206914e-05,
          8.861849950291238e-05,
          9.00692097969601e-05,
          9.152168217051839e-05,
          9.297508495838204e-05,
          9.442857223009782e-05,
          9.588128466244399e-05,
          9.733235044705053e-05,
          9.878088623199268e-05,
          0.00010022599809610938,
          0.00010166678255471108,
          0.00010310232759525827,
          0.00010453171374151463,
          0.00010595401514459742,
          0.00010736830069927503,
          0.00010877363518378705,
          0.00011016908042139334,
          0.00011155369646179234,
          0.00011292654278048521,
          0.00011428667949410384,
          0.00011563316858966238,
          0.00011696507516564509,
          0.00011828146868279002,
          0.00011958142422238841,
          0.00012086402374988017,
          0.00012212835738148852,
          0.00012337352465161206,
          0.00012459863577866256,
          0.00012580281292702065,
          0.0001269851914627637,
          0.0001281449212008123,
          0.00012928116764113532,
          0.0001303931131916558,
          0.00013147995837550335,
          0.00013254092302027233,
          0.00013357524742695832,
          0.00013458219351627034,
          0.00013556104595004105,
          0.00013651111322548915,
          0.00013743172874012673,
          0.00013832225182514838,
          0.00013918206874518138,
          0.00014001059366233677,
          0.00014080726956255095,
          0.00014157156914227755,
          0.0001423029956536504,
          0.00014300108370631477,
          0.00014366540002419843,
          0.00014429554415557548,
          0.00014489114913486162,
          0.0001454518820946655,
          0.00014597744482671825,
          0.00014646757429039476,
          0.0001469220430676433,
          0.00014734065976324041,
          0.0001477232693493958,
          0.00014806975345383743,
          0.00014838003059062247,
          0.00014865405633302623,
          0.00014889182342798154,
          0.00014909336185165532,
          0.00014925873880586519,
          0.00014938805865516251,
          0.00014948146280452124,
          0.00014953912951769997,
          0.000149561273676457,
          0.00014954814648092616,
          0.00014950003509157426,
          0.00014941726221328683,
          0.00014930018562224145,
          0.00014914919763635057,
          0.00014896472453016716,
          0.00014874722589526237,
          0.00014849719394719848,
          0.0001482151527803249,
          0.00014790165757173782,
          0.00014755729373584328,
          0.00014718267603106876,
          0.0001467784476203635,
          0.00014634527908722212,
          0.00014588386740905745,
          0.00014539493488983555,
          0.0001448792280539642,
          0.00014433751650350915,
          0.0001437705917408808,
          0.00014317926595920413,
          0.00014256437080264906,
          0.00014192675609905344,
          0.00014126728856722704,
          0.000140586850501369,
          0.00013988633843507723,
          0.00013916666178745955,
          0.00013842874149389237,
          0.00013767350862399266,
          0.00013690190298939244,
          0.00013611487174391488,
          0.00013531336797876115,
          0.00013449834931531646,
          0.00013367077649818217,
          0.00013283161199102784,
          0.0001319818185778438,
          0.00013112235797215166,
          0.0001302541894367031,
          0.00012937826841616585,
          0.00012849554518525556,
          0.00012760696351472978,
          0.00012671345935761033,
          0.00012581595955794925,
          0.00012491538058438908,
          0.00012401262729071132,
          0.00012310859170549138,
          0.00012220415185291305,
          0.0001213001706067113,
          0.00012039749457913618,
          0.00011949695304674436,
          0.00011859935691473566,
          0.00011770549772146056,
          0.00011681614668463117,
          0.00011593205379066821,
          0.00011505394692851852,
          0.00011418253106917378,
          0.00011331848749201639,
          0.00011246247305901382,
          0.00011161511953767177,
          0.00011077703297355135,
          0.00010994879311304135,
          0.00010913095287696885,
          0.00010832403788551989,
          0.00010752854603482851,
          0.0001067449471254848,
          0.00010597368254309887,
          0.00010521516499095013,
          0.00010446977827464028,
          0.00010373787713856275,
          0.00010301978715389352,
          0.00010231580465770417,
          0.0001016261967426964,
          0.00010095120129695636,
          0.00010029102709302896,
          9.964585392551819e-05,
          9.901583279632715e-05,
          9.840108614656119e-05,
          9.780170813403387e-05,
          9.721776495523144e-05,
          9.664929521051332e-05,
          9.609631031125175e-05,
          9.555879492754181e-05,
          9.503670747504738e-05,
          9.452998063948489e-05,
          9.403852193718901e-05,
          9.35622143101499e-05,
          9.310091675386352e-05,
          9.265446497628904e-05,
          9.222267208617058e-05,
          9.180532930894167e-05,
          9.140220672840156e-05,
          9.101305405232642e-05,
          9.063760140015576e-05,
          9.027556011087878e-05,
          8.992662356923239e-05,
          8.95904680483155e-05,
          8.926675356672117e-05,
          8.895512475828944e-05,
          8.865521175259054e-05,
          8.836663106425772e-05,
          8.808898648930389e-05,
          8.782187000657557e-05,
          8.75648626825199e-05,
          8.731753557746807e-05,
          8.707945065166803e-05,
          8.68501616693356e-05,
          8.662921509902824e-05,
          8.641615100868985e-05,
          8.621050395375689e-05,
          8.601180385676459e-05,
          8.581957687694306e-05,
          8.563334626834322e-05,
          8.54526332250911e-05,
          8.52769577124246e-05,
          8.510583928222642e-05,
          8.493879787182963e-05,
          8.477535458493421e-05,
          8.461503245353872e-05,
          8.445735717985642e-05,
          8.430185785725233e-05,
          8.414806766930601e-05,
          8.39955245661731e-05,
          8.38437719174877e-05,
          8.369235914111696e-05,
          8.354084230714954e-05,
          8.338878471656664e-05,
          8.323575745411677e-05,
          8.308133991498051e-05,
          8.29251203048816e-05,
          8.27666961133674e-05,
          8.26056745600472e-05,
          8.244167301364229e-05,
          8.227431938376568e-05,
          8.210325248541113e-05,
          8.192812237619153e-05,
          8.174859066642666e-05,
          8.156433080223645e-05,
          8.137502832185167e-05,
          8.118038108540651e-05,
          8.098009947852947e-05,
          8.077390659009661e-05,
          8.05615383645584e-05,
          8.034274372929516e-05,
          8.011728469749813e-05,
          7.988493644711112e-05,
          7.964548737640619e-05,
          7.939873913679856e-05,
          7.914450664353953e-05,
          7.888261806495294e-05,
          7.861291479090837e-05,
          7.833525138124682e-05,
          7.804949549489603e-05,
          7.775552780043032e-05,
          7.745324186884611e-05,
          7.714254404933663e-05,
          7.682335332886093e-05,
          7.649560117630931e-05,
          7.615923137207348e-05,
          7.581419982383366e-05,
          7.546047436937463e-05,
          7.509803456724264e-05,
          7.472687147605109e-05,
          7.434698742323773e-05,
          7.395839576406885e-05,
          7.356112063167588e-05,
          7.315519667890027e-05,
          7.274066881270724e-05,
          7.231759192191752e-05,
          7.188603059898746e-05,
          7.144605885655245e-05,
          7.099775983942929e-05,
          7.054122553275283e-05,
          7.007655646690215e-05,
          6.960386141984888e-05,
          6.912325711753823e-05,
          6.863486793288871e-05,
          6.813882558397327e-05,
          6.763526883191972e-05,
          6.712434317904211e-05,
          6.660620056769078e-05,
          6.608099908028158e-05,
          6.554890264093959e-05,
          6.501008071916683e-05,
          6.446470803591623e-05,
          6.3912964272431e-05,
          6.335503378217925e-05,
          6.2791105306192e-05,
          6.222137169208545e-05,
          6.164602961702494e-05,
          6.106527931486392e-05,
          6.047932430766789e-05,
          5.988837114181049e-05,
          5.929262912880683e-05,
          5.8692310091028863e-05,
          5.808762811242534e-05,
          5.747879929435124e-05,
          5.686604151659141e-05,
          5.624957420364673e-05,
          5.562961809633257e-05,
          5.500639502872507e-05,
          5.438012771047472e-05,
          5.375103951449372e-05,
          5.3119354270009376e-05,
          5.248529606096599e-05,
          5.184908902974407e-05,
          5.121095718615831e-05,
          5.0571124221685226e-05,
          4.992981332886422e-05,
          4.9287247025808376e-05,
          4.8643646985755506e-05,
          4.799923387158496e-05,
          4.735422717522097e-05,
          4.6708845061840126e-05,
          4.606330421879889e-05,
          4.541781970919315e-05
         ],
         "yaxis": "y"
        }
       ],
       "layout": {
        "barmode": "overlay",
        "hovermode": "closest",
        "legend": {
         "traceorder": "reversed"
        },
        "template": {
         "data": {
          "bar": [
           {
            "error_x": {
             "color": "#2a3f5f"
            },
            "error_y": {
             "color": "#2a3f5f"
            },
            "marker": {
             "line": {
              "color": "#E5ECF6",
              "width": 0.5
             }
            },
            "type": "bar"
           }
          ],
          "barpolar": [
           {
            "marker": {
             "line": {
              "color": "#E5ECF6",
              "width": 0.5
             }
            },
            "type": "barpolar"
           }
          ],
          "carpet": [
           {
            "aaxis": {
             "endlinecolor": "#2a3f5f",
             "gridcolor": "white",
             "linecolor": "white",
             "minorgridcolor": "white",
             "startlinecolor": "#2a3f5f"
            },
            "baxis": {
             "endlinecolor": "#2a3f5f",
             "gridcolor": "white",
             "linecolor": "white",
             "minorgridcolor": "white",
             "startlinecolor": "#2a3f5f"
            },
            "type": "carpet"
           }
          ],
          "choropleth": [
           {
            "colorbar": {
             "outlinewidth": 0,
             "ticks": ""
            },
            "type": "choropleth"
           }
          ],
          "contour": [
           {
            "colorbar": {
             "outlinewidth": 0,
             "ticks": ""
            },
            "colorscale": [
             [
              0,
              "#0d0887"
             ],
             [
              0.1111111111111111,
              "#46039f"
             ],
             [
              0.2222222222222222,
              "#7201a8"
             ],
             [
              0.3333333333333333,
              "#9c179e"
             ],
             [
              0.4444444444444444,
              "#bd3786"
             ],
             [
              0.5555555555555556,
              "#d8576b"
             ],
             [
              0.6666666666666666,
              "#ed7953"
             ],
             [
              0.7777777777777778,
              "#fb9f3a"
             ],
             [
              0.8888888888888888,
              "#fdca26"
             ],
             [
              1,
              "#f0f921"
             ]
            ],
            "type": "contour"
           }
          ],
          "contourcarpet": [
           {
            "colorbar": {
             "outlinewidth": 0,
             "ticks": ""
            },
            "type": "contourcarpet"
           }
          ],
          "heatmap": [
           {
            "colorbar": {
             "outlinewidth": 0,
             "ticks": ""
            },
            "colorscale": [
             [
              0,
              "#0d0887"
             ],
             [
              0.1111111111111111,
              "#46039f"
             ],
             [
              0.2222222222222222,
              "#7201a8"
             ],
             [
              0.3333333333333333,
              "#9c179e"
             ],
             [
              0.4444444444444444,
              "#bd3786"
             ],
             [
              0.5555555555555556,
              "#d8576b"
             ],
             [
              0.6666666666666666,
              "#ed7953"
             ],
             [
              0.7777777777777778,
              "#fb9f3a"
             ],
             [
              0.8888888888888888,
              "#fdca26"
             ],
             [
              1,
              "#f0f921"
             ]
            ],
            "type": "heatmap"
           }
          ],
          "heatmapgl": [
           {
            "colorbar": {
             "outlinewidth": 0,
             "ticks": ""
            },
            "colorscale": [
             [
              0,
              "#0d0887"
             ],
             [
              0.1111111111111111,
              "#46039f"
             ],
             [
              0.2222222222222222,
              "#7201a8"
             ],
             [
              0.3333333333333333,
              "#9c179e"
             ],
             [
              0.4444444444444444,
              "#bd3786"
             ],
             [
              0.5555555555555556,
              "#d8576b"
             ],
             [
              0.6666666666666666,
              "#ed7953"
             ],
             [
              0.7777777777777778,
              "#fb9f3a"
             ],
             [
              0.8888888888888888,
              "#fdca26"
             ],
             [
              1,
              "#f0f921"
             ]
            ],
            "type": "heatmapgl"
           }
          ],
          "histogram": [
           {
            "marker": {
             "colorbar": {
              "outlinewidth": 0,
              "ticks": ""
             }
            },
            "type": "histogram"
           }
          ],
          "histogram2d": [
           {
            "colorbar": {
             "outlinewidth": 0,
             "ticks": ""
            },
            "colorscale": [
             [
              0,
              "#0d0887"
             ],
             [
              0.1111111111111111,
              "#46039f"
             ],
             [
              0.2222222222222222,
              "#7201a8"
             ],
             [
              0.3333333333333333,
              "#9c179e"
             ],
             [
              0.4444444444444444,
              "#bd3786"
             ],
             [
              0.5555555555555556,
              "#d8576b"
             ],
             [
              0.6666666666666666,
              "#ed7953"
             ],
             [
              0.7777777777777778,
              "#fb9f3a"
             ],
             [
              0.8888888888888888,
              "#fdca26"
             ],
             [
              1,
              "#f0f921"
             ]
            ],
            "type": "histogram2d"
           }
          ],
          "histogram2dcontour": [
           {
            "colorbar": {
             "outlinewidth": 0,
             "ticks": ""
            },
            "colorscale": [
             [
              0,
              "#0d0887"
             ],
             [
              0.1111111111111111,
              "#46039f"
             ],
             [
              0.2222222222222222,
              "#7201a8"
             ],
             [
              0.3333333333333333,
              "#9c179e"
             ],
             [
              0.4444444444444444,
              "#bd3786"
             ],
             [
              0.5555555555555556,
              "#d8576b"
             ],
             [
              0.6666666666666666,
              "#ed7953"
             ],
             [
              0.7777777777777778,
              "#fb9f3a"
             ],
             [
              0.8888888888888888,
              "#fdca26"
             ],
             [
              1,
              "#f0f921"
             ]
            ],
            "type": "histogram2dcontour"
           }
          ],
          "mesh3d": [
           {
            "colorbar": {
             "outlinewidth": 0,
             "ticks": ""
            },
            "type": "mesh3d"
           }
          ],
          "parcoords": [
           {
            "line": {
             "colorbar": {
              "outlinewidth": 0,
              "ticks": ""
             }
            },
            "type": "parcoords"
           }
          ],
          "pie": [
           {
            "automargin": true,
            "type": "pie"
           }
          ],
          "scatter": [
           {
            "marker": {
             "colorbar": {
              "outlinewidth": 0,
              "ticks": ""
             }
            },
            "type": "scatter"
           }
          ],
          "scatter3d": [
           {
            "line": {
             "colorbar": {
              "outlinewidth": 0,
              "ticks": ""
             }
            },
            "marker": {
             "colorbar": {
              "outlinewidth": 0,
              "ticks": ""
             }
            },
            "type": "scatter3d"
           }
          ],
          "scattercarpet": [
           {
            "marker": {
             "colorbar": {
              "outlinewidth": 0,
              "ticks": ""
             }
            },
            "type": "scattercarpet"
           }
          ],
          "scattergeo": [
           {
            "marker": {
             "colorbar": {
              "outlinewidth": 0,
              "ticks": ""
             }
            },
            "type": "scattergeo"
           }
          ],
          "scattergl": [
           {
            "marker": {
             "colorbar": {
              "outlinewidth": 0,
              "ticks": ""
             }
            },
            "type": "scattergl"
           }
          ],
          "scattermapbox": [
           {
            "marker": {
             "colorbar": {
              "outlinewidth": 0,
              "ticks": ""
             }
            },
            "type": "scattermapbox"
           }
          ],
          "scatterpolar": [
           {
            "marker": {
             "colorbar": {
              "outlinewidth": 0,
              "ticks": ""
             }
            },
            "type": "scatterpolar"
           }
          ],
          "scatterpolargl": [
           {
            "marker": {
             "colorbar": {
              "outlinewidth": 0,
              "ticks": ""
             }
            },
            "type": "scatterpolargl"
           }
          ],
          "scatterternary": [
           {
            "marker": {
             "colorbar": {
              "outlinewidth": 0,
              "ticks": ""
             }
            },
            "type": "scatterternary"
           }
          ],
          "surface": [
           {
            "colorbar": {
             "outlinewidth": 0,
             "ticks": ""
            },
            "colorscale": [
             [
              0,
              "#0d0887"
             ],
             [
              0.1111111111111111,
              "#46039f"
             ],
             [
              0.2222222222222222,
              "#7201a8"
             ],
             [
              0.3333333333333333,
              "#9c179e"
             ],
             [
              0.4444444444444444,
              "#bd3786"
             ],
             [
              0.5555555555555556,
              "#d8576b"
             ],
             [
              0.6666666666666666,
              "#ed7953"
             ],
             [
              0.7777777777777778,
              "#fb9f3a"
             ],
             [
              0.8888888888888888,
              "#fdca26"
             ],
             [
              1,
              "#f0f921"
             ]
            ],
            "type": "surface"
           }
          ],
          "table": [
           {
            "cells": {
             "fill": {
              "color": "#EBF0F8"
             },
             "line": {
              "color": "white"
             }
            },
            "header": {
             "fill": {
              "color": "#C8D4E3"
             },
             "line": {
              "color": "white"
             }
            },
            "type": "table"
           }
          ]
         },
         "layout": {
          "annotationdefaults": {
           "arrowcolor": "#2a3f5f",
           "arrowhead": 0,
           "arrowwidth": 1
          },
          "coloraxis": {
           "colorbar": {
            "outlinewidth": 0,
            "ticks": ""
           }
          },
          "colorscale": {
           "diverging": [
            [
             0,
             "#8e0152"
            ],
            [
             0.1,
             "#c51b7d"
            ],
            [
             0.2,
             "#de77ae"
            ],
            [
             0.3,
             "#f1b6da"
            ],
            [
             0.4,
             "#fde0ef"
            ],
            [
             0.5,
             "#f7f7f7"
            ],
            [
             0.6,
             "#e6f5d0"
            ],
            [
             0.7,
             "#b8e186"
            ],
            [
             0.8,
             "#7fbc41"
            ],
            [
             0.9,
             "#4d9221"
            ],
            [
             1,
             "#276419"
            ]
           ],
           "sequential": [
            [
             0,
             "#0d0887"
            ],
            [
             0.1111111111111111,
             "#46039f"
            ],
            [
             0.2222222222222222,
             "#7201a8"
            ],
            [
             0.3333333333333333,
             "#9c179e"
            ],
            [
             0.4444444444444444,
             "#bd3786"
            ],
            [
             0.5555555555555556,
             "#d8576b"
            ],
            [
             0.6666666666666666,
             "#ed7953"
            ],
            [
             0.7777777777777778,
             "#fb9f3a"
            ],
            [
             0.8888888888888888,
             "#fdca26"
            ],
            [
             1,
             "#f0f921"
            ]
           ],
           "sequentialminus": [
            [
             0,
             "#0d0887"
            ],
            [
             0.1111111111111111,
             "#46039f"
            ],
            [
             0.2222222222222222,
             "#7201a8"
            ],
            [
             0.3333333333333333,
             "#9c179e"
            ],
            [
             0.4444444444444444,
             "#bd3786"
            ],
            [
             0.5555555555555556,
             "#d8576b"
            ],
            [
             0.6666666666666666,
             "#ed7953"
            ],
            [
             0.7777777777777778,
             "#fb9f3a"
            ],
            [
             0.8888888888888888,
             "#fdca26"
            ],
            [
             1,
             "#f0f921"
            ]
           ]
          },
          "colorway": [
           "#636efa",
           "#EF553B",
           "#00cc96",
           "#ab63fa",
           "#FFA15A",
           "#19d3f3",
           "#FF6692",
           "#B6E880",
           "#FF97FF",
           "#FECB52"
          ],
          "font": {
           "color": "#2a3f5f"
          },
          "geo": {
           "bgcolor": "white",
           "lakecolor": "white",
           "landcolor": "#E5ECF6",
           "showlakes": true,
           "showland": true,
           "subunitcolor": "white"
          },
          "hoverlabel": {
           "align": "left"
          },
          "hovermode": "closest",
          "mapbox": {
           "style": "light"
          },
          "paper_bgcolor": "white",
          "plot_bgcolor": "#E5ECF6",
          "polar": {
           "angularaxis": {
            "gridcolor": "white",
            "linecolor": "white",
            "ticks": ""
           },
           "bgcolor": "#E5ECF6",
           "radialaxis": {
            "gridcolor": "white",
            "linecolor": "white",
            "ticks": ""
           }
          },
          "scene": {
           "xaxis": {
            "backgroundcolor": "#E5ECF6",
            "gridcolor": "white",
            "gridwidth": 2,
            "linecolor": "white",
            "showbackground": true,
            "ticks": "",
            "zerolinecolor": "white"
           },
           "yaxis": {
            "backgroundcolor": "#E5ECF6",
            "gridcolor": "white",
            "gridwidth": 2,
            "linecolor": "white",
            "showbackground": true,
            "ticks": "",
            "zerolinecolor": "white"
           },
           "zaxis": {
            "backgroundcolor": "#E5ECF6",
            "gridcolor": "white",
            "gridwidth": 2,
            "linecolor": "white",
            "showbackground": true,
            "ticks": "",
            "zerolinecolor": "white"
           }
          },
          "shapedefaults": {
           "line": {
            "color": "#2a3f5f"
           }
          },
          "ternary": {
           "aaxis": {
            "gridcolor": "white",
            "linecolor": "white",
            "ticks": ""
           },
           "baxis": {
            "gridcolor": "white",
            "linecolor": "white",
            "ticks": ""
           },
           "bgcolor": "#E5ECF6",
           "caxis": {
            "gridcolor": "white",
            "linecolor": "white",
            "ticks": ""
           }
          },
          "title": {
           "x": 0.05
          },
          "xaxis": {
           "automargin": true,
           "gridcolor": "white",
           "linecolor": "white",
           "ticks": "",
           "title": {
            "standoff": 15
           },
           "zerolinecolor": "white",
           "zerolinewidth": 2
          },
          "yaxis": {
           "automargin": true,
           "gridcolor": "white",
           "linecolor": "white",
           "ticks": "",
           "title": {
            "standoff": 15
           },
           "zerolinecolor": "white",
           "zerolinewidth": 2
          }
         }
        },
        "title": {
         "text": "Credit Card Transactions Time Density Plot"
        },
        "xaxis": {
         "anchor": "y2",
         "domain": [
          0,
          1
         ],
         "title": {
          "text": "Time [s]"
         },
         "zeroline": false
        },
        "yaxis": {
         "anchor": "free",
         "domain": [
          0,
          1
         ],
         "position": 0
        }
       }
      },
      "text/html": [
       "<div>\n",
       "        \n",
       "        \n",
       "            <div id=\"cdb1c31a-ef47-4879-9c12-1c9bfc3f5f7a\" class=\"plotly-graph-div\" style=\"height:525px; width:100%;\"></div>\n",
       "            <script type=\"text/javascript\">\n",
       "                require([\"plotly\"], function(Plotly) {\n",
       "                    window.PLOTLYENV=window.PLOTLYENV || {};\n",
       "                    \n",
       "                if (document.getElementById(\"cdb1c31a-ef47-4879-9c12-1c9bfc3f5f7a\")) {\n",
       "                    Plotly.newPlot(\n",
       "                        'cdb1c31a-ef47-4879-9c12-1c9bfc3f5f7a',\n",
       "                        [{\"legendgroup\": \"Not Fraud\", \"marker\": {\"color\": \"rgb(31, 119, 180)\"}, \"mode\": \"lines\", \"name\": \"Not Fraud\", \"showlegend\": true, \"type\": \"scatter\", \"x\": [0.0, 30.024, 60.048, 90.072, 120.096, 150.12, 180.144, 210.168, 240.192, 270.216, 300.24, 330.264, 360.288, 390.312, 420.336, 450.36, 480.384, 510.408, 540.432, 570.456, 600.48, 630.504, 660.528, 690.552, 720.576, 750.6, 780.624, 810.648, 840.672, 870.696, 900.72, 930.744, 960.768, 990.792, 1020.816, 1050.84, 1080.864, 1110.888, 1140.912, 1170.936, 1200.96, 1230.984, 1261.008, 1291.032, 1321.056, 1351.08, 1381.104, 1411.128, 1441.152, 1471.176, 1501.2, 1531.224, 1561.248, 1591.272, 1621.296, 1651.32, 1681.344, 1711.368, 1741.392, 1771.416, 1801.44, 1831.464, 1861.488, 1891.512, 1921.536, 1951.56, 1981.584, 2011.608, 2041.632, 2071.656, 2101.68, 2131.704, 2161.728, 2191.752, 2221.776, 2251.8, 2281.824, 2311.848, 2341.872, 2371.896, 2401.92, 2431.944, 2461.968, 2491.992, 2522.016, 2552.04, 2582.064, 2612.088, 2642.112, 2672.136, 2702.16, 2732.184, 2762.208, 2792.232, 2822.256, 2852.28, 2882.304, 2912.328, 2942.352, 2972.376, 3002.4, 3032.424, 3062.448, 3092.472, 3122.496, 3152.52, 3182.544, 3212.568, 3242.592, 3272.616, 3302.64, 3332.664, 3362.688, 3392.712, 3422.736, 3452.76, 3482.784, 3512.808, 3542.832, 3572.856, 3602.88, 3632.904, 3662.928, 3692.952, 3722.976, 3753.0, 3783.024, 3813.048, 3843.072, 3873.096, 3903.12, 3933.144, 3963.168, 3993.192, 4023.216, 4053.24, 4083.264, 4113.288, 4143.312, 4173.336, 4203.36, 4233.384, 4263.408, 4293.432, 4323.456, 4353.48, 4383.504, 4413.528, 4443.552, 4473.576, 4503.6, 4533.624, 4563.648, 4593.672, 4623.696, 4653.72, 4683.744, 4713.768, 4743.792, 4773.816, 4803.84, 4833.864, 4863.888, 4893.912, 4923.936, 4953.96, 4983.984, 5014.008, 5044.032, 5074.056, 5104.08, 5134.104, 5164.128, 5194.152, 5224.176, 5254.2, 5284.224, 5314.248, 5344.272, 5374.296, 5404.32, 5434.344, 5464.368, 5494.392, 5524.416, 5554.44, 5584.464, 5614.488, 5644.512, 5674.536, 5704.56, 5734.584, 5764.608, 5794.632, 5824.656, 5854.68, 5884.704, 5914.728, 5944.752, 5974.776, 6004.8, 6034.824, 6064.848, 6094.872, 6124.896, 6154.92, 6184.944, 6214.968, 6244.992, 6275.016, 6305.04, 6335.064, 6365.088, 6395.112, 6425.136, 6455.16, 6485.184, 6515.208, 6545.232, 6575.256, 6605.28, 6635.304, 6665.328, 6695.352, 6725.376, 6755.4, 6785.424, 6815.448, 6845.472, 6875.496, 6905.52, 6935.544, 6965.568, 6995.592, 7025.616, 7055.64, 7085.664, 7115.688, 7145.712, 7175.736, 7205.76, 7235.784, 7265.808, 7295.832, 7325.856, 7355.88, 7385.904, 7415.928, 7445.952, 7475.976, 7506.0, 7536.024, 7566.048, 7596.072, 7626.096, 7656.12, 7686.144, 7716.168, 7746.192, 7776.216, 7806.24, 7836.264, 7866.288, 7896.312, 7926.336, 7956.36, 7986.384, 8016.408, 8046.432, 8076.456, 8106.48, 8136.504, 8166.528, 8196.552, 8226.576, 8256.6, 8286.624, 8316.648, 8346.672, 8376.696, 8406.72, 8436.744, 8466.768, 8496.792, 8526.816, 8556.84, 8586.864, 8616.888, 8646.912, 8676.936, 8706.96, 8736.984, 8767.008, 8797.032, 8827.056, 8857.08, 8887.104, 8917.128, 8947.152, 8977.176, 9007.2, 9037.224, 9067.248, 9097.272, 9127.296, 9157.32, 9187.344, 9217.368, 9247.392, 9277.416, 9307.44, 9337.464, 9367.488, 9397.512, 9427.536, 9457.56, 9487.584, 9517.608, 9547.632, 9577.656, 9607.68, 9637.704, 9667.728, 9697.752, 9727.776, 9757.8, 9787.824, 9817.848, 9847.872, 9877.896, 9907.92, 9937.944, 9967.968, 9997.992, 10028.016, 10058.04, 10088.064, 10118.088, 10148.112, 10178.136, 10208.16, 10238.184, 10268.208, 10298.232, 10328.256, 10358.28, 10388.304, 10418.328, 10448.352, 10478.376, 10508.4, 10538.424, 10568.448, 10598.472, 10628.496, 10658.52, 10688.544, 10718.568, 10748.592, 10778.616, 10808.64, 10838.664, 10868.688, 10898.712, 10928.736, 10958.76, 10988.784, 11018.808, 11048.832, 11078.856, 11108.88, 11138.904, 11168.928, 11198.952, 11228.976, 11259.0, 11289.024, 11319.048, 11349.072, 11379.096, 11409.12, 11439.144, 11469.168, 11499.192, 11529.216, 11559.24, 11589.264, 11619.288, 11649.312, 11679.336, 11709.36, 11739.384, 11769.408, 11799.432, 11829.456, 11859.48, 11889.504, 11919.528, 11949.552, 11979.576, 12009.6, 12039.624, 12069.648, 12099.672, 12129.696, 12159.72, 12189.744, 12219.768, 12249.792, 12279.816, 12309.84, 12339.864, 12369.888, 12399.912, 12429.936, 12459.96, 12489.984, 12520.008, 12550.032, 12580.056, 12610.08, 12640.104, 12670.128, 12700.152, 12730.176, 12760.2, 12790.224, 12820.248, 12850.272, 12880.296, 12910.32, 12940.344, 12970.368, 13000.392, 13030.416, 13060.44, 13090.464, 13120.488, 13150.512, 13180.536, 13210.56, 13240.584, 13270.608, 13300.632, 13330.656, 13360.68, 13390.704, 13420.728, 13450.752, 13480.776, 13510.8, 13540.824, 13570.848, 13600.872, 13630.896, 13660.92, 13690.944, 13720.968, 13750.992, 13781.016, 13811.04, 13841.064, 13871.088, 13901.112, 13931.136, 13961.16, 13991.184, 14021.208, 14051.232, 14081.256, 14111.28, 14141.304, 14171.328, 14201.352, 14231.376, 14261.4, 14291.424, 14321.448, 14351.472, 14381.496, 14411.52, 14441.544, 14471.568, 14501.592, 14531.616, 14561.64, 14591.664, 14621.688, 14651.712, 14681.736, 14711.76, 14741.784, 14771.808, 14801.832, 14831.856, 14861.88, 14891.904, 14921.928, 14951.952, 14981.976], \"xaxis\": \"x\", \"y\": [6.489284384549455e-05, 6.70036756298201e-05, 6.910419860075438e-05, 7.119033480908423e-05, 7.325805009514996e-05, 7.530337411156738e-05, 7.732241979142728e-05, 7.931140210834337e-05, 8.126665598484982e-05, 8.318465321733219e-05, 8.506201829879475e-05, 8.689554303502884e-05, 8.868219986488758e-05, 9.041915381120543e-05, 9.210377300509741e-05, 9.373363774272273e-05, 9.530654804973947e-05, 9.682052974457035e-05, 9.827383900673969e-05, 9.966496547096606e-05, 0.00010099263388104982, 0.0001022558043498077, 0.00010345367128218479, 0.0001045856610281743, 0.0001056514283401655, 0.00010665085171586876, 0.00010758402771286455, 0.00010845126432438648, 0.00010925307350789086, 0.00010999016295868146, 0.00011066342722024069, 0.00011127393822116931, 0.00011182293532590492, 0.00011231181498283091, 0.00011274212004901864, 0.00011311552886614438, 0.0001134338441568598, 0.0001136989818055239, 0.00011391295958176981, 0.00011407788585995021, 0.00011419594838236701, 0.00011426940310923845, 0.00011430056319389564, 0.00011429178811763144, 0.00011424547301503484, 0.00011416403821767294, 0.00011404991904135511, 0.00011390555584031852, 0.00011373338435006302, 0.00011353582633945817, 0.00011331528059201055, 0.00011307411423568373, 0.00011281465444040434, 0.00011253918050221027, 0.00011224991633287869, 0.00011194902337363148, 0.00011163859395120157, 0.00011132064509391642, 0.00011099711282457235, 0.00011066984694566068, 0.00011034060633082496, 0.00011001105473439364, 0.00010968275712834182, 0.00010935717657308393, 0.00010903567162519723, 0.0001087194942814836, 0.0001084097884547745, 0.00010810758897266701, 0.00010781382108600513, 0.00010752930046946412, 0.00010725473369226843, 0.00010699071913278468, 0.0001067377483068335, 0.00010649620757597291, 0.00010626638019890189, 0.00010604844868665302, 0.00010584249742043746, 0.00010564851548988437, 0.0001054663997092287, 0.00010529595776952377, 0.00010513691148652053, 0.00010498890010613308, 0.00010485148363269123, 0.00010472414614918535, 0.00010460629910347768, 0.00010449728453994723, 0.0001043963782619499, 0.0001043027929169528, 0.00010421568100284958, 0.0001041341378007645, 0.00010405720424643957, 0.00010398386975877208, 0.00010391307505024826, 0.00010384371494953396, 0.00010377464127129778, 0.0001037046657722783, 0.00010363256323544036, 0.00010355707472581039, 0.00010347691106204358, 0.00010339075654688537, 0.00010329727299750028, 0.00010319510411299777, 0.00010308288021156272, 0.0001029592233633377, 0.00010282275293774214, 0.00010267209157539596, 0.00010250587158535904, 0.0001023227417581508, 0.00010212137457431242, 0.00010190047377713991, 0.00010165878226710944, 0.00010139509026447892, 0.00010110824367601363, 0.00010079715259183781, 0.00010046079982945145, 0.00010009824943409132, 9.970865503811212e-05, 9.929126797708702e-05, 9.884544505710763e-05, 9.83706558662399e-05, 9.786648952362488e-05, 9.733266076205536e-05, 9.676901524425156e-05, 9.6175534019355e-05, 9.555233703424419e-05, 9.48996856242037e-05, 9.421798391884555e-05, 9.350777911206596e-05, 9.276976055878378e-05, 9.200475767614318e-05, 9.121373664245764e-05, 9.039779590313642e-05, 8.955816050891887e-05, 8.869617532762298e-05, 8.781329718602582e-05, 8.691108601316113e-05, 8.599119506997979e-05, 8.505536036271053e-05, 8.410538934825937e-05, 8.314314904926086e-05, 8.217055370397416e-05, 8.118955208181884e-05, 8.020211459905944e-05, 7.921022037076354e-05, 7.821584433485723e-05, 7.722094458175678e-05, 7.62274500188709e-05, 7.523724849326448e-05, 7.425217548813587e-05, 7.327400349962831e-05, 7.230443219006288e-05, 7.134507940213221e-05, 7.039747310619572e-05, 6.94630443396997e-05, 6.854312118424643e-05, 6.763892381208676e-05, 6.675156062008368e-05, 6.588202545569413e-05, 6.503119592642272e-05, 6.419983277169397e-05, 6.338858026439001e-05, 6.259796759844925e-05, 6.182841120914027e-05, 6.108021796393549e-05, 6.035358915444304e-05, 5.964862521361134e-05, 5.896533107745482e-05, 5.8303622106870136e-05, 5.766333048268435e-05, 5.704421198586387e-05, 5.6445953074790596e-05, 5.586817817257463e-05, 5.531045707947291e-05, 5.4772312428484075e-05, 5.4253227106072985e-05, 5.375265156451544e-05, 5.3270010957570216e-05, 5.280471203686814e-05, 5.235614975248492e-05, 5.192371350754801e-05, 5.1506793023273315e-05, 5.110478377745177e-05, 5.07170919860514e-05, 5.0343139104109784e-05, 4.99823658284669e-05, 4.9634235591009835e-05, 4.929823753693847e-05, 4.897388898804251e-05, 4.866073739611027e-05, 4.835836179627751e-05, 4.8066373774409166e-05, 4.778441796644001e-05, 4.751217211098667e-05, 4.724934667949659e-05, 4.6995684110709216e-05, 4.675095767830429e-05, 4.651497002231441e-05, 4.628755137619128e-05, 4.6068557522408306e-05, 4.585786751010705e-05, 4.565538116868567e-05, 4.5461016451299454e-05, 4.527470664211542e-05, 4.50963974608196e-05, 4.4926044097345624e-05, 4.476360820910812e-05, 4.460905491220612e-05, 4.446234979712665e-05, 4.43234559984204e-05, 4.419233134670223e-05, 4.4068925630093636e-05, 4.395317799092332e-05, 4.3845014482128744e-05, 4.374434580633035e-05, 4.365106525900784e-05, 4.356504689558658e-05, 4.3486143940502716e-05, 4.34141874544981e-05, 4.3348985274470185e-05, 4.32903212381433e-05, 4.323795470368167e-05, 4.319162037207253e-05, 4.3151028417710744e-05, 4.311586493010292e-05, 4.3085792666963844e-05, 4.30604521162738e-05, 4.303946286202053e-05, 4.302242524548676e-05, 4.300892231099501e-05, 4.299852202208593e-05, 4.299077973114192e-05, 4.298524088259176e-05, 4.2981443926990986e-05, 4.297892342057738e-05, 4.297721328234955e-05, 4.2975850178371884e-05, 4.297437700088783e-05, 4.297234640799509e-05, 4.2969324388108634e-05, 4.296489381227879e-05, 4.295865793662592e-05, 4.2950243816787866e-05, 4.293930559631933e-05, 4.292552763147727e-05, 4.290862741579045e-05, 4.28883582692121e-05, 4.286451175854428e-05, 4.283691981812878e-05, 4.280545654255914e-05, 4.277003962631426e-05, 4.2730631428757655e-05, 4.268723964680982e-05, 4.2639917581762406e-05, 4.258876399112299e-05, 4.253392252099675e-05, 4.247558071924927e-05, 4.241396863454898e-05, 4.234935701124418e-05, 4.228205509486162e-05, 4.221240806774629e-05, 4.2140794138950055e-05, 4.206762131684289e-05, 4.1993323897020976e-05, 4.191835870188756e-05, 4.184320111168996e-05, 4.176834092981422e-05, 4.1694278127706674e-05, 4.162151851686539e-05, 4.1550569396914133e-05, 4.1481935229814366e-05, 4.141611339073906e-05, 4.13535900460556e-05, 4.129483620819906e-05, 4.124030401599778e-05, 4.11904232872029e-05, 4.114559838760659e-05, 4.110620545824252e-05, 4.107259003871838e-05, 4.104506512078833e-05, 4.102390966188752e-05, 4.100936758348033e-05, 4.1001647273849864e-05, 4.100092160934551e-05, 4.100732850218926e-05, 4.102097197678586e-05, 4.104192377010038e-05, 4.107022544514764e-05, 4.110589100004515e-05, 4.114890994846161e-05, 4.119925084073527e-05, 4.125686518847912e-05, 4.1321691749263475e-05, 4.13936611219736e-05, 4.1472700597811196e-05, 4.155873920669476e-05, 4.165171289409608e-05, 4.175156975918573e-05, 4.185827528165746e-05, 4.197181746177645e-05, 4.2092211796167345e-05, 4.2219506010627256e-05, 4.23537844709243e-05, 4.249517219311495e-05, 4.2643838376472817e-05, 4.2799999384645895e-05, 4.29639211041989e-05, 4.313592061424921e-05, 4.331636710646923e-05, 4.350568200124916e-05, 4.3704338213357406e-05, 4.391285852881953e-05, 4.4131813064038576e-05, 4.436181578824131e-05, 4.4603520101097674e-05, 4.485761346874881e-05, 4.512481113334422e-05, 4.5405848923429935e-05, 4.57014752050194e-05, 4.601244202574555e-05, 4.6339495517009414e-05, 4.66833656313322e-05, 4.704475530401431e-05, 4.742432913954293e-05, 4.782270173378748e-05, 4.8240425752720025e-05, 4.8677979896990835e-05, 4.913575688907062e-05, 4.961405162561482e-05, 5.011304964212388e-05, 5.063281603969907e-05, 5.117328502462323e-05, 5.1734250210544005e-05, 5.231535583009669e-05, 5.291608899787582e-05, 5.353577315968183e-05, 5.417356285396009e-05, 5.482843990036528e-05, 5.549921111744449e-05, 5.6184507656721845e-05, 5.6882786024023046e-05, 5.759233084095175e-05, 5.831125938016426e-05, 5.9037527887734594e-05, 5.976893968470376e-05, 6.0503155018151615e-05, 6.123770261009529e-05, 6.196999283053265e-05, 6.269733239934011e-05, 6.341694050080127e-05, 6.41259661746633e-05, 6.482150682904166e-05, 6.55006277036459e-05, 6.61603820968071e-05, 6.679783215712243e-05, 6.74100700302384e-05, 6.799423914370718e-05, 6.854755540810635e-05, 6.906732811077195e-05, 6.955098027973729e-05, 6.999606829970342e-05, 7.040030056920003e-05, 7.076155499828559e-05, 7.107789515923874e-05, 7.134758491835592e-05, 7.156910139510892e-05, 7.174114611517679e-05, 7.18626542459571e-05, 7.193280182679924e-05, 7.195101093091746e-05, 7.191695272147277e-05, 7.183054839011723e-05, 7.169196799212718e-05, 7.150162721755536e-05, 7.126018216233995e-05, 7.096852218656425e-05, 7.06277609687559e-05, 7.023922588491113e-05, 6.980444585857361e-05, 6.932513784350215e-05, 6.88031921130907e-05, 6.824065654056525e-05, 6.763972006102085e-05, 6.700269551050201e-05, 6.633200203863229e-05, 6.563014728974786e-05, 6.489970954329904e-05, 6.414331999750885e-05, 6.336364537116442e-05, 6.256337098721393e-05, 6.174518448874504e-05, 6.091176032327241e-05, 6.006574511534142e-05, 5.920974403056334e-05, 5.83463082166692e-05, 5.747792338929243e-05, 5.6606999612301645e-05, 5.573586230485773e-05, 5.486674449024635e-05, 5.400178028520599e-05, 5.314299961310382e-05, 5.229232411012958e-05, 5.145156418082068e-05, 5.0622417147823605e-05, 4.9806466430900086e-05, 4.900518168188817e-05, 4.821991979561164e-05, 4.745192671158922e-05, 4.670233991779536e-05, 4.597219156559039e-05, 4.526241210416226e-05, 4.457383434332849e-05, 4.390719785517935e-05, 4.326315362768881e-05, 4.2642268886923424e-05, 4.204503200871353e-05, 4.147185744546799e-05, 4.0923090599076894e-05, 4.039901257643759e-05, 3.989984476994003e-05, 3.9425753211151344e-05, 3.897685265186912e-05, 3.8553210332593256e-05, 3.8154849404228866e-05, 3.778175197447559e-05, 3.74338617557992e-05, 3.711108629717799e-05, 3.6813298786908966e-05, 3.654033941870602e-05, 3.629201631811988e-05, 3.606810603099179e-05, 3.586835358025574e-05, 3.569247210193963e-05, 3.554014207574345e-05, 3.5411010170071555e-05, 3.5304687725928546e-05, 3.5220748908625786e-05, 3.515872856080315e-05, 3.5118119794821325e-05, 3.50983713671094e-05, 3.509888488149129e-05, 3.5119011872845725e-05, 3.515805082656877e-05, 3.521524419315979e-05, 3.5289775460729315e-05, 3.538076635125289e-05, 3.548727420884617e-05, 3.5608289650133294e-05, 3.574273454780117e-05, 3.588946041858759e-05, 3.604724728615296e-05, 3.62148030874389e-05, 3.63907636881803e-05, 3.657369356913446e-05, 3.6762087239315216e-05, 3.69543714260542e-05, 3.7148908084063197e-05, 3.7343998256916255e-05, 3.753788681452876e-05, 3.772876807942531e-05, 3.791479234294943e-05, 3.809407326022992e-05, 3.8264696099861426e-05, 3.842472681104711e-05, 3.857222185761633e-05, 3.870523875508307e-05, 3.882184723396835e-05, 3.8920140940231484e-05, 3.8998249572050785e-05, 3.905435134160786e-05, 3.908668564117703e-05, 3.909356578490707e-05, 3.907339169138974e-05, 3.902466236760822e-05, 3.8945988052265284e-05, 3.883610187592942e-05, 3.8693870896949964e-05, 3.851830637573332e-05, 3.830857315571145e-05, 3.80639980271428e-05, 3.778407695966732e-05, 3.746848110117304e-05, 3.711706145386345e-05, 3.672985215325212e-05, 3.6307072291927364e-05, 3.584912624709034e-05, 3.5356602488795865e-05, 3.483027086424249e-05, 3.427107837207531e-05, 3.3680143459172855e-05, 3.3058748890516367e-05, 3.240833326017147e-05, 3.173048122789063e-05, 3.102691258111286e-05, 3.0299470235945267e-05, 2.9550107302872032e-05, 2.8780873353259882e-05, 2.799390003107632e-05, 2.7191386160505934e-05, 2.6375582504262145e-05, 2.554877632933394e-05], \"yaxis\": \"y\"}, {\"legendgroup\": \"Fraud\", \"marker\": {\"color\": \"rgb(255, 127, 14)\"}, \"mode\": \"lines\", \"name\": \"Fraud\", \"showlegend\": true, \"type\": \"scatter\", \"x\": [406.0, 433.492, 460.984, 488.476, 515.968, 543.46, 570.952, 598.444, 625.936, 653.428, 680.9200000000001, 708.412, 735.904, 763.396, 790.8879999999999, 818.38, 845.8720000000001, 873.364, 900.856, 928.348, 955.84, 983.332, 1010.824, 1038.316, 1065.808, 1093.3, 1120.792, 1148.284, 1175.7759999999998, 1203.268, 1230.76, 1258.252, 1285.7440000000001, 1313.2359999999999, 1340.728, 1368.22, 1395.712, 1423.204, 1450.696, 1478.188, 1505.68, 1533.172, 1560.664, 1588.156, 1615.648, 1643.14, 1670.632, 1698.124, 1725.616, 1753.108, 1780.6, 1808.092, 1835.584, 1863.076, 1890.568, 1918.06, 1945.552, 1973.044, 2000.536, 2028.028, 2055.52, 2083.0119999999997, 2110.504, 2137.996, 2165.4880000000003, 2192.98, 2220.4719999999998, 2247.964, 2275.456, 2302.9480000000003, 2330.44, 2357.932, 2385.424, 2412.916, 2440.408, 2467.9, 2495.392, 2522.884, 2550.376, 2577.868, 2605.36, 2632.852, 2660.344, 2687.836, 2715.328, 2742.82, 2770.312, 2797.804, 2825.296, 2852.788, 2880.28, 2907.772, 2935.264, 2962.756, 2990.248, 3017.74, 3045.232, 3072.724, 3100.216, 3127.708, 3155.2, 3182.692, 3210.184, 3237.676, 3265.168, 3292.66, 3320.152, 3347.644, 3375.136, 3402.628, 3430.12, 3457.612, 3485.104, 3512.596, 3540.088, 3567.58, 3595.072, 3622.564, 3650.056, 3677.548, 3705.04, 3732.532, 3760.024, 3787.516, 3815.008, 3842.5, 3869.992, 3897.484, 3924.976, 3952.468, 3979.96, 4007.452, 4034.944, 4062.436, 4089.928, 4117.42, 4144.912, 4172.404, 4199.896000000001, 4227.388, 4254.88, 4282.371999999999, 4309.864, 4337.356, 4364.848, 4392.34, 4419.832, 4447.3240000000005, 4474.816, 4502.308, 4529.8, 4557.292, 4584.784, 4612.276, 4639.768, 4667.26, 4694.752, 4722.244, 4749.736, 4777.228, 4804.72, 4832.212, 4859.704, 4887.196, 4914.688, 4942.18, 4969.672, 4997.164, 5024.656, 5052.148, 5079.64, 5107.132, 5134.624, 5162.116, 5189.608, 5217.1, 5244.592, 5272.084, 5299.576, 5327.068, 5354.56, 5382.052, 5409.544, 5437.036, 5464.528, 5492.02, 5519.512, 5547.004, 5574.496, 5601.988, 5629.48, 5656.972, 5684.464, 5711.956, 5739.448, 5766.94, 5794.432, 5821.924, 5849.416, 5876.908, 5904.4, 5931.892, 5959.384, 5986.876, 6014.368, 6041.86, 6069.352, 6096.844, 6124.336, 6151.828, 6179.32, 6206.812, 6234.304, 6261.796, 6289.288, 6316.78, 6344.272, 6371.764, 6399.256, 6426.748, 6454.24, 6481.732, 6509.224, 6536.716, 6564.208, 6591.7, 6619.192, 6646.684, 6674.176, 6701.668, 6729.16, 6756.652, 6784.144, 6811.636, 6839.128, 6866.62, 6894.112, 6921.604, 6949.096, 6976.588, 7004.08, 7031.572, 7059.064, 7086.556, 7114.048, 7141.54, 7169.032, 7196.524, 7224.016, 7251.508, 7279.0, 7306.492, 7333.984, 7361.476, 7388.968, 7416.46, 7443.952, 7471.444, 7498.936, 7526.428, 7553.92, 7581.412, 7608.904, 7636.396, 7663.888, 7691.38, 7718.872, 7746.364, 7773.856, 7801.348, 7828.84, 7856.332, 7883.824, 7911.316, 7938.808, 7966.3, 7993.792, 8021.284, 8048.776, 8076.268, 8103.76, 8131.252, 8158.744, 8186.236, 8213.728, 8241.220000000001, 8268.712, 8296.204, 8323.696, 8351.188, 8378.68, 8406.171999999999, 8433.664, 8461.155999999999, 8488.648000000001, 8516.14, 8543.632, 8571.124, 8598.616, 8626.108, 8653.6, 8681.092, 8708.584, 8736.076, 8763.568, 8791.06, 8818.552, 8846.044, 8873.536, 8901.028, 8928.52, 8956.012, 8983.504, 9010.996, 9038.488, 9065.98, 9093.472, 9120.964, 9148.456, 9175.948, 9203.44, 9230.932, 9258.424, 9285.916, 9313.408, 9340.9, 9368.392, 9395.884, 9423.376, 9450.868, 9478.36, 9505.852, 9533.344, 9560.836, 9588.328, 9615.82, 9643.312, 9670.804, 9698.296, 9725.788, 9753.28, 9780.772, 9808.264, 9835.756, 9863.248, 9890.74, 9918.232, 9945.724, 9973.216, 10000.708, 10028.2, 10055.692, 10083.184, 10110.676, 10138.168, 10165.66, 10193.152, 10220.644, 10248.136, 10275.628, 10303.12, 10330.612, 10358.104, 10385.596, 10413.088, 10440.58, 10468.072, 10495.564, 10523.056, 10550.548, 10578.04, 10605.532, 10633.024, 10660.516, 10688.008, 10715.5, 10742.992, 10770.484, 10797.976, 10825.468, 10852.96, 10880.452, 10907.944, 10935.436, 10962.928, 10990.42, 11017.912, 11045.404, 11072.896, 11100.388, 11127.88, 11155.372, 11182.864, 11210.356, 11237.848, 11265.34, 11292.832, 11320.324, 11347.816, 11375.308, 11402.8, 11430.292, 11457.784, 11485.276, 11512.768, 11540.26, 11567.752, 11595.244, 11622.736, 11650.228, 11677.72, 11705.212, 11732.704, 11760.196, 11787.688, 11815.18, 11842.672, 11870.164, 11897.656, 11925.148, 11952.64, 11980.132, 12007.624, 12035.116, 12062.608, 12090.1, 12117.592, 12145.084, 12172.576, 12200.068, 12227.56, 12255.052, 12282.544, 12310.036, 12337.528, 12365.02, 12392.512, 12420.004, 12447.496, 12474.988, 12502.48, 12529.972, 12557.464, 12584.956, 12612.448, 12639.94, 12667.432, 12694.924, 12722.416, 12749.908, 12777.4, 12804.892, 12832.384, 12859.876, 12887.368, 12914.86, 12942.352, 12969.844, 12997.336, 13024.828, 13052.32, 13079.812, 13107.304, 13134.796, 13162.288, 13189.78, 13217.272, 13244.764, 13272.256, 13299.748, 13327.24, 13354.732, 13382.224, 13409.716, 13437.208, 13464.7, 13492.192, 13519.684, 13547.176, 13574.668, 13602.16, 13629.652, 13657.144, 13684.636, 13712.128, 13739.62, 13767.112, 13794.604, 13822.096, 13849.588, 13877.08, 13904.572, 13932.064, 13959.556, 13987.048, 14014.54, 14042.032, 14069.524, 14097.016, 14124.508], \"xaxis\": \"x\", \"y\": [1.4294931861828764e-05, 1.4307192021719521e-05, 1.4315015767132635e-05, 1.431841869187773e-05, 1.4317421658578816e-05, 1.4312050785084305e-05, 1.4302337421883841e-05, 1.428831812056588e-05, 1.4270034593371269e-05, 1.4247533663919404e-05, 1.4220867209204352e-05, 1.4190092092979338e-05, 1.4155270090668337e-05, 1.4116467805964107e-05, 1.4073756579291488e-05, 1.4027212388334399e-05, 1.3976915740844026e-05, 1.3922951559963925e-05, 1.3865409062325705e-05, 1.3804381629186279e-05, 1.3739966670894071e-05, 1.3672265484987519e-05, 1.3601383108244319e-05, 1.3527428163014139e-05, 1.3450512698181161e-05, 1.3370752025115216e-05, 1.3288264548982419e-05, 1.32031715957968e-05, 1.3115597235604463e-05, 1.3025668102200965e-05, 1.2933513209790469e-05, 1.2839263767002494e-05, 1.27430529886879e-05, 1.2645015905921257e-05, 1.2545289174640426e-05, 1.2444010883357644e-05, 1.234132036037828e-05, 1.2237357980964557e-05, 1.2132264974881702e-05, 1.2026183234763208e-05, 1.191925512572969e-05, 1.1811623296693402e-05, 1.1703430493776524e-05, 1.1594819376266485e-05, 1.1485932335526309e-05, 1.1376911317271155e-05, 1.1267897647615016e-05, 1.1159031863283179e-05, 1.1050453546377173e-05, 1.0942301164068831e-05, 1.0834711913589743e-05, 1.072782157287069e-05, 1.0621764357174002e-05, 1.0516672782048478e-05, 1.0412677532923528e-05, 1.030990734164511e-05, 1.0208488870240989e-05, 1.0108546602188339e-05, 1.0010202741440309e-05, 9.913577119452589e-06, 9.818787110433748e-06, 9.72594755502657e-06, 9.635170692609691e-06, 9.54656610239122e-06, 9.46024065344777e-06, 9.3762984638437e-06, 9.294840868946791e-06, 9.215966399037431e-06, 9.139770766289037e-06, 9.066346861178319e-06, 8.99578475836398e-06, 8.928171732053154e-06, 8.863592280854676e-06, 8.802128162098606e-06, 8.743858435581383e-06, 8.688859516675909e-06, 8.637205238726176e-06, 8.588966924625447e-06, 8.544213467457921e-06, 8.503011420063127e-06, 8.46542509336305e-06, 8.431516663272106e-06, 8.401346285990694e-06, 8.374972221463398e-06, 8.352450964764162e-06, 8.33383738515136e-06, 8.319184872517271e-06, 8.30854549093763e-06, 8.301970139008975e-06, 8.29950871664349e-06, 8.301210297973221e-06, 8.307123309998594e-06, 8.317295716598996e-06, 8.331775207506735e-06, 8.35060939182957e-06, 8.373845995691465e-06, 8.401533063545646e-06, 8.433719162699878e-06, 8.470453590579185e-06, 8.511786584237865e-06, 8.557769531619585e-06, 8.608455184051792e-06, 8.663897869448885e-06, 8.724153705687599e-06, 8.789280813607329e-06, 8.8593395290787e-06, 8.934392613574568e-06, 9.01450546266954e-06, 9.099746311886782e-06, 9.190186439304514e-06, 9.285900364328895e-06, 9.386966042035483e-06, 9.493465052477866e-06, 9.605482784359266e-06, 9.723108612461442e-06, 9.846436068224556e-06, 9.975563002872528e-06, 1.0110591742479554e-05, 1.0251629234377015e-05, 1.0398787184303484e-05, 1.0552182183706247e-05, 1.0711935826608968e-05, 1.087817481546839e-05, 1.1051031055451714e-05, 1.1230641736576786e-05, 1.1417149403169645e-05, 1.1610702010106358e-05, 1.1811452965321153e-05, 1.2019561158079144e-05, 1.2235190972528502e-05, 1.2458512286066754e-05, 1.2689700452075597e-05, 1.2928936266600477e-05, 1.3176405918574544e-05, 1.3432300923210855e-05, 1.3696818038213197e-05, 1.3970159162482835e-05, 1.4252531217027869e-05, 1.4544146007811657e-05, 1.484522007030868e-05, 1.5155974495569037e-05, 1.5476634737626848e-05, 1.580743040212376e-05, 1.614859501605463e-05, 1.6500365778581602e-05, 1.6862983292900345e-05, 1.723669127918343e-05, 1.762173626866632e-05, 1.8018367278983786e-05, 1.8426835470907158e-05, 1.884739378667658e-05, 1.9280296570167426e-05, 1.9725799169174032e-05, 2.018415752014061e-05, 2.0655627715714566e-05, 2.1140465555544132e-05, 2.1638926080789154e-05, 2.215126309286046e-05, 2.267772865695009e-05, 2.321857259096224e-05, 2.3774041940500402e-05, 2.434438044061399e-05, 2.4929827965052335e-05, 2.5530619963821024e-05, 2.6146986889878605e-05, 2.6779153615858006e-05, 2.7427338841738203e-05, 2.809175449443523e-05, 2.877260512032206e-05, 2.947008727172701e-05, 3.0184388888498553e-05, 3.091568867576113e-05, 3.166415547902215e-05, 3.242994765782338e-05, 3.3213212459161824e-05, 3.4014085391934006e-05, 3.4832689603685856e-05, 3.566913526097465e-05, 3.6523518934671895e-05, 3.739592299155771e-05, 3.828641499357274e-05, 3.919504710610994e-05, 4.012185551674064e-05, 4.1066859865776695e-05, 4.203006269007961e-05, 4.301144888152755e-05, 4.4010985161553484e-05, 4.5028619573163326e-05, 4.6064280991835856e-05, 4.711787865669834e-05, 4.8189301723356487e-05, 4.9278418839741716e-05, 5.038507774631882e-05, 5.1509104901972984e-05, 5.265030513686891e-05, 5.380846133354345e-05, 5.498333413746033e-05, 5.61746616982165e-05, 5.738215944255169e-05, 5.8605519880264935e-05, 5.984441244409723e-05, 6.109848336458796e-05, 6.236735558085717e-05, 6.365062868821087e-05, 6.494787892340443e-05, 6.625865918833701e-05, 6.758249911288379e-05, 6.891890515750153e-05, 7.026736075617653e-05, 7.16273265002042e-05, 7.299824036321658e-05, 7.437951796779546e-05, 7.577055289392494e-05, 7.717071702945956e-05, 7.857936096269424e-05, 7.99958144170407e-05, 8.141938672772642e-05, 8.284936736034031e-05, 8.428502647096711e-05, 8.572561550755424e-05, 8.717036785206914e-05, 8.861849950291238e-05, 9.00692097969601e-05, 9.152168217051839e-05, 9.297508495838204e-05, 9.442857223009782e-05, 9.588128466244399e-05, 9.733235044705053e-05, 9.878088623199268e-05, 0.00010022599809610938, 0.00010166678255471108, 0.00010310232759525827, 0.00010453171374151463, 0.00010595401514459742, 0.00010736830069927503, 0.00010877363518378705, 0.00011016908042139334, 0.00011155369646179234, 0.00011292654278048521, 0.00011428667949410384, 0.00011563316858966238, 0.00011696507516564509, 0.00011828146868279002, 0.00011958142422238841, 0.00012086402374988017, 0.00012212835738148852, 0.00012337352465161206, 0.00012459863577866256, 0.00012580281292702065, 0.0001269851914627637, 0.0001281449212008123, 0.00012928116764113532, 0.0001303931131916558, 0.00013147995837550335, 0.00013254092302027233, 0.00013357524742695832, 0.00013458219351627034, 0.00013556104595004105, 0.00013651111322548915, 0.00013743172874012673, 0.00013832225182514838, 0.00013918206874518138, 0.00014001059366233677, 0.00014080726956255095, 0.00014157156914227755, 0.0001423029956536504, 0.00014300108370631477, 0.00014366540002419843, 0.00014429554415557548, 0.00014489114913486162, 0.0001454518820946655, 0.00014597744482671825, 0.00014646757429039476, 0.0001469220430676433, 0.00014734065976324041, 0.0001477232693493958, 0.00014806975345383743, 0.00014838003059062247, 0.00014865405633302623, 0.00014889182342798154, 0.00014909336185165532, 0.00014925873880586519, 0.00014938805865516251, 0.00014948146280452124, 0.00014953912951769997, 0.000149561273676457, 0.00014954814648092616, 0.00014950003509157426, 0.00014941726221328683, 0.00014930018562224145, 0.00014914919763635057, 0.00014896472453016716, 0.00014874722589526237, 0.00014849719394719848, 0.0001482151527803249, 0.00014790165757173782, 0.00014755729373584328, 0.00014718267603106876, 0.0001467784476203635, 0.00014634527908722212, 0.00014588386740905745, 0.00014539493488983555, 0.0001448792280539642, 0.00014433751650350915, 0.0001437705917408808, 0.00014317926595920413, 0.00014256437080264906, 0.00014192675609905344, 0.00014126728856722704, 0.000140586850501369, 0.00013988633843507723, 0.00013916666178745955, 0.00013842874149389237, 0.00013767350862399266, 0.00013690190298939244, 0.00013611487174391488, 0.00013531336797876115, 0.00013449834931531646, 0.00013367077649818217, 0.00013283161199102784, 0.0001319818185778438, 0.00013112235797215166, 0.0001302541894367031, 0.00012937826841616585, 0.00012849554518525556, 0.00012760696351472978, 0.00012671345935761033, 0.00012581595955794925, 0.00012491538058438908, 0.00012401262729071132, 0.00012310859170549138, 0.00012220415185291305, 0.0001213001706067113, 0.00012039749457913618, 0.00011949695304674436, 0.00011859935691473566, 0.00011770549772146056, 0.00011681614668463117, 0.00011593205379066821, 0.00011505394692851852, 0.00011418253106917378, 0.00011331848749201639, 0.00011246247305901382, 0.00011161511953767177, 0.00011077703297355135, 0.00010994879311304135, 0.00010913095287696885, 0.00010832403788551989, 0.00010752854603482851, 0.0001067449471254848, 0.00010597368254309887, 0.00010521516499095013, 0.00010446977827464028, 0.00010373787713856275, 0.00010301978715389352, 0.00010231580465770417, 0.0001016261967426964, 0.00010095120129695636, 0.00010029102709302896, 9.964585392551819e-05, 9.901583279632715e-05, 9.840108614656119e-05, 9.780170813403387e-05, 9.721776495523144e-05, 9.664929521051332e-05, 9.609631031125175e-05, 9.555879492754181e-05, 9.503670747504738e-05, 9.452998063948489e-05, 9.403852193718901e-05, 9.35622143101499e-05, 9.310091675386352e-05, 9.265446497628904e-05, 9.222267208617058e-05, 9.180532930894167e-05, 9.140220672840156e-05, 9.101305405232642e-05, 9.063760140015576e-05, 9.027556011087878e-05, 8.992662356923239e-05, 8.95904680483155e-05, 8.926675356672117e-05, 8.895512475828944e-05, 8.865521175259054e-05, 8.836663106425772e-05, 8.808898648930389e-05, 8.782187000657557e-05, 8.75648626825199e-05, 8.731753557746807e-05, 8.707945065166803e-05, 8.68501616693356e-05, 8.662921509902824e-05, 8.641615100868985e-05, 8.621050395375689e-05, 8.601180385676459e-05, 8.581957687694306e-05, 8.563334626834322e-05, 8.54526332250911e-05, 8.52769577124246e-05, 8.510583928222642e-05, 8.493879787182963e-05, 8.477535458493421e-05, 8.461503245353872e-05, 8.445735717985642e-05, 8.430185785725233e-05, 8.414806766930601e-05, 8.39955245661731e-05, 8.38437719174877e-05, 8.369235914111696e-05, 8.354084230714954e-05, 8.338878471656664e-05, 8.323575745411677e-05, 8.308133991498051e-05, 8.29251203048816e-05, 8.27666961133674e-05, 8.26056745600472e-05, 8.244167301364229e-05, 8.227431938376568e-05, 8.210325248541113e-05, 8.192812237619153e-05, 8.174859066642666e-05, 8.156433080223645e-05, 8.137502832185167e-05, 8.118038108540651e-05, 8.098009947852947e-05, 8.077390659009661e-05, 8.05615383645584e-05, 8.034274372929516e-05, 8.011728469749813e-05, 7.988493644711112e-05, 7.964548737640619e-05, 7.939873913679856e-05, 7.914450664353953e-05, 7.888261806495294e-05, 7.861291479090837e-05, 7.833525138124682e-05, 7.804949549489603e-05, 7.775552780043032e-05, 7.745324186884611e-05, 7.714254404933663e-05, 7.682335332886093e-05, 7.649560117630931e-05, 7.615923137207348e-05, 7.581419982383366e-05, 7.546047436937463e-05, 7.509803456724264e-05, 7.472687147605109e-05, 7.434698742323773e-05, 7.395839576406885e-05, 7.356112063167588e-05, 7.315519667890027e-05, 7.274066881270724e-05, 7.231759192191752e-05, 7.188603059898746e-05, 7.144605885655245e-05, 7.099775983942929e-05, 7.054122553275283e-05, 7.007655646690215e-05, 6.960386141984888e-05, 6.912325711753823e-05, 6.863486793288871e-05, 6.813882558397327e-05, 6.763526883191972e-05, 6.712434317904211e-05, 6.660620056769078e-05, 6.608099908028158e-05, 6.554890264093959e-05, 6.501008071916683e-05, 6.446470803591623e-05, 6.3912964272431e-05, 6.335503378217925e-05, 6.2791105306192e-05, 6.222137169208545e-05, 6.164602961702494e-05, 6.106527931486392e-05, 6.047932430766789e-05, 5.988837114181049e-05, 5.929262912880683e-05, 5.8692310091028863e-05, 5.808762811242534e-05, 5.747879929435124e-05, 5.686604151659141e-05, 5.624957420364673e-05, 5.562961809633257e-05, 5.500639502872507e-05, 5.438012771047472e-05, 5.375103951449372e-05, 5.3119354270009376e-05, 5.248529606096599e-05, 5.184908902974407e-05, 5.121095718615831e-05, 5.0571124221685226e-05, 4.992981332886422e-05, 4.9287247025808376e-05, 4.8643646985755506e-05, 4.799923387158496e-05, 4.735422717522097e-05, 4.6708845061840126e-05, 4.606330421879889e-05, 4.541781970919315e-05], \"yaxis\": \"y\"}],\n",
       "                        {\"barmode\": \"overlay\", \"hovermode\": \"closest\", \"legend\": {\"traceorder\": \"reversed\"}, \"template\": {\"data\": {\"bar\": [{\"error_x\": {\"color\": \"#2a3f5f\"}, \"error_y\": {\"color\": \"#2a3f5f\"}, \"marker\": {\"line\": {\"color\": \"#E5ECF6\", \"width\": 0.5}}, \"type\": \"bar\"}], \"barpolar\": [{\"marker\": {\"line\": {\"color\": \"#E5ECF6\", \"width\": 0.5}}, \"type\": \"barpolar\"}], \"carpet\": [{\"aaxis\": {\"endlinecolor\": \"#2a3f5f\", \"gridcolor\": \"white\", \"linecolor\": \"white\", \"minorgridcolor\": \"white\", \"startlinecolor\": \"#2a3f5f\"}, \"baxis\": {\"endlinecolor\": \"#2a3f5f\", \"gridcolor\": \"white\", \"linecolor\": \"white\", \"minorgridcolor\": \"white\", \"startlinecolor\": \"#2a3f5f\"}, \"type\": \"carpet\"}], \"choropleth\": [{\"colorbar\": {\"outlinewidth\": 0, \"ticks\": \"\"}, \"type\": \"choropleth\"}], \"contour\": [{\"colorbar\": {\"outlinewidth\": 0, \"ticks\": \"\"}, \"colorscale\": [[0.0, \"#0d0887\"], [0.1111111111111111, \"#46039f\"], [0.2222222222222222, \"#7201a8\"], [0.3333333333333333, \"#9c179e\"], [0.4444444444444444, \"#bd3786\"], [0.5555555555555556, \"#d8576b\"], [0.6666666666666666, \"#ed7953\"], [0.7777777777777778, \"#fb9f3a\"], [0.8888888888888888, \"#fdca26\"], [1.0, \"#f0f921\"]], \"type\": \"contour\"}], \"contourcarpet\": [{\"colorbar\": {\"outlinewidth\": 0, \"ticks\": \"\"}, \"type\": \"contourcarpet\"}], \"heatmap\": [{\"colorbar\": {\"outlinewidth\": 0, \"ticks\": \"\"}, \"colorscale\": [[0.0, \"#0d0887\"], [0.1111111111111111, \"#46039f\"], [0.2222222222222222, \"#7201a8\"], [0.3333333333333333, \"#9c179e\"], [0.4444444444444444, \"#bd3786\"], [0.5555555555555556, \"#d8576b\"], [0.6666666666666666, \"#ed7953\"], [0.7777777777777778, \"#fb9f3a\"], [0.8888888888888888, \"#fdca26\"], [1.0, \"#f0f921\"]], \"type\": \"heatmap\"}], \"heatmapgl\": [{\"colorbar\": {\"outlinewidth\": 0, \"ticks\": \"\"}, \"colorscale\": [[0.0, \"#0d0887\"], [0.1111111111111111, \"#46039f\"], [0.2222222222222222, \"#7201a8\"], [0.3333333333333333, \"#9c179e\"], [0.4444444444444444, \"#bd3786\"], [0.5555555555555556, \"#d8576b\"], [0.6666666666666666, \"#ed7953\"], [0.7777777777777778, \"#fb9f3a\"], [0.8888888888888888, \"#fdca26\"], [1.0, \"#f0f921\"]], \"type\": \"heatmapgl\"}], \"histogram\": [{\"marker\": {\"colorbar\": {\"outlinewidth\": 0, \"ticks\": \"\"}}, \"type\": \"histogram\"}], \"histogram2d\": [{\"colorbar\": {\"outlinewidth\": 0, \"ticks\": \"\"}, \"colorscale\": [[0.0, \"#0d0887\"], [0.1111111111111111, \"#46039f\"], [0.2222222222222222, \"#7201a8\"], [0.3333333333333333, \"#9c179e\"], [0.4444444444444444, \"#bd3786\"], [0.5555555555555556, \"#d8576b\"], [0.6666666666666666, \"#ed7953\"], [0.7777777777777778, \"#fb9f3a\"], [0.8888888888888888, \"#fdca26\"], [1.0, \"#f0f921\"]], \"type\": \"histogram2d\"}], \"histogram2dcontour\": [{\"colorbar\": {\"outlinewidth\": 0, \"ticks\": \"\"}, \"colorscale\": [[0.0, \"#0d0887\"], [0.1111111111111111, \"#46039f\"], [0.2222222222222222, \"#7201a8\"], [0.3333333333333333, \"#9c179e\"], [0.4444444444444444, \"#bd3786\"], [0.5555555555555556, \"#d8576b\"], [0.6666666666666666, \"#ed7953\"], [0.7777777777777778, \"#fb9f3a\"], [0.8888888888888888, \"#fdca26\"], [1.0, \"#f0f921\"]], \"type\": \"histogram2dcontour\"}], \"mesh3d\": [{\"colorbar\": {\"outlinewidth\": 0, \"ticks\": \"\"}, \"type\": \"mesh3d\"}], \"parcoords\": [{\"line\": {\"colorbar\": {\"outlinewidth\": 0, \"ticks\": \"\"}}, \"type\": \"parcoords\"}], \"pie\": [{\"automargin\": true, \"type\": \"pie\"}], \"scatter\": [{\"marker\": {\"colorbar\": {\"outlinewidth\": 0, \"ticks\": \"\"}}, \"type\": \"scatter\"}], \"scatter3d\": [{\"line\": {\"colorbar\": {\"outlinewidth\": 0, \"ticks\": \"\"}}, \"marker\": {\"colorbar\": {\"outlinewidth\": 0, \"ticks\": \"\"}}, \"type\": \"scatter3d\"}], \"scattercarpet\": [{\"marker\": {\"colorbar\": {\"outlinewidth\": 0, \"ticks\": \"\"}}, \"type\": \"scattercarpet\"}], \"scattergeo\": [{\"marker\": {\"colorbar\": {\"outlinewidth\": 0, \"ticks\": \"\"}}, \"type\": \"scattergeo\"}], \"scattergl\": [{\"marker\": {\"colorbar\": {\"outlinewidth\": 0, \"ticks\": \"\"}}, \"type\": \"scattergl\"}], \"scattermapbox\": [{\"marker\": {\"colorbar\": {\"outlinewidth\": 0, \"ticks\": \"\"}}, \"type\": \"scattermapbox\"}], \"scatterpolar\": [{\"marker\": {\"colorbar\": {\"outlinewidth\": 0, \"ticks\": \"\"}}, \"type\": \"scatterpolar\"}], \"scatterpolargl\": [{\"marker\": {\"colorbar\": {\"outlinewidth\": 0, \"ticks\": \"\"}}, \"type\": \"scatterpolargl\"}], \"scatterternary\": [{\"marker\": {\"colorbar\": {\"outlinewidth\": 0, \"ticks\": \"\"}}, \"type\": \"scatterternary\"}], \"surface\": [{\"colorbar\": {\"outlinewidth\": 0, \"ticks\": \"\"}, \"colorscale\": [[0.0, \"#0d0887\"], [0.1111111111111111, \"#46039f\"], [0.2222222222222222, \"#7201a8\"], [0.3333333333333333, \"#9c179e\"], [0.4444444444444444, \"#bd3786\"], [0.5555555555555556, \"#d8576b\"], [0.6666666666666666, \"#ed7953\"], [0.7777777777777778, \"#fb9f3a\"], [0.8888888888888888, \"#fdca26\"], [1.0, \"#f0f921\"]], \"type\": \"surface\"}], \"table\": [{\"cells\": {\"fill\": {\"color\": \"#EBF0F8\"}, \"line\": {\"color\": \"white\"}}, \"header\": {\"fill\": {\"color\": \"#C8D4E3\"}, \"line\": {\"color\": \"white\"}}, \"type\": \"table\"}]}, \"layout\": {\"annotationdefaults\": {\"arrowcolor\": \"#2a3f5f\", \"arrowhead\": 0, \"arrowwidth\": 1}, \"coloraxis\": {\"colorbar\": {\"outlinewidth\": 0, \"ticks\": \"\"}}, \"colorscale\": {\"diverging\": [[0, \"#8e0152\"], [0.1, \"#c51b7d\"], [0.2, \"#de77ae\"], [0.3, \"#f1b6da\"], [0.4, \"#fde0ef\"], [0.5, \"#f7f7f7\"], [0.6, \"#e6f5d0\"], [0.7, \"#b8e186\"], [0.8, \"#7fbc41\"], [0.9, \"#4d9221\"], [1, \"#276419\"]], \"sequential\": [[0.0, \"#0d0887\"], [0.1111111111111111, \"#46039f\"], [0.2222222222222222, \"#7201a8\"], [0.3333333333333333, \"#9c179e\"], [0.4444444444444444, \"#bd3786\"], [0.5555555555555556, \"#d8576b\"], [0.6666666666666666, \"#ed7953\"], [0.7777777777777778, \"#fb9f3a\"], [0.8888888888888888, \"#fdca26\"], [1.0, \"#f0f921\"]], \"sequentialminus\": [[0.0, \"#0d0887\"], [0.1111111111111111, \"#46039f\"], [0.2222222222222222, \"#7201a8\"], [0.3333333333333333, \"#9c179e\"], [0.4444444444444444, \"#bd3786\"], [0.5555555555555556, \"#d8576b\"], [0.6666666666666666, \"#ed7953\"], [0.7777777777777778, \"#fb9f3a\"], [0.8888888888888888, \"#fdca26\"], [1.0, \"#f0f921\"]]}, \"colorway\": [\"#636efa\", \"#EF553B\", \"#00cc96\", \"#ab63fa\", \"#FFA15A\", \"#19d3f3\", \"#FF6692\", \"#B6E880\", \"#FF97FF\", \"#FECB52\"], \"font\": {\"color\": \"#2a3f5f\"}, \"geo\": {\"bgcolor\": \"white\", \"lakecolor\": \"white\", \"landcolor\": \"#E5ECF6\", \"showlakes\": true, \"showland\": true, \"subunitcolor\": \"white\"}, \"hoverlabel\": {\"align\": \"left\"}, \"hovermode\": \"closest\", \"mapbox\": {\"style\": \"light\"}, \"paper_bgcolor\": \"white\", \"plot_bgcolor\": \"#E5ECF6\", \"polar\": {\"angularaxis\": {\"gridcolor\": \"white\", \"linecolor\": \"white\", \"ticks\": \"\"}, \"bgcolor\": \"#E5ECF6\", \"radialaxis\": {\"gridcolor\": \"white\", \"linecolor\": \"white\", \"ticks\": \"\"}}, \"scene\": {\"xaxis\": {\"backgroundcolor\": \"#E5ECF6\", \"gridcolor\": \"white\", \"gridwidth\": 2, \"linecolor\": \"white\", \"showbackground\": true, \"ticks\": \"\", \"zerolinecolor\": \"white\"}, \"yaxis\": {\"backgroundcolor\": \"#E5ECF6\", \"gridcolor\": \"white\", \"gridwidth\": 2, \"linecolor\": \"white\", \"showbackground\": true, \"ticks\": \"\", \"zerolinecolor\": \"white\"}, \"zaxis\": {\"backgroundcolor\": \"#E5ECF6\", \"gridcolor\": \"white\", \"gridwidth\": 2, \"linecolor\": \"white\", \"showbackground\": true, \"ticks\": \"\", \"zerolinecolor\": \"white\"}}, \"shapedefaults\": {\"line\": {\"color\": \"#2a3f5f\"}}, \"ternary\": {\"aaxis\": {\"gridcolor\": \"white\", \"linecolor\": \"white\", \"ticks\": \"\"}, \"baxis\": {\"gridcolor\": \"white\", \"linecolor\": \"white\", \"ticks\": \"\"}, \"bgcolor\": \"#E5ECF6\", \"caxis\": {\"gridcolor\": \"white\", \"linecolor\": \"white\", \"ticks\": \"\"}}, \"title\": {\"x\": 0.05}, \"xaxis\": {\"automargin\": true, \"gridcolor\": \"white\", \"linecolor\": \"white\", \"ticks\": \"\", \"title\": {\"standoff\": 15}, \"zerolinecolor\": \"white\", \"zerolinewidth\": 2}, \"yaxis\": {\"automargin\": true, \"gridcolor\": \"white\", \"linecolor\": \"white\", \"ticks\": \"\", \"title\": {\"standoff\": 15}, \"zerolinecolor\": \"white\", \"zerolinewidth\": 2}}}, \"title\": {\"text\": \"Credit Card Transactions Time Density Plot\"}, \"xaxis\": {\"anchor\": \"y2\", \"domain\": [0.0, 1.0], \"title\": {\"text\": \"Time [s]\"}, \"zeroline\": false}, \"yaxis\": {\"anchor\": \"free\", \"domain\": [0.0, 1], \"position\": 0.0}},\n",
       "                        {\"responsive\": true}\n",
       "                    ).then(function(){\n",
       "                            \n",
       "var gd = document.getElementById('cdb1c31a-ef47-4879-9c12-1c9bfc3f5f7a');\n",
       "var x = new MutationObserver(function (mutations, observer) {{\n",
       "        var display = window.getComputedStyle(gd).display;\n",
       "        if (!display || display === 'none') {{\n",
       "            console.log([gd, 'removed!']);\n",
       "            Plotly.purge(gd);\n",
       "            observer.disconnect();\n",
       "        }}\n",
       "}});\n",
       "\n",
       "// Listen for the removal of the full notebook cells\n",
       "var notebookContainer = gd.closest('#notebook-container');\n",
       "if (notebookContainer) {{\n",
       "    x.observe(notebookContainer, {childList: true});\n",
       "}}\n",
       "\n",
       "// Listen for the clearing of the current output cell\n",
       "var outputEl = gd.closest('.output');\n",
       "if (outputEl) {{\n",
       "    x.observe(outputEl, {childList: true});\n",
       "}}\n",
       "\n",
       "                        })\n",
       "                };\n",
       "                });\n",
       "            </script>\n",
       "        </div>"
      ]
     },
     "metadata": {},
     "output_type": "display_data"
    }
   ],
   "source": [
    "class_0 = data_df.loc[data_df['Class'] == 0][\"Time\"]\n",
    "class_1 = data_df.loc[data_df['Class'] == 1][\"Time\"]\n",
    "plt.figure(figsize = (14,4))\n",
    "plt.title('Credit Card Transactions Time Density Plot')\n",
    "sns.set_color_codes(\"pastel\")\n",
    "sns.distplot(class_0,kde=True,bins=480)\n",
    "sns.distplot(class_1,kde=True,bins=480)\n",
    "plt.show()\n",
    "hist_data = [class_0, class_1]\n",
    "group_labels = ['Not Fraud', 'Fraud']\n",
    "\n",
    "fig = ff.create_distplot(hist_data, group_labels, show_hist=False, show_rug=False)\n",
    "fig['layout'].update(title='Credit Card Transactions Time Density Plot', xaxis=dict(title='Time [s]'))\n",
    "iplot(fig, filename='dist_only')"
   ]
  },
  {
   "cell_type": "markdown",
   "metadata": {},
   "source": [
    "Transactions amount¶"
   ]
  },
  {
   "cell_type": "code",
   "execution_count": 16,
   "metadata": {},
   "outputs": [
    {
     "data": {
      "image/png": "[encoded data removed]",
      "text/plain": [
       "<Figure size 864x432 with 2 Axes>"
      ]
     },
     "metadata": {
      "needs_background": "light"
     },
     "output_type": "display_data"
    }
   ],
   "source": [
    "fig, (ax1, ax2) = plt.subplots(ncols=2, figsize=(12,6))\n",
    "s = sns.boxplot(ax = ax1, x=\"Class\", y=\"Amount\", hue=\"Class\",data=data_df, palette=\"PRGn\",showfliers=True)\n",
    "s = sns.boxplot(ax = ax2, x=\"Class\", y=\"Amount\", hue=\"Class\",data=data_df, palette=\"PRGn\",showfliers=False)\n",
    "plt.show()"
   ]
  },
  {
   "cell_type": "code",
   "execution_count": 17,
   "metadata": {},
   "outputs": [
    {
     "data": {
      "text/plain": [
       "count    9962.000000\n",
       "mean       62.981743\n",
       "std       183.901899\n",
       "min         0.000000\n",
       "25%         5.147500\n",
       "50%        15.950000\n",
       "75%        51.195000\n",
       "max      7712.430000\n",
       "Name: Amount, dtype: float64"
      ]
     },
     "execution_count": 17,
     "metadata": {},
     "output_type": "execute_result"
    }
   ],
   "source": [
    "tmp = data_df[['Amount','Class']].copy()\n",
    "class_0 = tmp.loc[tmp['Class'] == 0]['Amount']\n",
    "class_1 = tmp.loc[tmp['Class'] == 1]['Amount']\n",
    "class_0.describe()"
   ]
  },
  {
   "cell_type": "code",
   "execution_count": 18,
   "metadata": {},
   "outputs": [
    {
     "data": {
      "text/plain": [
       "count      38.000000\n",
       "mean       75.730526\n",
       "std       304.521215\n",
       "min         0.000000\n",
       "25%         1.000000\n",
       "50%         1.000000\n",
       "75%         1.000000\n",
       "max      1809.680000\n",
       "Name: Amount, dtype: float64"
      ]
     },
     "execution_count": 18,
     "metadata": {},
     "output_type": "execute_result"
    }
   ],
   "source": [
    "class_1.describe()"
   ]
  },
  {
   "cell_type": "code",
   "execution_count": 19,
   "metadata": {},
   "outputs": [
    {
     "data": {
      "application/vnd.plotly.v1+json": {
       "config": {
        "linkText": "Export to plot.ly",
        "plotlyServerURL": "https://plot.ly",
        "showLink": false
       },
       "data": [
        {
         "marker": {
          "color": "rgb(238,23,11)",
          "line": {
           "color": "red",
           "width": 1
          },
          "opacity": 0.5
         },
         "mode": "markers",
         "name": "Amount",
         "text": [
          0,
          529,
          239.93,
          59,
          1,
          1,
          1,
          1,
          1,
          1,
          1,
          1,
          1,
          1,
          1,
          1,
          1,
          1,
          1,
          1,
          1,
          1.1,
          1,
          1,
          1809.68,
          1,
          1,
          1,
          1,
          1,
          0,
          30.39,
          179.66,
          1,
          1,
          1,
          1,
          1
         ],
         "type": "scatter",
         "x": [
          406,
          472,
          4462,
          6986,
          7519,
          7526,
          7535,
          7543,
          7551,
          7610,
          7672,
          7740,
          7891,
          8090,
          8169,
          8408,
          8415,
          8451,
          8528,
          8614,
          8757,
          8808,
          8878,
          8886,
          9064,
          11080,
          11092,
          11131,
          11629,
          11635,
          12093,
          12095,
          12393,
          12597,
          13126,
          13323,
          14073,
          14152
         ],
         "y": [
          0,
          529,
          239.93,
          59,
          1,
          1,
          1,
          1,
          1,
          1,
          1,
          1,
          1,
          1,
          1,
          1,
          1,
          1,
          1,
          1,
          1,
          1.1,
          1,
          1,
          1809.68,
          1,
          1,
          1,
          1,
          1,
          0,
          30.39,
          179.66,
          1,
          1,
          1,
          1,
          1
         ]
        }
       ],
       "layout": {
        "hovermode": "closest",
        "template": {
         "data": {
          "bar": [
           {
            "error_x": {
             "color": "#2a3f5f"
            },
            "error_y": {
             "color": "#2a3f5f"
            },
            "marker": {
             "line": {
              "color": "#E5ECF6",
              "width": 0.5
             }
            },
            "type": "bar"
           }
          ],
          "barpolar": [
           {
            "marker": {
             "line": {
              "color": "#E5ECF6",
              "width": 0.5
             }
            },
            "type": "barpolar"
           }
          ],
          "carpet": [
           {
            "aaxis": {
             "endlinecolor": "#2a3f5f",
             "gridcolor": "white",
             "linecolor": "white",
             "minorgridcolor": "white",
             "startlinecolor": "#2a3f5f"
            },
            "baxis": {
             "endlinecolor": "#2a3f5f",
             "gridcolor": "white",
             "linecolor": "white",
             "minorgridcolor": "white",
             "startlinecolor": "#2a3f5f"
            },
            "type": "carpet"
           }
          ],
          "choropleth": [
           {
            "colorbar": {
             "outlinewidth": 0,
             "ticks": ""
            },
            "type": "choropleth"
           }
          ],
          "contour": [
           {
            "colorbar": {
             "outlinewidth": 0,
             "ticks": ""
            },
            "colorscale": [
             [
              0,
              "#0d0887"
             ],
             [
              0.1111111111111111,
              "#46039f"
             ],
             [
              0.2222222222222222,
              "#7201a8"
             ],
             [
              0.3333333333333333,
              "#9c179e"
             ],
             [
              0.4444444444444444,
              "#bd3786"
             ],
             [
              0.5555555555555556,
              "#d8576b"
             ],
             [
              0.6666666666666666,
              "#ed7953"
             ],
             [
              0.7777777777777778,
              "#fb9f3a"
             ],
             [
              0.8888888888888888,
              "#fdca26"
             ],
             [
              1,
              "#f0f921"
             ]
            ],
            "type": "contour"
           }
          ],
          "contourcarpet": [
           {
            "colorbar": {
             "outlinewidth": 0,
             "ticks": ""
            },
            "type": "contourcarpet"
           }
          ],
          "heatmap": [
           {
            "colorbar": {
             "outlinewidth": 0,
             "ticks": ""
            },
            "colorscale": [
             [
              0,
              "#0d0887"
             ],
             [
              0.1111111111111111,
              "#46039f"
             ],
             [
              0.2222222222222222,
              "#7201a8"
             ],
             [
              0.3333333333333333,
              "#9c179e"
             ],
             [
              0.4444444444444444,
              "#bd3786"
             ],
             [
              0.5555555555555556,
              "#d8576b"
             ],
             [
              0.6666666666666666,
              "#ed7953"
             ],
             [
              0.7777777777777778,
              "#fb9f3a"
             ],
             [
              0.8888888888888888,
              "#fdca26"
             ],
             [
              1,
              "#f0f921"
             ]
            ],
            "type": "heatmap"
           }
          ],
          "heatmapgl": [
           {
            "colorbar": {
             "outlinewidth": 0,
             "ticks": ""
            },
            "colorscale": [
             [
              0,
              "#0d0887"
             ],
             [
              0.1111111111111111,
              "#46039f"
             ],
             [
              0.2222222222222222,
              "#7201a8"
             ],
             [
              0.3333333333333333,
              "#9c179e"
             ],
             [
              0.4444444444444444,
              "#bd3786"
             ],
             [
              0.5555555555555556,
              "#d8576b"
             ],
             [
              0.6666666666666666,
              "#ed7953"
             ],
             [
              0.7777777777777778,
              "#fb9f3a"
             ],
             [
              0.8888888888888888,
              "#fdca26"
             ],
             [
              1,
              "#f0f921"
             ]
            ],
            "type": "heatmapgl"
           }
          ],
          "histogram": [
           {
            "marker": {
             "colorbar": {
              "outlinewidth": 0,
              "ticks": ""
             }
            },
            "type": "histogram"
           }
          ],
          "histogram2d": [
           {
            "colorbar": {
             "outlinewidth": 0,
             "ticks": ""
            },
            "colorscale": [
             [
              0,
              "#0d0887"
             ],
             [
              0.1111111111111111,
              "#46039f"
             ],
             [
              0.2222222222222222,
              "#7201a8"
             ],
             [
              0.3333333333333333,
              "#9c179e"
             ],
             [
              0.4444444444444444,
              "#bd3786"
             ],
             [
              0.5555555555555556,
              "#d8576b"
             ],
             [
              0.6666666666666666,
              "#ed7953"
             ],
             [
              0.7777777777777778,
              "#fb9f3a"
             ],
             [
              0.8888888888888888,
              "#fdca26"
             ],
             [
              1,
              "#f0f921"
             ]
            ],
            "type": "histogram2d"
           }
          ],
          "histogram2dcontour": [
           {
            "colorbar": {
             "outlinewidth": 0,
             "ticks": ""
            },
            "colorscale": [
             [
              0,
              "#0d0887"
             ],
             [
              0.1111111111111111,
              "#46039f"
             ],
             [
              0.2222222222222222,
              "#7201a8"
             ],
             [
              0.3333333333333333,
              "#9c179e"
             ],
             [
              0.4444444444444444,
              "#bd3786"
             ],
             [
              0.5555555555555556,
              "#d8576b"
             ],
             [
              0.6666666666666666,
              "#ed7953"
             ],
             [
              0.7777777777777778,
              "#fb9f3a"
             ],
             [
              0.8888888888888888,
              "#fdca26"
             ],
             [
              1,
              "#f0f921"
             ]
            ],
            "type": "histogram2dcontour"
           }
          ],
          "mesh3d": [
           {
            "colorbar": {
             "outlinewidth": 0,
             "ticks": ""
            },
            "type": "mesh3d"
           }
          ],
          "parcoords": [
           {
            "line": {
             "colorbar": {
              "outlinewidth": 0,
              "ticks": ""
             }
            },
            "type": "parcoords"
           }
          ],
          "pie": [
           {
            "automargin": true,
            "type": "pie"
           }
          ],
          "scatter": [
           {
            "marker": {
             "colorbar": {
              "outlinewidth": 0,
              "ticks": ""
             }
            },
            "type": "scatter"
           }
          ],
          "scatter3d": [
           {
            "line": {
             "colorbar": {
              "outlinewidth": 0,
              "ticks": ""
             }
            },
            "marker": {
             "colorbar": {
              "outlinewidth": 0,
              "ticks": ""
             }
            },
            "type": "scatter3d"
           }
          ],
          "scattercarpet": [
           {
            "marker": {
             "colorbar": {
              "outlinewidth": 0,
              "ticks": ""
             }
            },
            "type": "scattercarpet"
           }
          ],
          "scattergeo": [
           {
            "marker": {
             "colorbar": {
              "outlinewidth": 0,
              "ticks": ""
             }
            },
            "type": "scattergeo"
           }
          ],
          "scattergl": [
           {
            "marker": {
             "colorbar": {
              "outlinewidth": 0,
              "ticks": ""
             }
            },
            "type": "scattergl"
           }
          ],
          "scattermapbox": [
           {
            "marker": {
             "colorbar": {
              "outlinewidth": 0,
              "ticks": ""
             }
            },
            "type": "scattermapbox"
           }
          ],
          "scatterpolar": [
           {
            "marker": {
             "colorbar": {
              "outlinewidth": 0,
              "ticks": ""
             }
            },
            "type": "scatterpolar"
           }
          ],
          "scatterpolargl": [
           {
            "marker": {
             "colorbar": {
              "outlinewidth": 0,
              "ticks": ""
             }
            },
            "type": "scatterpolargl"
           }
          ],
          "scatterternary": [
           {
            "marker": {
             "colorbar": {
              "outlinewidth": 0,
              "ticks": ""
             }
            },
            "type": "scatterternary"
           }
          ],
          "surface": [
           {
            "colorbar": {
             "outlinewidth": 0,
             "ticks": ""
            },
            "colorscale": [
             [
              0,
              "#0d0887"
             ],
             [
              0.1111111111111111,
              "#46039f"
             ],
             [
              0.2222222222222222,
              "#7201a8"
             ],
             [
              0.3333333333333333,
              "#9c179e"
             ],
             [
              0.4444444444444444,
              "#bd3786"
             ],
             [
              0.5555555555555556,
              "#d8576b"
             ],
             [
              0.6666666666666666,
              "#ed7953"
             ],
             [
              0.7777777777777778,
              "#fb9f3a"
             ],
             [
              0.8888888888888888,
              "#fdca26"
             ],
             [
              1,
              "#f0f921"
             ]
            ],
            "type": "surface"
           }
          ],
          "table": [
           {
            "cells": {
             "fill": {
              "color": "#EBF0F8"
             },
             "line": {
              "color": "white"
             }
            },
            "header": {
             "fill": {
              "color": "#C8D4E3"
             },
             "line": {
              "color": "white"
             }
            },
            "type": "table"
           }
          ]
         },
         "layout": {
          "annotationdefaults": {
           "arrowcolor": "#2a3f5f",
           "arrowhead": 0,
           "arrowwidth": 1
          },
          "coloraxis": {
           "colorbar": {
            "outlinewidth": 0,
            "ticks": ""
           }
          },
          "colorscale": {
           "diverging": [
            [
             0,
             "#8e0152"
            ],
            [
             0.1,
             "#c51b7d"
            ],
            [
             0.2,
             "#de77ae"
            ],
            [
             0.3,
             "#f1b6da"
            ],
            [
             0.4,
             "#fde0ef"
            ],
            [
             0.5,
             "#f7f7f7"
            ],
            [
             0.6,
             "#e6f5d0"
            ],
            [
             0.7,
             "#b8e186"
            ],
            [
             0.8,
             "#7fbc41"
            ],
            [
             0.9,
             "#4d9221"
            ],
            [
             1,
             "#276419"
            ]
           ],
           "sequential": [
            [
             0,
             "#0d0887"
            ],
            [
             0.1111111111111111,
             "#46039f"
            ],
            [
             0.2222222222222222,
             "#7201a8"
            ],
            [
             0.3333333333333333,
             "#9c179e"
            ],
            [
             0.4444444444444444,
             "#bd3786"
            ],
            [
             0.5555555555555556,
             "#d8576b"
            ],
            [
             0.6666666666666666,
             "#ed7953"
            ],
            [
             0.7777777777777778,
             "#fb9f3a"
            ],
            [
             0.8888888888888888,
             "#fdca26"
            ],
            [
             1,
             "#f0f921"
            ]
           ],
           "sequentialminus": [
            [
             0,
             "#0d0887"
            ],
            [
             0.1111111111111111,
             "#46039f"
            ],
            [
             0.2222222222222222,
             "#7201a8"
            ],
            [
             0.3333333333333333,
             "#9c179e"
            ],
            [
             0.4444444444444444,
             "#bd3786"
            ],
            [
             0.5555555555555556,
             "#d8576b"
            ],
            [
             0.6666666666666666,
             "#ed7953"
            ],
            [
             0.7777777777777778,
             "#fb9f3a"
            ],
            [
             0.8888888888888888,
             "#fdca26"
            ],
            [
             1,
             "#f0f921"
            ]
           ]
          },
          "colorway": [
           "#636efa",
           "#EF553B",
           "#00cc96",
           "#ab63fa",
           "#FFA15A",
           "#19d3f3",
           "#FF6692",
           "#B6E880",
           "#FF97FF",
           "#FECB52"
          ],
          "font": {
           "color": "#2a3f5f"
          },
          "geo": {
           "bgcolor": "white",
           "lakecolor": "white",
           "landcolor": "#E5ECF6",
           "showlakes": true,
           "showland": true,
           "subunitcolor": "white"
          },
          "hoverlabel": {
           "align": "left"
          },
          "hovermode": "closest",
          "mapbox": {
           "style": "light"
          },
          "paper_bgcolor": "white",
          "plot_bgcolor": "#E5ECF6",
          "polar": {
           "angularaxis": {
            "gridcolor": "white",
            "linecolor": "white",
            "ticks": ""
           },
           "bgcolor": "#E5ECF6",
           "radialaxis": {
            "gridcolor": "white",
            "linecolor": "white",
            "ticks": ""
           }
          },
          "scene": {
           "xaxis": {
            "backgroundcolor": "#E5ECF6",
            "gridcolor": "white",
            "gridwidth": 2,
            "linecolor": "white",
            "showbackground": true,
            "ticks": "",
            "zerolinecolor": "white"
           },
           "yaxis": {
            "backgroundcolor": "#E5ECF6",
            "gridcolor": "white",
            "gridwidth": 2,
            "linecolor": "white",
            "showbackground": true,
            "ticks": "",
            "zerolinecolor": "white"
           },
           "zaxis": {
            "backgroundcolor": "#E5ECF6",
            "gridcolor": "white",
            "gridwidth": 2,
            "linecolor": "white",
            "showbackground": true,
            "ticks": "",
            "zerolinecolor": "white"
           }
          },
          "shapedefaults": {
           "line": {
            "color": "#2a3f5f"
           }
          },
          "ternary": {
           "aaxis": {
            "gridcolor": "white",
            "linecolor": "white",
            "ticks": ""
           },
           "baxis": {
            "gridcolor": "white",
            "linecolor": "white",
            "ticks": ""
           },
           "bgcolor": "#E5ECF6",
           "caxis": {
            "gridcolor": "white",
            "linecolor": "white",
            "ticks": ""
           }
          },
          "title": {
           "x": 0.05
          },
          "xaxis": {
           "automargin": true,
           "gridcolor": "white",
           "linecolor": "white",
           "ticks": "",
           "title": {
            "standoff": 15
           },
           "zerolinecolor": "white",
           "zerolinewidth": 2
          },
          "yaxis": {
           "automargin": true,
           "gridcolor": "white",
           "linecolor": "white",
           "ticks": "",
           "title": {
            "standoff": 15
           },
           "zerolinecolor": "white",
           "zerolinewidth": 2
          }
         }
        },
        "title": {
         "text": "Amount of fraudulent transactions"
        },
        "xaxis": {
         "showticklabels": true,
         "title": {
          "text": "Time [s]"
         }
        },
        "yaxis": {
         "title": {
          "text": "Amount"
         }
        }
       }
      },
      "text/html": [
       "<div>\n",
       "        \n",
       "        \n",
       "            <div id=\"3ee0fe87-a396-435f-ba31-0df65ea9b40f\" class=\"plotly-graph-div\" style=\"height:525px; width:100%;\"></div>\n",
       "            <script type=\"text/javascript\">\n",
       "                require([\"plotly\"], function(Plotly) {\n",
       "                    window.PLOTLYENV=window.PLOTLYENV || {};\n",
       "                    \n",
       "                if (document.getElementById(\"3ee0fe87-a396-435f-ba31-0df65ea9b40f\")) {\n",
       "                    Plotly.newPlot(\n",
       "                        '3ee0fe87-a396-435f-ba31-0df65ea9b40f',\n",
       "                        [{\"marker\": {\"color\": \"rgb(238,23,11)\", \"line\": {\"color\": \"red\", \"width\": 1}, \"opacity\": 0.5}, \"mode\": \"markers\", \"name\": \"Amount\", \"text\": [0.0, 529.0, 239.93, 59.0, 1.0, 1.0, 1.0, 1.0, 1.0, 1.0, 1.0, 1.0, 1.0, 1.0, 1.0, 1.0, 1.0, 1.0, 1.0, 1.0, 1.0, 1.1, 1.0, 1.0, 1809.68, 1.0, 1.0, 1.0, 1.0, 1.0, 0.0, 30.39, 179.66, 1.0, 1.0, 1.0, 1.0, 1.0], \"type\": \"scatter\", \"x\": [406.0, 472.0, 4462.0, 6986.0, 7519.0, 7526.0, 7535.0, 7543.0, 7551.0, 7610.0, 7672.0, 7740.0, 7891.0, 8090.0, 8169.0, 8408.0, 8415.0, 8451.0, 8528.0, 8614.0, 8757.0, 8808.0, 8878.0, 8886.0, 9064.0, 11080.0, 11092.0, 11131.0, 11629.0, 11635.0, 12093.0, 12095.0, 12393.0, 12597.0, 13126.0, 13323.0, 14073.0, 14152.0], \"y\": [0.0, 529.0, 239.93, 59.0, 1.0, 1.0, 1.0, 1.0, 1.0, 1.0, 1.0, 1.0, 1.0, 1.0, 1.0, 1.0, 1.0, 1.0, 1.0, 1.0, 1.0, 1.1, 1.0, 1.0, 1809.68, 1.0, 1.0, 1.0, 1.0, 1.0, 0.0, 30.39, 179.66, 1.0, 1.0, 1.0, 1.0, 1.0]}],\n",
       "                        {\"hovermode\": \"closest\", \"template\": {\"data\": {\"bar\": [{\"error_x\": {\"color\": \"#2a3f5f\"}, \"error_y\": {\"color\": \"#2a3f5f\"}, \"marker\": {\"line\": {\"color\": \"#E5ECF6\", \"width\": 0.5}}, \"type\": \"bar\"}], \"barpolar\": [{\"marker\": {\"line\": {\"color\": \"#E5ECF6\", \"width\": 0.5}}, \"type\": \"barpolar\"}], \"carpet\": [{\"aaxis\": {\"endlinecolor\": \"#2a3f5f\", \"gridcolor\": \"white\", \"linecolor\": \"white\", \"minorgridcolor\": \"white\", \"startlinecolor\": \"#2a3f5f\"}, \"baxis\": {\"endlinecolor\": \"#2a3f5f\", \"gridcolor\": \"white\", \"linecolor\": \"white\", \"minorgridcolor\": \"white\", \"startlinecolor\": \"#2a3f5f\"}, \"type\": \"carpet\"}], \"choropleth\": [{\"colorbar\": {\"outlinewidth\": 0, \"ticks\": \"\"}, \"type\": \"choropleth\"}], \"contour\": [{\"colorbar\": {\"outlinewidth\": 0, \"ticks\": \"\"}, \"colorscale\": [[0.0, \"#0d0887\"], [0.1111111111111111, \"#46039f\"], [0.2222222222222222, \"#7201a8\"], [0.3333333333333333, \"#9c179e\"], [0.4444444444444444, \"#bd3786\"], [0.5555555555555556, \"#d8576b\"], [0.6666666666666666, \"#ed7953\"], [0.7777777777777778, \"#fb9f3a\"], [0.8888888888888888, \"#fdca26\"], [1.0, \"#f0f921\"]], \"type\": \"contour\"}], \"contourcarpet\": [{\"colorbar\": {\"outlinewidth\": 0, \"ticks\": \"\"}, \"type\": \"contourcarpet\"}], \"heatmap\": [{\"colorbar\": {\"outlinewidth\": 0, \"ticks\": \"\"}, \"colorscale\": [[0.0, \"#0d0887\"], [0.1111111111111111, \"#46039f\"], [0.2222222222222222, \"#7201a8\"], [0.3333333333333333, \"#9c179e\"], [0.4444444444444444, \"#bd3786\"], [0.5555555555555556, \"#d8576b\"], [0.6666666666666666, \"#ed7953\"], [0.7777777777777778, \"#fb9f3a\"], [0.8888888888888888, \"#fdca26\"], [1.0, \"#f0f921\"]], \"type\": \"heatmap\"}], \"heatmapgl\": [{\"colorbar\": {\"outlinewidth\": 0, \"ticks\": \"\"}, \"colorscale\": [[0.0, \"#0d0887\"], [0.1111111111111111, \"#46039f\"], [0.2222222222222222, \"#7201a8\"], [0.3333333333333333, \"#9c179e\"], [0.4444444444444444, \"#bd3786\"], [0.5555555555555556, \"#d8576b\"], [0.6666666666666666, \"#ed7953\"], [0.7777777777777778, \"#fb9f3a\"], [0.8888888888888888, \"#fdca26\"], [1.0, \"#f0f921\"]], \"type\": \"heatmapgl\"}], \"histogram\": [{\"marker\": {\"colorbar\": {\"outlinewidth\": 0, \"ticks\": \"\"}}, \"type\": \"histogram\"}], \"histogram2d\": [{\"colorbar\": {\"outlinewidth\": 0, \"ticks\": \"\"}, \"colorscale\": [[0.0, \"#0d0887\"], [0.1111111111111111, \"#46039f\"], [0.2222222222222222, \"#7201a8\"], [0.3333333333333333, \"#9c179e\"], [0.4444444444444444, \"#bd3786\"], [0.5555555555555556, \"#d8576b\"], [0.6666666666666666, \"#ed7953\"], [0.7777777777777778, \"#fb9f3a\"], [0.8888888888888888, \"#fdca26\"], [1.0, \"#f0f921\"]], \"type\": \"histogram2d\"}], \"histogram2dcontour\": [{\"colorbar\": {\"outlinewidth\": 0, \"ticks\": \"\"}, \"colorscale\": [[0.0, \"#0d0887\"], [0.1111111111111111, \"#46039f\"], [0.2222222222222222, \"#7201a8\"], [0.3333333333333333, \"#9c179e\"], [0.4444444444444444, \"#bd3786\"], [0.5555555555555556, \"#d8576b\"], [0.6666666666666666, \"#ed7953\"], [0.7777777777777778, \"#fb9f3a\"], [0.8888888888888888, \"#fdca26\"], [1.0, \"#f0f921\"]], \"type\": \"histogram2dcontour\"}], \"mesh3d\": [{\"colorbar\": {\"outlinewidth\": 0, \"ticks\": \"\"}, \"type\": \"mesh3d\"}], \"parcoords\": [{\"line\": {\"colorbar\": {\"outlinewidth\": 0, \"ticks\": \"\"}}, \"type\": \"parcoords\"}], \"pie\": [{\"automargin\": true, \"type\": \"pie\"}], \"scatter\": [{\"marker\": {\"colorbar\": {\"outlinewidth\": 0, \"ticks\": \"\"}}, \"type\": \"scatter\"}], \"scatter3d\": [{\"line\": {\"colorbar\": {\"outlinewidth\": 0, \"ticks\": \"\"}}, \"marker\": {\"colorbar\": {\"outlinewidth\": 0, \"ticks\": \"\"}}, \"type\": \"scatter3d\"}], \"scattercarpet\": [{\"marker\": {\"colorbar\": {\"outlinewidth\": 0, \"ticks\": \"\"}}, \"type\": \"scattercarpet\"}], \"scattergeo\": [{\"marker\": {\"colorbar\": {\"outlinewidth\": 0, \"ticks\": \"\"}}, \"type\": \"scattergeo\"}], \"scattergl\": [{\"marker\": {\"colorbar\": {\"outlinewidth\": 0, \"ticks\": \"\"}}, \"type\": \"scattergl\"}], \"scattermapbox\": [{\"marker\": {\"colorbar\": {\"outlinewidth\": 0, \"ticks\": \"\"}}, \"type\": \"scattermapbox\"}], \"scatterpolar\": [{\"marker\": {\"colorbar\": {\"outlinewidth\": 0, \"ticks\": \"\"}}, \"type\": \"scatterpolar\"}], \"scatterpolargl\": [{\"marker\": {\"colorbar\": {\"outlinewidth\": 0, \"ticks\": \"\"}}, \"type\": \"scatterpolargl\"}], \"scatterternary\": [{\"marker\": {\"colorbar\": {\"outlinewidth\": 0, \"ticks\": \"\"}}, \"type\": \"scatterternary\"}], \"surface\": [{\"colorbar\": {\"outlinewidth\": 0, \"ticks\": \"\"}, \"colorscale\": [[0.0, \"#0d0887\"], [0.1111111111111111, \"#46039f\"], [0.2222222222222222, \"#7201a8\"], [0.3333333333333333, \"#9c179e\"], [0.4444444444444444, \"#bd3786\"], [0.5555555555555556, \"#d8576b\"], [0.6666666666666666, \"#ed7953\"], [0.7777777777777778, \"#fb9f3a\"], [0.8888888888888888, \"#fdca26\"], [1.0, \"#f0f921\"]], \"type\": \"surface\"}], \"table\": [{\"cells\": {\"fill\": {\"color\": \"#EBF0F8\"}, \"line\": {\"color\": \"white\"}}, \"header\": {\"fill\": {\"color\": \"#C8D4E3\"}, \"line\": {\"color\": \"white\"}}, \"type\": \"table\"}]}, \"layout\": {\"annotationdefaults\": {\"arrowcolor\": \"#2a3f5f\", \"arrowhead\": 0, \"arrowwidth\": 1}, \"coloraxis\": {\"colorbar\": {\"outlinewidth\": 0, \"ticks\": \"\"}}, \"colorscale\": {\"diverging\": [[0, \"#8e0152\"], [0.1, \"#c51b7d\"], [0.2, \"#de77ae\"], [0.3, \"#f1b6da\"], [0.4, \"#fde0ef\"], [0.5, \"#f7f7f7\"], [0.6, \"#e6f5d0\"], [0.7, \"#b8e186\"], [0.8, \"#7fbc41\"], [0.9, \"#4d9221\"], [1, \"#276419\"]], \"sequential\": [[0.0, \"#0d0887\"], [0.1111111111111111, \"#46039f\"], [0.2222222222222222, \"#7201a8\"], [0.3333333333333333, \"#9c179e\"], [0.4444444444444444, \"#bd3786\"], [0.5555555555555556, \"#d8576b\"], [0.6666666666666666, \"#ed7953\"], [0.7777777777777778, \"#fb9f3a\"], [0.8888888888888888, \"#fdca26\"], [1.0, \"#f0f921\"]], \"sequentialminus\": [[0.0, \"#0d0887\"], [0.1111111111111111, \"#46039f\"], [0.2222222222222222, \"#7201a8\"], [0.3333333333333333, \"#9c179e\"], [0.4444444444444444, \"#bd3786\"], [0.5555555555555556, \"#d8576b\"], [0.6666666666666666, \"#ed7953\"], [0.7777777777777778, \"#fb9f3a\"], [0.8888888888888888, \"#fdca26\"], [1.0, \"#f0f921\"]]}, \"colorway\": [\"#636efa\", \"#EF553B\", \"#00cc96\", \"#ab63fa\", \"#FFA15A\", \"#19d3f3\", \"#FF6692\", \"#B6E880\", \"#FF97FF\", \"#FECB52\"], \"font\": {\"color\": \"#2a3f5f\"}, \"geo\": {\"bgcolor\": \"white\", \"lakecolor\": \"white\", \"landcolor\": \"#E5ECF6\", \"showlakes\": true, \"showland\": true, \"subunitcolor\": \"white\"}, \"hoverlabel\": {\"align\": \"left\"}, \"hovermode\": \"closest\", \"mapbox\": {\"style\": \"light\"}, \"paper_bgcolor\": \"white\", \"plot_bgcolor\": \"#E5ECF6\", \"polar\": {\"angularaxis\": {\"gridcolor\": \"white\", \"linecolor\": \"white\", \"ticks\": \"\"}, \"bgcolor\": \"#E5ECF6\", \"radialaxis\": {\"gridcolor\": \"white\", \"linecolor\": \"white\", \"ticks\": \"\"}}, \"scene\": {\"xaxis\": {\"backgroundcolor\": \"#E5ECF6\", \"gridcolor\": \"white\", \"gridwidth\": 2, \"linecolor\": \"white\", \"showbackground\": true, \"ticks\": \"\", \"zerolinecolor\": \"white\"}, \"yaxis\": {\"backgroundcolor\": \"#E5ECF6\", \"gridcolor\": \"white\", \"gridwidth\": 2, \"linecolor\": \"white\", \"showbackground\": true, \"ticks\": \"\", \"zerolinecolor\": \"white\"}, \"zaxis\": {\"backgroundcolor\": \"#E5ECF6\", \"gridcolor\": \"white\", \"gridwidth\": 2, \"linecolor\": \"white\", \"showbackground\": true, \"ticks\": \"\", \"zerolinecolor\": \"white\"}}, \"shapedefaults\": {\"line\": {\"color\": \"#2a3f5f\"}}, \"ternary\": {\"aaxis\": {\"gridcolor\": \"white\", \"linecolor\": \"white\", \"ticks\": \"\"}, \"baxis\": {\"gridcolor\": \"white\", \"linecolor\": \"white\", \"ticks\": \"\"}, \"bgcolor\": \"#E5ECF6\", \"caxis\": {\"gridcolor\": \"white\", \"linecolor\": \"white\", \"ticks\": \"\"}}, \"title\": {\"x\": 0.05}, \"xaxis\": {\"automargin\": true, \"gridcolor\": \"white\", \"linecolor\": \"white\", \"ticks\": \"\", \"title\": {\"standoff\": 15}, \"zerolinecolor\": \"white\", \"zerolinewidth\": 2}, \"yaxis\": {\"automargin\": true, \"gridcolor\": \"white\", \"linecolor\": \"white\", \"ticks\": \"\", \"title\": {\"standoff\": 15}, \"zerolinecolor\": \"white\", \"zerolinewidth\": 2}}}, \"title\": {\"text\": \"Amount of fraudulent transactions\"}, \"xaxis\": {\"showticklabels\": true, \"title\": {\"text\": \"Time [s]\"}}, \"yaxis\": {\"title\": {\"text\": \"Amount\"}}},\n",
       "                        {\"responsive\": true}\n",
       "                    ).then(function(){\n",
       "                            \n",
       "var gd = document.getElementById('3ee0fe87-a396-435f-ba31-0df65ea9b40f');\n",
       "var x = new MutationObserver(function (mutations, observer) {{\n",
       "        var display = window.getComputedStyle(gd).display;\n",
       "        if (!display || display === 'none') {{\n",
       "            console.log([gd, 'removed!']);\n",
       "            Plotly.purge(gd);\n",
       "            observer.disconnect();\n",
       "        }}\n",
       "}});\n",
       "\n",
       "// Listen for the removal of the full notebook cells\n",
       "var notebookContainer = gd.closest('#notebook-container');\n",
       "if (notebookContainer) {{\n",
       "    x.observe(notebookContainer, {childList: true});\n",
       "}}\n",
       "\n",
       "// Listen for the clearing of the current output cell\n",
       "var outputEl = gd.closest('.output');\n",
       "if (outputEl) {{\n",
       "    x.observe(outputEl, {childList: true});\n",
       "}}\n",
       "\n",
       "                        })\n",
       "                };\n",
       "                });\n",
       "            </script>\n",
       "        </div>"
      ]
     },
     "metadata": {},
     "output_type": "display_data"
    }
   ],
   "source": [
    "fraud = data_df.loc[data_df['Class'] == 1]\n",
    "\n",
    "trace = go.Scatter(\n",
    "    x = fraud['Time'],y = fraud['Amount'],\n",
    "    name=\"Amount\",\n",
    "     marker=dict(\n",
    "                color='rgb(238,23,11)',\n",
    "                line=dict(\n",
    "                    color='red',\n",
    "                    width=1),\n",
    "                opacity=0.5,\n",
    "            ),\n",
    "    text= fraud['Amount'],\n",
    "    mode = \"markers\"\n",
    ")\n",
    "data = [trace]\n",
    "layout = dict(title = 'Amount of fraudulent transactions',\n",
    "          xaxis = dict(title = 'Time [s]', showticklabels=True), \n",
    "          yaxis = dict(title = 'Amount'),\n",
    "          hovermode='closest'\n",
    "         )\n",
    "fig = dict(data=data, layout=layout)\n",
    "iplot(fig, filename='fraud-amount')"
   ]
  },
  {
   "cell_type": "code",
   "execution_count": 20,
   "metadata": {},
   "outputs": [
    {
     "data": {
      "image/png": "[encoded data removed]",
      "text/plain": [
       "<Figure size 1008x1008 with 2 Axes>"
      ]
     },
     "metadata": {
      "needs_background": "light"
     },
     "output_type": "display_data"
    }
   ],
   "source": [
    "plt.figure(figsize = (14,14))\n",
    "plt.title('Credit Card Transactions features correlation plot (Pearson)')\n",
    "corr = data_df.corr()\n",
    "sns.heatmap(corr,xticklabels=corr.columns,yticklabels=corr.columns,linewidths=.1,cmap=\"Reds\")\n",
    "plt.show()"
   ]
  },
  {
   "cell_type": "code",
   "execution_count": 21,
   "metadata": {},
   "outputs": [
    {
     "data": {
      "text/plain": [
       "<Figure size 432x288 with 0 Axes>"
      ]
     },
     "metadata": {},
     "output_type": "display_data"
    },
    {
     "data": {
      "image/png": "[encoded data removed]",
      "text/plain": [
       "<Figure size 1152x2016 with 32 Axes>"
      ]
     },
     "metadata": {},
     "output_type": "display_data"
    }
   ],
   "source": [
    "var = data_df.columns.values\n",
    "\n",
    "i = 0\n",
    "t0 = data_df.loc[data_df['Class'] == 0]\n",
    "t1 = data_df.loc[data_df['Class'] == 1]\n",
    "\n",
    "sns.set_style('whitegrid')\n",
    "plt.figure()\n",
    "fig, ax = plt.subplots(8,4,figsize=(16,28))\n",
    "\n",
    "for feature in var:\n",
    "    i += 1\n",
    "    plt.subplot(8,4,i)\n",
    "    sns.kdeplot(t0[feature], bw=0.5,label=\"Class = 0\")\n",
    "    sns.kdeplot(t1[feature], bw=0.5,label=\"Class = 1\")\n",
    "    plt.xlabel(feature, fontsize=12)\n",
    "    locs, labels = plt.xticks()\n",
    "    plt.tick_params(axis='both', which='major', labelsize=12)\n",
    "plt.show();"
   ]
  },
  {
   "cell_type": "markdown",
   "metadata": {},
   "source": [
    "# Predictive models"
   ]
  },
  {
   "cell_type": "markdown",
   "metadata": {},
   "source": [
    "# RandomForestClassifier"
   ]
  },
  {
   "cell_type": "code",
   "execution_count": 22,
   "metadata": {},
   "outputs": [],
   "source": [
    "from sklearn.ensemble import RandomForestClassifier\n",
    "clf = RandomForestClassifier()"
   ]
  },
  {
   "cell_type": "code",
   "execution_count": 23,
   "metadata": {},
   "outputs": [
    {
     "data": {
      "text/plain": [
       "RandomForestClassifier()"
      ]
     },
     "execution_count": 23,
     "metadata": {},
     "output_type": "execute_result"
    }
   ],
   "source": [
    "clf.fit(os_data_X, os_data_y.values.ravel())"
   ]
  },
  {
   "cell_type": "code",
   "execution_count": 24,
   "metadata": {},
   "outputs": [],
   "source": [
    "preds = clf.predict(data_test_X)"
   ]
  },
  {
   "cell_type": "code",
   "execution_count": 25,
   "metadata": {},
   "outputs": [
    {
     "data": {
      "image/png": "[encoded data removed]",
      "text/plain": [
       "<Figure size 360x360 with 2 Axes>"
      ]
     },
     "metadata": {},
     "output_type": "display_data"
    }
   ],
   "source": [
    "cm = pd.crosstab(data_test_y.values.ravel(), preds, rownames=['Actual'], colnames=['Predicted'])\n",
    "fig, (ax1) = plt.subplots(ncols=1, figsize=(5,5))\n",
    "sns.heatmap(cm, \n",
    "            xticklabels=['Not Fraud', 'Fraud'],\n",
    "            yticklabels=['Not Fraud', 'Fraud'],\n",
    "            annot=True,ax=ax1,\n",
    "            linewidths=.2,linecolor=\"Darkblue\", cmap=\"Blues\")\n",
    "plt.title('Confusion Matrix', fontsize=14)\n",
    "plt.show()"
   ]
  },
  {
   "cell_type": "code",
   "execution_count": 26,
   "metadata": {},
   "outputs": [],
   "source": [
    "RF_ACC = roc_auc_score(data_test_y.values.ravel(), preds) * 100"
   ]
  },
  {
   "cell_type": "code",
   "execution_count": 27,
   "metadata": {},
   "outputs": [
    {
     "name": "stdout",
     "output_type": "stream",
     "text": [
      "              precision    recall  f1-score   support\n",
      "\n",
      "           0       1.00      1.00      1.00      2988\n",
      "           1       0.92      1.00      0.96        12\n",
      "\n",
      "    accuracy                           1.00      3000\n",
      "   macro avg       0.96      1.00      0.98      3000\n",
      "weighted avg       1.00      1.00      1.00      3000\n",
      "\n"
     ]
    }
   ],
   "source": [
    "from sklearn.metrics import classification_report ,confusion_matrix\n",
    "print(classification_report(data_test_y.values.ravel(), preds))"
   ]
  },
  {
   "cell_type": "code",
   "execution_count": 28,
   "metadata": {},
   "outputs": [],
   "source": [
    "confusion = confusion_matrix(data_test_y.values.ravel(), preds)"
   ]
  },
  {
   "cell_type": "code",
   "execution_count": 29,
   "metadata": {},
   "outputs": [
    {
     "name": "stdout",
     "output_type": "stream",
     "text": [
      "100.0\n",
      "92.3076923076923\n"
     ]
    }
   ],
   "source": [
    "TP = confusion[0, 0]\n",
    "TN = confusion[1, 1]\n",
    "FP = confusion[0, 1]\n",
    "FN = confusion[1, 0]\n",
    "classification_error = (FP + FN) / float(TP + TN + FP + FN)\n",
    "\n",
    "\n",
    "from sklearn import metrics\n",
    "RF_sensitivity =  (TP / float(FN + TP)) * 100\n",
    "\n",
    "print(RF_sensitivity)\n",
    "RF_specificity = (TN / (TN + FP)) * 100\n",
    "print(RF_specificity)"
   ]
  },
  {
   "cell_type": "code",
   "execution_count": 30,
   "metadata": {},
   "outputs": [
    {
     "data": {
      "text/plain": [
       "['Random_forest.pkl']"
      ]
     },
     "execution_count": 30,
     "metadata": {},
     "output_type": "execute_result"
    }
   ],
   "source": [
    "import joblib\n",
    "joblib.dump(clf, \"Random_forest.pkl\")"
   ]
  },
  {
   "cell_type": "markdown",
   "metadata": {},
   "source": [
    "# Support Vector Machine - Linear Kernel"
   ]
  },
  {
   "cell_type": "code",
   "execution_count": 31,
   "metadata": {},
   "outputs": [],
   "source": [
    "from sklearn.svm import SVC\n",
    "neigh = SVC(kernel='linear')\n",
    "neigh.fit(os_data_X, os_data_y.values.ravel())\n",
    "preds_SVM = neigh.predict(data_test_X)"
   ]
  },
  {
   "cell_type": "code",
   "execution_count": 32,
   "metadata": {},
   "outputs": [
    {
     "data": {
      "image/png": "[encoded data removed]",
      "text/plain": [
       "<Figure size 360x360 with 2 Axes>"
      ]
     },
     "metadata": {},
     "output_type": "display_data"
    }
   ],
   "source": [
    "cm = pd.crosstab(data_test_y.values.ravel(), preds_SVM, rownames=['Actual'], colnames=['Predicted'])\n",
    "fig, (ax1) = plt.subplots(ncols=1, figsize=(5,5))\n",
    "sns.heatmap(cm, \n",
    "            xticklabels=['Not Fraud', 'Fraud'],\n",
    "            yticklabels=['Not Fraud', 'Fraud'],\n",
    "            annot=True,ax=ax1,\n",
    "            linewidths=.2,linecolor=\"Darkblue\", cmap=\"Blues\")\n",
    "plt.title('Confusion Matrix', fontsize=14)\n",
    "plt.show()"
   ]
  },
  {
   "cell_type": "code",
   "execution_count": 33,
   "metadata": {},
   "outputs": [
    {
     "name": "stdout",
     "output_type": "stream",
     "text": [
      "              precision    recall  f1-score   support\n",
      "\n",
      "           0       1.00      1.00      1.00      2988\n",
      "           1       0.80      1.00      0.89        12\n",
      "\n",
      "    accuracy                           1.00      3000\n",
      "   macro avg       0.90      1.00      0.94      3000\n",
      "weighted avg       1.00      1.00      1.00      3000\n",
      "\n",
      "100.0\n",
      "-335.0\n"
     ]
    }
   ],
   "source": [
    "SVM_linear = roc_auc_score(data_test_y.values.ravel(), preds_SVM)*100\n",
    "print(classification_report(data_test_y.values.ravel(), preds_SVM))\n",
    "confusion = confusion_matrix(data_test_y.values.ravel(), preds_SVM)\n",
    "TP = confusion[0, 0]\n",
    "TN = confusion[1, 1]\n",
    "FP = confusion[0, 1]\n",
    "FN = confusion[1, 0]\n",
    "classification_error = (FP + FN) / float(TP + TN + FP + FN)\n",
    "from sklearn import metrics\n",
    "SVM_sensitivity =  (TP / float(FN + TP)) * 100\n",
    "\n",
    "print(SVM_sensitivity)\n",
    "SVM_specificity = (0.65-(TN / (FN + FP))) * 100\n",
    "print(SVM_specificity)"
   ]
  },
  {
   "cell_type": "markdown",
   "metadata": {},
   "source": [
    "# Support Vector Machine - RBF Kernel"
   ]
  },
  {
   "cell_type": "code",
   "execution_count": 34,
   "metadata": {},
   "outputs": [],
   "source": [
    "from sklearn.svm import SVC\n",
    "neigh1 = SVC(kernel='rbf')\n",
    "neigh1.fit(os_data_X, os_data_y.values.ravel())\n",
    "preds_SVM = neigh1.predict(data_test_X)"
   ]
  },
  {
   "cell_type": "code",
   "execution_count": 35,
   "metadata": {},
   "outputs": [
    {
     "data": {
      "image/png": "[encoded data removed]",
      "text/plain": [
       "<Figure size 360x360 with 2 Axes>"
      ]
     },
     "metadata": {},
     "output_type": "display_data"
    }
   ],
   "source": [
    "cm = pd.crosstab(data_test_y.values.ravel(), preds_SVM, rownames=['Actual'], colnames=['Predicted'])\n",
    "fig, (ax1) = plt.subplots(ncols=1, figsize=(5,5))\n",
    "sns.heatmap(cm, \n",
    "            xticklabels=['Not Fraud', 'Fraud'],\n",
    "            yticklabels=['Not Fraud', 'Fraud'],\n",
    "            annot=True,ax=ax1,\n",
    "            linewidths=.2,linecolor=\"Darkblue\", cmap=\"Blues\")\n",
    "plt.title('Confusion Matrix', fontsize=14)\n",
    "plt.show()"
   ]
  },
  {
   "cell_type": "code",
   "execution_count": 36,
   "metadata": {},
   "outputs": [
    {
     "name": "stdout",
     "output_type": "stream",
     "text": [
      "              precision    recall  f1-score   support\n",
      "\n",
      "           0       1.00      0.58      0.73      2988\n",
      "           1       0.01      0.92      0.02        12\n",
      "\n",
      "    accuracy                           0.58      3000\n",
      "   macro avg       0.50      0.75      0.37      3000\n",
      "weighted avg       1.00      0.58      0.73      3000\n",
      "\n",
      "99.94206257242179\n",
      "64.12974683544303\n"
     ]
    }
   ],
   "source": [
    "SVM_rbf = roc_auc_score(data_test_y.values.ravel(), preds_SVM) *100\n",
    "print(classification_report(data_test_y.values.ravel(), preds_SVM))\n",
    "confusion = confusion_matrix(data_test_y.values.ravel(), preds_SVM)\n",
    "TP = confusion[0, 0]\n",
    "TN = confusion[1, 1]\n",
    "FP = confusion[0, 1]\n",
    "FN = confusion[1, 0]\n",
    "classification_error = (FP + FN) / float(TP + TN + FP + FN)\n",
    "from sklearn import metrics\n",
    "SVM_sensitivity1 =  (TP / float(FN + TP)) * 100\n",
    "\n",
    "print(SVM_sensitivity1)\n",
    "SVM_specificity1 = (0.65-(TN / (FN + FP))) * 100\n",
    "print(SVM_specificity1)"
   ]
  },
  {
   "cell_type": "markdown",
   "metadata": {},
   "source": [
    "# KNeighborsClassifier"
   ]
  },
  {
   "cell_type": "code",
   "execution_count": 37,
   "metadata": {},
   "outputs": [],
   "source": [
    "from sklearn.neighbors import KNeighborsClassifier\n",
    "neigh = KNeighborsClassifier(n_neighbors=3)\n",
    "neigh.fit(os_data_X, os_data_y.values.ravel())\n",
    "preds_KNN = neigh.predict(data_test_X)"
   ]
  },
  {
   "cell_type": "code",
   "execution_count": 38,
   "metadata": {},
   "outputs": [
    {
     "data": {
      "image/png": "[encoded data removed]",
      "text/plain": [
       "<Figure size 360x360 with 2 Axes>"
      ]
     },
     "metadata": {},
     "output_type": "display_data"
    }
   ],
   "source": [
    "cm = pd.crosstab(data_test_y.values.ravel(), preds_KNN, rownames=['Actual'], colnames=['Predicted'])\n",
    "fig, (ax1) = plt.subplots(ncols=1, figsize=(5,5))\n",
    "sns.heatmap(cm, \n",
    "            xticklabels=['Not Fraud', 'Fraud'],\n",
    "            yticklabels=['Not Fraud', 'Fraud'],\n",
    "            annot=True,ax=ax1,\n",
    "            linewidths=.2,linecolor=\"Darkblue\", cmap=\"Blues\")\n",
    "plt.title('Confusion Matrix', fontsize=14)\n",
    "plt.show()"
   ]
  },
  {
   "cell_type": "code",
   "execution_count": 39,
   "metadata": {},
   "outputs": [
    {
     "name": "stdout",
     "output_type": "stream",
     "text": [
      "              precision    recall  f1-score   support\n",
      "\n",
      "           0       1.00      0.97      0.98      2988\n",
      "           1       0.09      0.83      0.16        12\n",
      "\n",
      "    accuracy                           0.97      3000\n",
      "   macro avg       0.54      0.90      0.57      3000\n",
      "weighted avg       1.00      0.97      0.98      3000\n",
      "\n"
     ]
    }
   ],
   "source": [
    "KNN_acc = roc_auc_score(data_test_y.values.ravel(), preds_KNN) *100\n",
    "print(classification_report(data_test_y.values.ravel(), preds_KNN))"
   ]
  },
  {
   "cell_type": "code",
   "execution_count": 40,
   "metadata": {},
   "outputs": [
    {
     "name": "stdout",
     "output_type": "stream",
     "text": [
      "99.93074792243767\n",
      "8.928571428571429\n"
     ]
    }
   ],
   "source": [
    "confusion = confusion_matrix(data_test_y.values.ravel(), preds_KNN)\n",
    "TP = confusion[0, 0]\n",
    "TN = confusion[1, 1]\n",
    "FP = confusion[0, 1]\n",
    "FN = confusion[1, 0]\n",
    "classification_error = (FP + FN) / float(TP + TN + FP + FN)\n",
    "\n",
    "\n",
    "from sklearn import metrics\n",
    "KNN_sensitivity =  (TP / float(FN + TP)) * 100\n",
    "\n",
    "print(KNN_sensitivity)\n",
    "KNN_specificity = (TN / (TN + FP)) * 100\n",
    "print(KNN_specificity)"
   ]
  },
  {
   "cell_type": "code",
   "execution_count": 41,
   "metadata": {},
   "outputs": [
    {
     "data": {
      "text/plain": [
       "['KNN.pkl']"
      ]
     },
     "execution_count": 41,
     "metadata": {},
     "output_type": "execute_result"
    }
   ],
   "source": [
    "import joblib\n",
    "joblib.dump(clf, \"KNN.pkl\")"
   ]
  },
  {
   "cell_type": "markdown",
   "metadata": {},
   "source": [
    "# DecisionTreeClassifier"
   ]
  },
  {
   "cell_type": "code",
   "execution_count": 42,
   "metadata": {},
   "outputs": [],
   "source": [
    "from sklearn import tree\n",
    "clf = tree.DecisionTreeClassifier()\n",
    "clf.fit(os_data_X, os_data_y.values.ravel())\n",
    "pred_DT = clf.predict(data_test_X)"
   ]
  },
  {
   "cell_type": "code",
   "execution_count": 43,
   "metadata": {},
   "outputs": [
    {
     "data": {
      "image/png": "[encoded data removed]",
      "text/plain": [
       "<Figure size 360x360 with 2 Axes>"
      ]
     },
     "metadata": {},
     "output_type": "display_data"
    }
   ],
   "source": [
    "cm = pd.crosstab(data_test_y.values.ravel(), pred_DT, rownames=['Actual'], colnames=['Predicted'])\n",
    "fig, (ax1) = plt.subplots(ncols=1, figsize=(5,5))\n",
    "sns.heatmap(cm, \n",
    "            xticklabels=['Not Fraud', 'Fraud'],\n",
    "            yticklabels=['Not Fraud', 'Fraud'],\n",
    "            annot=True,ax=ax1,\n",
    "            linewidths=.2,linecolor=\"Darkblue\", cmap=\"Blues\")\n",
    "plt.title('Confusion Matrix', fontsize=14)\n",
    "plt.show()"
   ]
  },
  {
   "cell_type": "code",
   "execution_count": 44,
   "metadata": {},
   "outputs": [
    {
     "name": "stdout",
     "output_type": "stream",
     "text": [
      "              precision    recall  f1-score   support\n",
      "\n",
      "           0       1.00      1.00      1.00      2988\n",
      "           1       0.79      0.92      0.85        12\n",
      "\n",
      "    accuracy                           1.00      3000\n",
      "   macro avg       0.89      0.96      0.92      3000\n",
      "weighted avg       1.00      1.00      1.00      3000\n",
      "\n"
     ]
    }
   ],
   "source": [
    "DT_ACC = roc_auc_score(data_test_y.values.ravel(), pred_DT)* 100\n",
    "print(classification_report(data_test_y.values.ravel(), pred_DT))"
   ]
  },
  {
   "cell_type": "code",
   "execution_count": 45,
   "metadata": {},
   "outputs": [
    {
     "name": "stdout",
     "output_type": "stream",
     "text": [
      "99.96651038178165\n",
      "78.57142857142857\n"
     ]
    }
   ],
   "source": [
    "confusion = confusion_matrix(data_test_y.values.ravel(), pred_DT)\n",
    "TP = confusion[0, 0]\n",
    "TN = confusion[1, 1]\n",
    "FP = confusion[0, 1]\n",
    "FN = confusion[1, 0]\n",
    "classification_error = (FP + FN) / float(TP + TN + FP + FN)\n",
    "\n",
    "\n",
    "from sklearn import metrics\n",
    "DT_sensitivity =  (TP / float(FN + TP)) * 100\n",
    "\n",
    "print(DT_sensitivity)\n",
    "DT_specificity = (TN / (TN + FP)) * 100\n",
    "print(DT_specificity)"
   ]
  },
  {
   "cell_type": "code",
   "execution_count": 46,
   "metadata": {},
   "outputs": [
    {
     "data": {
      "text/plain": [
       "['DT.pkl']"
      ]
     },
     "execution_count": 46,
     "metadata": {},
     "output_type": "execute_result"
    }
   ],
   "source": [
    "import joblib\n",
    "joblib.dump(clf, \"DT.pkl\")"
   ]
  },
  {
   "cell_type": "markdown",
   "metadata": {},
   "source": [
    "# Gaussian Naive Bayes"
   ]
  },
  {
   "cell_type": "code",
   "execution_count": 47,
   "metadata": {},
   "outputs": [],
   "source": [
    "from sklearn.naive_bayes import GaussianNB\n",
    "clf = GaussianNB()\n",
    "clf.fit(os_data_X, os_data_y.values.ravel())\n",
    "pred_GNB = clf.predict(data_test_X)"
   ]
  },
  {
   "cell_type": "code",
   "execution_count": 48,
   "metadata": {},
   "outputs": [
    {
     "data": {
      "image/png": "[encoded data removed]",
      "text/plain": [
       "<Figure size 360x360 with 2 Axes>"
      ]
     },
     "metadata": {},
     "output_type": "display_data"
    }
   ],
   "source": [
    "cm = pd.crosstab(data_test_y.values.ravel(), pred_GNB, rownames=['Actual'], colnames=['Predicted'])\n",
    "fig, (ax1) = plt.subplots(ncols=1, figsize=(5,5))\n",
    "sns.heatmap(cm, \n",
    "            xticklabels=['Not Fraud', 'Fraud'],\n",
    "            yticklabels=['Not Fraud', 'Fraud'],\n",
    "            annot=True,ax=ax1,\n",
    "            linewidths=.2,linecolor=\"Darkblue\", cmap=\"Blues\")\n",
    "plt.title('Confusion Matrix', fontsize=14)\n",
    "plt.show()"
   ]
  },
  {
   "cell_type": "code",
   "execution_count": 49,
   "metadata": {},
   "outputs": [
    {
     "name": "stdout",
     "output_type": "stream",
     "text": [
      "              precision    recall  f1-score   support\n",
      "\n",
      "           0       1.00      0.99      1.00      2988\n",
      "           1       0.32      0.92      0.48        12\n",
      "\n",
      "    accuracy                           0.99      3000\n",
      "   macro avg       0.66      0.95      0.74      3000\n",
      "weighted avg       1.00      0.99      0.99      3000\n",
      "\n"
     ]
    }
   ],
   "source": [
    "GNB_acc = roc_auc_score(data_test_y.values.ravel(), pred_GNB) *100\n",
    "print(classification_report(data_test_y.values.ravel(), pred_GNB))"
   ]
  },
  {
   "cell_type": "code",
   "execution_count": 50,
   "metadata": {},
   "outputs": [
    {
     "name": "stdout",
     "output_type": "stream",
     "text": [
      "99.96628455832771\n",
      "32.35294117647059\n"
     ]
    }
   ],
   "source": [
    "confusion = confusion_matrix(data_test_y.values.ravel(), pred_GNB)\n",
    "TP = confusion[0, 0]\n",
    "TN = confusion[1, 1]\n",
    "FP = confusion[0, 1]\n",
    "FN = confusion[1, 0]\n",
    "classification_error = (FP + FN) / float(TP + TN + FP + FN)\n",
    "\n",
    "\n",
    "from sklearn import metrics\n",
    "GNB_sensitivity =  (TP / float(FN + TP)) * 100\n",
    "\n",
    "print(GNB_sensitivity)\n",
    "GNB_specificity = (TN / (TN + FP)) * 100\n",
    "print(GNB_specificity)"
   ]
  },
  {
   "cell_type": "markdown",
   "metadata": {},
   "source": [
    "# LinearRegression"
   ]
  },
  {
   "cell_type": "code",
   "execution_count": 51,
   "metadata": {},
   "outputs": [],
   "source": [
    "from sklearn.linear_model import LinearRegression\n",
    "clf = LinearRegression()\n",
    "clf.fit(os_data_X, os_data_y.values.ravel())\n",
    "pred_lr = clf.predict(data_test_X)"
   ]
  },
  {
   "cell_type": "code",
   "execution_count": 52,
   "metadata": {},
   "outputs": [
    {
     "data": {
      "image/png": "[encoded data removed]",
      "text/plain": [
       "<Figure size 360x360 with 2 Axes>"
      ]
     },
     "metadata": {},
     "output_type": "display_data"
    }
   ],
   "source": [
    "cm = pd.crosstab(data_test_y.values.ravel(), pred_lr, rownames=['Actual'], colnames=['Predicted'])\n",
    "fig, (ax1) = plt.subplots(ncols=1, figsize=(5,5))\n",
    "sns.heatmap(cm, \n",
    "            xticklabels=['Not Fraud', 'Fraud'],\n",
    "            yticklabels=['Not Fraud', 'Fraud'],\n",
    "            annot=True,ax=ax1,\n",
    "            linewidths=.2,linecolor=\"Darkblue\", cmap=\"Blues\")\n",
    "plt.title('Confusion Matrix', fontsize=14)\n",
    "plt.show()"
   ]
  },
  {
   "cell_type": "code",
   "execution_count": 53,
   "metadata": {},
   "outputs": [],
   "source": [
    "lr_acc = roc_auc_score(data_test_y.values.ravel(), pred_lr) *100"
   ]
  },
  {
   "cell_type": "markdown",
   "metadata": {},
   "source": [
    "# LightGBM"
   ]
  },
  {
   "cell_type": "code",
   "execution_count": 54,
   "metadata": {},
   "outputs": [],
   "source": [
    "\n",
    "from lightgbm import LGBMClassifier\n",
    "import lightgbm as lgb\n",
    "clf = LGBMClassifier()\n",
    "clf.fit(os_data_X, os_data_y.values.ravel())\n",
    "pred_LGBM = clf.predict(data_test_X)"
   ]
  },
  {
   "cell_type": "code",
   "execution_count": 55,
   "metadata": {},
   "outputs": [
    {
     "data": {
      "image/png": "[encoded data removed]",
      "text/plain": [
       "<Figure size 360x360 with 2 Axes>"
      ]
     },
     "metadata": {},
     "output_type": "display_data"
    }
   ],
   "source": [
    "cm = pd.crosstab(data_test_y.values.ravel(), pred_LGBM, rownames=['Actual'], colnames=['Predicted'])\n",
    "fig, (ax1) = plt.subplots(ncols=1, figsize=(5,5))\n",
    "sns.heatmap(cm, \n",
    "            xticklabels=['Not Fraud', 'Fraud'],\n",
    "            yticklabels=['Not Fraud', 'Fraud'],\n",
    "            annot=True,ax=ax1,\n",
    "            linewidths=.2,linecolor=\"Darkblue\", cmap=\"Blues\")\n",
    "plt.title('Confusion Matrix', fontsize=14)\n",
    "plt.show()"
   ]
  },
  {
   "cell_type": "code",
   "execution_count": 56,
   "metadata": {},
   "outputs": [
    {
     "name": "stdout",
     "output_type": "stream",
     "text": [
      "              precision    recall  f1-score   support\n",
      "\n",
      "           0       1.00      1.00      1.00      2988\n",
      "           1       0.73      0.92      0.81        12\n",
      "\n",
      "    accuracy                           1.00      3000\n",
      "   macro avg       0.87      0.96      0.91      3000\n",
      "weighted avg       1.00      1.00      1.00      3000\n",
      "\n"
     ]
    }
   ],
   "source": [
    "LGBM_acc = roc_auc_score(data_test_y.values.ravel(), pred_LGBM) *100\n",
    "print(classification_report(data_test_y.values.ravel(), pred_LGBM))"
   ]
  },
  {
   "cell_type": "code",
   "execution_count": 57,
   "metadata": {},
   "outputs": [
    {
     "name": "stdout",
     "output_type": "stream",
     "text": [
      "99.96649916247907\n",
      "73.33333333333333\n"
     ]
    }
   ],
   "source": [
    "confusion = confusion_matrix(data_test_y.values.ravel(), pred_LGBM)\n",
    "TP = confusion[0, 0]\n",
    "TN = confusion[1, 1]\n",
    "FP = confusion[0, 1]\n",
    "FN = confusion[1, 0]\n",
    "classification_error = (FP + FN) / float(TP + TN + FP + FN)\n",
    "\n",
    "\n",
    "from sklearn import metrics\n",
    "LGBM_sensitivity =  (TP / float(FN + TP)) * 100\n",
    "\n",
    "print(LGBM_sensitivity)\n",
    "LGBM_specificity = (TN / (TN + FP)) * 100\n",
    "print(LGBM_specificity)"
   ]
  },
  {
   "cell_type": "markdown",
   "metadata": {},
   "source": [
    "# K-Fold"
   ]
  },
  {
   "cell_type": "code",
   "execution_count": 58,
   "metadata": {},
   "outputs": [
    {
     "name": "stdout",
     "output_type": "stream",
     "text": [
      "96.09262976770863\n"
     ]
    }
   ],
   "source": [
    "from sklearn.model_selection import KFold\n",
    "from sklearn.model_selection import cross_val_score\n",
    "import sklearn\n",
    "kfold = KFold(n_splits=2)\n",
    "score = cross_val_score(clf,os_data_X, os_data_y.values.ravel(), cv=kfold, scoring='accuracy').mean()\n",
    "kfold1 = score * 100\n",
    "print(kfold1)"
   ]
  },
  {
   "cell_type": "code",
   "execution_count": 59,
   "metadata": {},
   "outputs": [
    {
     "name": "stdout",
     "output_type": "stream",
     "text": [
      "99.95698308001147\n"
     ]
    }
   ],
   "source": [
    "kfold = KFold(n_splits=4)\n",
    "score = cross_val_score(clf,os_data_X, os_data_y.values.ravel(), cv=kfold, scoring='accuracy').mean()\n",
    "kfold2 = score * 100\n",
    "print(kfold2)"
   ]
  },
  {
   "cell_type": "code",
   "execution_count": 60,
   "metadata": {},
   "outputs": [
    {
     "name": "stdout",
     "output_type": "stream",
     "text": [
      "99.97132616487455\n"
     ]
    }
   ],
   "source": [
    "kfold = KFold(n_splits=6)\n",
    "score = cross_val_score(clf,os_data_X, os_data_y.values.ravel(), cv=kfold, scoring='accuracy').mean()\n",
    "kfold3 = score * 100\n",
    "print(kfold3)"
   ]
  },
  {
   "cell_type": "code",
   "execution_count": 61,
   "metadata": {},
   "outputs": [
    {
     "name": "stdout",
     "output_type": "stream",
     "text": [
      "99.97849770642202\n"
     ]
    }
   ],
   "source": [
    "kfold = KFold(n_splits=8)\n",
    "score = cross_val_score(clf,os_data_X, os_data_y.values.ravel(), cv=kfold, scoring='accuracy').mean()\n",
    "kfold4 = score * 100\n",
    "print(kfold4)"
   ]
  },
  {
   "cell_type": "code",
   "execution_count": 62,
   "metadata": {},
   "outputs": [
    {
     "name": "stdout",
     "output_type": "stream",
     "text": [
      "99.98566308243728\n"
     ]
    }
   ],
   "source": [
    "kfold = KFold(n_splits=10)\n",
    "score = cross_val_score(clf,os_data_X, os_data_y.values.ravel(), cv=kfold, scoring='accuracy').mean()\n",
    "kfold5 = score * 100\n",
    "print(kfold5)"
   ]
  },
  {
   "cell_type": "code",
   "execution_count": 63,
   "metadata": {},
   "outputs": [
    {
     "data": {
      "image/png": "[encoded data removed]",
      "text/plain": [
       "<Figure size 432x288 with 1 Axes>"
      ]
     },
     "metadata": {},
     "output_type": "display_data"
    }
   ],
   "source": [
    "import matplotlib.pyplot as plt\n",
    "import numpy as np\n",
    "  \n",
    "  \n",
    "x = np.array([kfold1,kfold2,kfold3,kfold4,kfold5])\n",
    "y = [0, 25,50,75,100]\n",
    "  \n",
    "plt.plot(x, y)\n",
    "plt.xlabel(\"Accuracy\")\n",
    "plt.ylabel(\"Y-axis\")\n",
    "plt.title(\"K-Fold Validation Accuracy\")\n",
    "plt.show()  # show first chart\n",
    "\n",
    "  \n",
    "# Show another chart with '-' dotted line\n",
    "plt.show()"
   ]
  },
  {
   "cell_type": "code",
   "execution_count": 64,
   "metadata": {},
   "outputs": [
    {
     "data": {
      "image/png": "[encoded data removed]",
      "text/plain": [
       "<Figure size 432x288 with 1 Axes>"
      ]
     },
     "metadata": {},
     "output_type": "display_data"
    }
   ],
   "source": [
    "import matplotlib.pyplot as plt\n",
    "import numpy as np\n",
    "  \n",
    "x = np.array([RF_ACC,SVM_linear,SVM_rbf,KNN_acc,DT_ACC,GNB_acc,lr_acc,LGBM_acc])\n",
    "y = [0,20,40,60,80,90,95,100]\n",
    "  \n",
    "# first plot with X and Y data\n",
    "plt.plot(x, y)\n",
    "  \n",
    "x1 = np.array([kfold1,kfold2,kfold3,kfold4,kfold5])\n",
    "y1 = [0,20,40,60,100]\n",
    "  \n",
    "# second plot with x1 and y1 data\n",
    "plt.plot(x1, y1, '-.')\n",
    "  \n",
    "plt.xlabel(\"Machine Learning vs K-fold\")\n",
    "plt.ylabel(\"Accuracy\")\n",
    "plt.title('Accuracy of ML & Kflod')\n",
    "plt.show()"
   ]
  },
  {
   "cell_type": "code",
   "execution_count": 65,
   "metadata": {},
   "outputs": [],
   "source": [
    "score = [RF_ACC,SVM_linear,SVM_rbf,KNN_acc,DT_ACC,GNB_acc,lr_acc,LGBM_acc]"
   ]
  },
  {
   "cell_type": "code",
   "execution_count": 66,
   "metadata": {},
   "outputs": [
    {
     "name": "stdout",
     "output_type": "stream",
     "text": [
      "[0 1 2 3 4 5 6 7]\n",
      "[99.98326639892905, 99.94979919678715, 74.6987951807229, 89.95983935742973, 95.78313253012047, 95.44846050870147, 99.78246318607765, 95.76639892904953]\n"
     ]
    }
   ],
   "source": [
    "#make variabel for save the result and to show it\n",
    "classifier = ('Random Forest','SVM-Linear','SVM-rbf','KNN','Decision Tree','Naive Bayes','LinearRegression','OLGBM')\n",
    "y_pos = np.arange(len(classifier))\n",
    "print(y_pos)\n",
    "print(score)"
   ]
  },
  {
   "cell_type": "code",
   "execution_count": 67,
   "metadata": {},
   "outputs": [
    {
     "data": {
      "image/png": "[encoded data removed]",
      "text/plain": [
       "<Figure size 432x288 with 1 Axes>"
      ]
     },
     "metadata": {},
     "output_type": "display_data"
    }
   ],
   "source": [
    "import matplotlib.pyplot as plt2\n",
    "plt2.barh(y_pos, score, align='center', alpha=0.5,color='blue')\n",
    "plt2.yticks(y_pos, classifier)\n",
    "plt2.xlabel('Score')\n",
    "plt2.title('Classification Performance')\n",
    "plt2.show()"
   ]
  }
 ],
 "metadata": {
  "kernelspec": {
   "display_name": "Python 3",
   "language": "python",
   "name": "python3"
  },
  "language_info": {
   "codemirror_mode": {
    "name": "ipython",
    "version": 3
   },
   "file_extension": ".py",
   "mimetype": "text/x-python",
   "name": "python",
   "nbconvert_exporter": "python",
   "pygments_lexer": "ipython3",
   "version": "3.7.3"
  }
 },
 "nbformat": 4,
 "nbformat_minor": 4
}
